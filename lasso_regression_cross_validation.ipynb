{
 "cells": [
  {
   "cell_type": "markdown",
   "id": "second-musical",
   "metadata": {},
   "source": [
    "# Replication of Table 2\n",
    "\n",
    "This notebook is trying to replicate Table 2 in Kosinksi's paper, i.e. train "
   ]
  },
  {
   "cell_type": "code",
   "execution_count": 1,
   "id": "differential-crisis",
   "metadata": {
    "id": "p0Ljc86Nd5VB"
   },
   "outputs": [],
   "source": [
    "import pandas as pd\n",
    "import numpy as np"
   ]
  },
  {
   "cell_type": "code",
   "execution_count": 2,
   "id": "departmental-evaluation",
   "metadata": {
    "tags": []
   },
   "outputs": [],
   "source": [
    "from data.load_data import load_faces, load_features\n",
    "\n",
    "features = load_features()\n",
    "faces = load_faces()"
   ]
  },
  {
   "cell_type": "code",
   "execution_count": 4,
   "id": "brave-texas",
   "metadata": {},
   "outputs": [],
   "source": [
    "def get_sample_and_label(row):\n",
    "    for i in ground_truth:\n",
    "        if ~np.isnan(row[i]):\n",
    "            return i, row[i]\n",
    "    print(f\"No label found for userid: {row['userid']}\")"
   ]
  },
  {
   "cell_type": "code",
   "execution_count": 5,
   "id": "major-engineering",
   "metadata": {},
   "outputs": [],
   "source": [
    "ground_truth = ['pol_dat_us', 'pol_dat_ca', 'pol_dat_uk', 'pol_fb_us']"
   ]
  },
  {
   "cell_type": "code",
   "execution_count": 6,
   "id": "ethical-bailey",
   "metadata": {},
   "outputs": [],
   "source": [
    "def get_not_nan_labels(colname):\n",
    "    col = faces[colname]\n",
    "    return col[col.notna()]"
   ]
  },
  {
   "cell_type": "code",
   "execution_count": 7,
   "id": "consecutive-tuition",
   "metadata": {},
   "outputs": [],
   "source": [
    "samples = {k: get_not_nan_labels(k) for k in ground_truth}"
   ]
  },
  {
   "cell_type": "code",
   "execution_count": 8,
   "id": "accessory-bidder",
   "metadata": {},
   "outputs": [
    {
     "data": {
      "text/plain": [
       "array([1., 1., 0., ..., 0., 0., 1.])"
      ]
     },
     "execution_count": 8,
     "metadata": {},
     "output_type": "execute_result"
    }
   ],
   "source": [
    "np.array(samples[ground_truth[0]].values)"
   ]
  },
  {
   "cell_type": "code",
   "execution_count": 9,
   "id": "incomplete-county",
   "metadata": {},
   "outputs": [
    {
     "data": {
      "text/plain": [
       "array([    759,     790,     943, ..., 1085790, 1085793, 1085795])"
      ]
     },
     "execution_count": 9,
     "metadata": {},
     "output_type": "execute_result"
    }
   ],
   "source": [
    "np.array(samples[ground_truth[0]].index)"
   ]
  },
  {
   "cell_type": "code",
   "execution_count": 10,
   "id": "protective-ozone",
   "metadata": {},
   "outputs": [],
   "source": [
    "np.random.seed(67)"
   ]
  },
  {
   "cell_type": "code",
   "execution_count": 11,
   "id": "found-idaho",
   "metadata": {},
   "outputs": [],
   "source": [
    "# num_of_training_samples = len(train_idx)"
   ]
  },
  {
   "cell_type": "code",
   "execution_count": 12,
   "id": "exposed-consent",
   "metadata": {},
   "outputs": [],
   "source": [
    "max_chunksize = 271448 # len(features) // 4"
   ]
  },
  {
   "cell_type": "code",
   "execution_count": 13,
   "id": "random-velvet",
   "metadata": {},
   "outputs": [],
   "source": [
    "# number_of_minibatches = 4\n",
    "# minibatch_chunk_size = num_of_training_samples // number_of_minibatches\n",
    "# minibatch_chunk_size"
   ]
  },
  {
   "cell_type": "code",
   "execution_count": 14,
   "id": "abroad-clark",
   "metadata": {},
   "outputs": [],
   "source": [
    "from sklearn.linear_model import SGDClassifier, Lasso\n",
    "\n",
    "model = SGDClassifier(alpha=0.01, penalty='elasticnet',loss='log')\n",
    "# model = Lasso(alpha=0.1)"
   ]
  },
  {
   "cell_type": "code",
   "execution_count": 15,
   "id": "greater-concrete",
   "metadata": {},
   "outputs": [],
   "source": [
    "def get_binary_accuracy(preds, actual):\n",
    "    num_of_correct_predictions = (preds == actual).sum()\n",
    "    accuracy = num_of_correct_predictions / len(actual)\n",
    "    return accuracy"
   ]
  },
  {
   "cell_type": "code",
   "execution_count": 22,
   "id": "dental-subcommittee",
   "metadata": {},
   "outputs": [
    {
     "name": "stderr",
     "output_type": "stream",
     "text": [
      "Sample pol_fb_us: 100%|███████████████████████████| 4/4 [01:18<00:00, 19.57s/it]\n"
     ]
    }
   ],
   "source": [
    "from tqdm import tqdm, trange\n",
    "\n",
    "max_chunksize = 271448 # len(features) // 4\n",
    "\n",
    "params = {\n",
    "    \"alpha\":0.01, \"penalty\":'elasticnet',\"loss\":'log'\n",
    "}\n",
    "models = {}\n",
    "\n",
    "with tqdm(ground_truth) as t:\n",
    "    for sample_name in t:\n",
    "        t.set_description(f'Sample {sample_name}')\n",
    "        model = SGDClassifier(**params)\n",
    "        sample = samples[sample_name]\n",
    "        indexes = np.array(sample.index) - 1\n",
    "        values = np.array(sample.values)\n",
    "        \n",
    "        \n",
    "        num_of_batches = len(indexes) // max_chunksize\n",
    "        \n",
    "        if num_of_batches == 0:\n",
    "            y = values\n",
    "            X = features[indexes]\n",
    "            model.fit(X, y)\n",
    "        else:\n",
    "            for i in range(num_of_batches):\n",
    "                batch_idx = indexes[max_chunksize * i : max_chunksize * (i + 1)]\n",
    "                y = values[max_chunksize * i : max_chunksize * (i + 1)]\n",
    "                X = features[batch_idx]\n",
    "                model.partial_fit(X, y, classes=[0,1])\n",
    "        \n",
    "        models[sample_name] = model"
   ]
  },
  {
   "cell_type": "code",
   "execution_count": 23,
   "id": "generous-andrew",
   "metadata": {},
   "outputs": [],
   "source": [
    "import joblib\n",
    "\n",
    "def save_model(model, filepath):\n",
    "    joblib.dump(model, filepath)"
   ]
  },
  {
   "cell_type": "code",
   "execution_count": 24,
   "id": "champion-citizen",
   "metadata": {},
   "outputs": [
    {
     "data": {
      "text/plain": [
       "{'pol_dat_us': SGDClassifier(alpha=0.01, loss='log', penalty='elasticnet'),\n",
       " 'pol_dat_ca': SGDClassifier(alpha=0.01, loss='log', penalty='elasticnet'),\n",
       " 'pol_dat_uk': SGDClassifier(alpha=0.01, loss='log', penalty='elasticnet'),\n",
       " 'pol_fb_us': SGDClassifier(alpha=0.01, loss='log', penalty='elasticnet')}"
      ]
     },
     "execution_count": 24,
     "metadata": {},
     "output_type": "execute_result"
    }
   ],
   "source": [
    "models"
   ]
  },
  {
   "cell_type": "code",
   "execution_count": 25,
   "id": "canadian-swimming",
   "metadata": {},
   "outputs": [],
   "source": [
    "for sample_name in ground_truth:\n",
    "    save_model(models[sample_name], f'./saved_model/lasso_{sample_name}.joblib')"
   ]
  },
  {
   "cell_type": "code",
   "execution_count": 27,
   "id": "boxed-weekly",
   "metadata": {},
   "outputs": [
    {
     "name": "stderr",
     "output_type": "stream",
     "text": [
      "Sample pol_fb_us: : 0it [01:45, ?it/s, imputing=pol_fb_us]  \n"
     ]
    }
   ],
   "source": [
    "acc_matrix = np.zeros([4,4])\n",
    "\n",
    "with tqdm(enumerate(ground_truth)) as t:\n",
    "    for i, sample_name in enumerate(ground_truth):\n",
    "        t.set_description(f'Sample {sample_name}')\n",
    "        model = models[sample_name]\n",
    "        \n",
    "        for j, test_sample in enumerate(ground_truth):\n",
    "            t.set_postfix({'imputing':test_sample})\n",
    "            \n",
    "            sample = samples[test_sample]\n",
    "            indexes = np.array(sample.index) - 1\n",
    "            values = np.array(sample.values)\n",
    "            \n",
    "            X = features[indexes]\n",
    "            y_pred = model.predict(X)\n",
    "            \n",
    "            acc = get_binary_accuracy(y_pred, values)\n",
    "            \n",
    "            acc_matrix[i,j] = acc\n"
   ]
  },
  {
   "cell_type": "code",
   "execution_count": 28,
   "id": "extreme-drink",
   "metadata": {},
   "outputs": [
    {
     "data": {
      "text/plain": [
       "array([[0.65417435, 0.61575936, 0.61173645, 0.66468552],\n",
       "       [0.55716935, 0.69984506, 0.62336849, 0.64930845],\n",
       "       [0.58892521, 0.64507911, 0.66893599, 0.64733656],\n",
       "       [0.62280098, 0.62462382, 0.61390832, 0.68395082]])"
      ]
     },
     "execution_count": 28,
     "metadata": {},
     "output_type": "execute_result"
    }
   ],
   "source": [
    "acc_matrix"
   ]
  },
  {
   "cell_type": "code",
   "execution_count": 37,
   "id": "solid-operations",
   "metadata": {},
   "outputs": [],
   "source": [
    "df = pd.DataFrame(acc_matrix * 100, columns=[f'accuracy on {i}' for i in ground_truth], index=[f'model trained on {i}' for i in ground_truth])"
   ]
  },
  {
   "cell_type": "code",
   "execution_count": 39,
   "id": "sonic-torture",
   "metadata": {},
   "outputs": [
    {
     "data": {
      "text/html": [
       "<div>\n",
       "<style scoped>\n",
       "    .dataframe tbody tr th:only-of-type {\n",
       "        vertical-align: middle;\n",
       "    }\n",
       "\n",
       "    .dataframe tbody tr th {\n",
       "        vertical-align: top;\n",
       "    }\n",
       "\n",
       "    .dataframe thead th {\n",
       "        text-align: right;\n",
       "    }\n",
       "</style>\n",
       "<table border=\"1\" class=\"dataframe\">\n",
       "  <thead>\n",
       "    <tr style=\"text-align: right;\">\n",
       "      <th></th>\n",
       "      <th>accuracy on pol_dat_us</th>\n",
       "      <th>accuracy on pol_dat_ca</th>\n",
       "      <th>accuracy on pol_dat_uk</th>\n",
       "      <th>accuracy on pol_fb_us</th>\n",
       "    </tr>\n",
       "  </thead>\n",
       "  <tbody>\n",
       "    <tr>\n",
       "      <th>model trained on pol_dat_us</th>\n",
       "      <td>65.417435</td>\n",
       "      <td>61.575936</td>\n",
       "      <td>61.173645</td>\n",
       "      <td>66.468552</td>\n",
       "    </tr>\n",
       "    <tr>\n",
       "      <th>model trained on pol_dat_ca</th>\n",
       "      <td>55.716935</td>\n",
       "      <td>69.984506</td>\n",
       "      <td>62.336849</td>\n",
       "      <td>64.930845</td>\n",
       "    </tr>\n",
       "    <tr>\n",
       "      <th>model trained on pol_dat_uk</th>\n",
       "      <td>58.892521</td>\n",
       "      <td>64.507911</td>\n",
       "      <td>66.893599</td>\n",
       "      <td>64.733656</td>\n",
       "    </tr>\n",
       "    <tr>\n",
       "      <th>model trained on pol_fb_us</th>\n",
       "      <td>62.280098</td>\n",
       "      <td>62.462382</td>\n",
       "      <td>61.390832</td>\n",
       "      <td>68.395082</td>\n",
       "    </tr>\n",
       "  </tbody>\n",
       "</table>\n",
       "</div>"
      ],
      "text/plain": [
       "                             accuracy on pol_dat_us  accuracy on pol_dat_ca  \\\n",
       "model trained on pol_dat_us               65.417435               61.575936   \n",
       "model trained on pol_dat_ca               55.716935               69.984506   \n",
       "model trained on pol_dat_uk               58.892521               64.507911   \n",
       "model trained on pol_fb_us                62.280098               62.462382   \n",
       "\n",
       "                             accuracy on pol_dat_uk  accuracy on pol_fb_us  \n",
       "model trained on pol_dat_us               61.173645              66.468552  \n",
       "model trained on pol_dat_ca               62.336849              64.930845  \n",
       "model trained on pol_dat_uk               66.893599              64.733656  \n",
       "model trained on pol_fb_us                61.390832              68.395082  "
      ]
     },
     "execution_count": 39,
     "metadata": {},
     "output_type": "execute_result"
    }
   ],
   "source": [
    "df"
   ]
  },
  {
   "cell_type": "code",
   "execution_count": 40,
   "id": "western-charm",
   "metadata": {},
   "outputs": [],
   "source": [
    "df.to_csv(\"./results/table_2_reproduced.csv\")"
   ]
  },
  {
   "cell_type": "code",
   "execution_count": null,
   "id": "colored-nursery",
   "metadata": {},
   "outputs": [],
   "source": []
  }
 ],
 "metadata": {
  "kernelspec": {
   "display_name": "Python 3 (ipykernel)",
   "language": "python",
   "name": "python3"
  },
  "language_info": {
   "codemirror_mode": {
    "name": "ipython",
    "version": 3
   },
   "file_extension": ".py",
   "mimetype": "text/x-python",
   "name": "python",
   "nbconvert_exporter": "python",
   "pygments_lexer": "ipython3",
   "version": "3.8.10"
  }
 },
 "nbformat": 4,
 "nbformat_minor": 5
}
