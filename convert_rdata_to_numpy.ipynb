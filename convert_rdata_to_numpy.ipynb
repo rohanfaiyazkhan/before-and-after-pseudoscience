{
 "cells": [
  {
   "cell_type": "code",
   "execution_count": 1,
   "id": "outer-unemployment",
   "metadata": {},
   "outputs": [
    {
     "data": {
      "text/html": [
       "\n",
       "        <span>StrVector with 1 elements.</span>\n",
       "        <table>\n",
       "        <tbody>\n",
       "          <tr>\n",
       "          \n",
       "            <td>\n",
       "            'vgg'\n",
       "            </td>\n",
       "          \n",
       "          </tr>\n",
       "        </tbody>\n",
       "        </table>\n",
       "        "
      ],
      "text/plain": [
       "<rpy2.robjects.vectors.StrVector object at 0x7fcae07a0f80> [RTYPES.STRSXP]\n",
       "R classes: ('character',)\n",
       "['vgg']"
      ]
     },
     "execution_count": 1,
     "metadata": {},
     "output_type": "execute_result"
    }
   ],
   "source": [
    "import rpy2.robjects as robjects\n",
    "from rpy2.robjects import pandas2ri\n",
    "pandas2ri.activate()\n",
    "import rpy2.robjects as ro\n",
    "from rpy2.robjects.packages import importr\n",
    "from rpy2.robjects import pandas2ri\n",
    "pandas2ri.activate()\n",
    "\n",
    "ro.r['load'](\"vgg.RData\")"
   ]
  },
  {
   "cell_type": "code",
   "execution_count": 5,
   "id": "wrong-latest",
   "metadata": {},
   "outputs": [],
   "source": [
    "import numpy as np\n",
    "import pandas as pd"
   ]
  },
  {
   "cell_type": "code",
   "execution_count": 2,
   "id": "published-sally",
   "metadata": {},
   "outputs": [],
   "source": [
    "vgg=ro.r['vgg']"
   ]
  },
  {
   "cell_type": "code",
   "execution_count": 4,
   "id": "powerful-torture",
   "metadata": {
    "collapsed": true,
    "jupyter": {
     "outputs_hidden": true
    },
    "tags": []
   },
   "outputs": [
    {
     "data": {
      "text/plain": [
       "array([[-0.46469116,  0.7696707 ,  0.28533868, ...,  0.87747054,\n",
       "         2.11865328, -0.50703953],\n",
       "       [-0.21614973, -0.71854827, -0.63225944, ...,  1.17226131,\n",
       "         0.89190028, -0.51673394],\n",
       "       [ 1.79423431, -0.72256002, -0.61127434, ...,  0.70538799,\n",
       "         1.560745  , -0.23539247],\n",
       "       [-0.61423214, -0.7236452 , -0.62584982, ...,  0.19128404,\n",
       "        -0.65864833, -0.50811584],\n",
       "       [-0.34029371,  2.30856862, -0.22744231, ..., -0.32783367,\n",
       "        -0.03412287, -0.43209115]])"
      ]
     },
     "execution_count": 4,
     "metadata": {},
     "output_type": "execute_result"
    }
   ],
   "source": [
    "vgg[:5]"
   ]
  },
  {
   "cell_type": "code",
   "execution_count": 5,
   "id": "thousand-waterproof",
   "metadata": {},
   "outputs": [
    {
     "data": {
      "text/plain": [
       "dtype('float64')"
      ]
     },
     "execution_count": 5,
     "metadata": {},
     "output_type": "execute_result"
    }
   ],
   "source": [
    "vgg.dtype"
   ]
  },
  {
   "cell_type": "code",
   "execution_count": 5,
   "id": "finished-jurisdiction",
   "metadata": {},
   "outputs": [],
   "source": [
    "np.save('./data/vgg.npy', vgg)"
   ]
  },
  {
   "cell_type": "code",
   "execution_count": 7,
   "id": "acquired-tract",
   "metadata": {},
   "outputs": [],
   "source": [
    "ro.r['load'](\"faces.RData\")\n",
    "faces=ro.r['d']"
   ]
  },
  {
   "cell_type": "code",
   "execution_count": 18,
   "id": "eligible-dress",
   "metadata": {},
   "outputs": [],
   "source": [
    "faces.to_csv('data/faces.csv')"
   ]
  },
  {
   "cell_type": "code",
   "execution_count": 2,
   "id": "exterior-sullivan",
   "metadata": {},
   "outputs": [],
   "source": [
    "vgg = np.load('./data/vgg.npy')"
   ]
  },
  {
   "cell_type": "code",
   "execution_count": 3,
   "id": "variable-behalf",
   "metadata": {},
   "outputs": [
    {
     "data": {
      "text/plain": [
       "(1085795, 2048)"
      ]
     },
     "execution_count": 3,
     "metadata": {},
     "output_type": "execute_result"
    }
   ],
   "source": [
    "vgg.shape"
   ]
  },
  {
   "cell_type": "code",
   "execution_count": 8,
   "id": "smaller-pontiac",
   "metadata": {},
   "outputs": [],
   "source": [
    "faces = pd.read_csv('data/faces.csv', index_col=0)"
   ]
  }
 ],
 "metadata": {
  "kernelspec": {
   "display_name": "Python 3 (ipykernel)",
   "language": "python",
   "name": "python3"
  },
  "language_info": {
   "codemirror_mode": {
    "name": "ipython",
    "version": 3
   },
   "file_extension": ".py",
   "mimetype": "text/x-python",
   "name": "python",
   "nbconvert_exporter": "python",
   "pygments_lexer": "ipython3",
   "version": "3.8.10"
  }
 },
 "nbformat": 4,
 "nbformat_minor": 5
}
