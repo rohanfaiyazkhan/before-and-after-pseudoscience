{
 "cells": [
  {
   "cell_type": "code",
   "execution_count": 1,
   "id": "neural-distributor",
   "metadata": {},
   "outputs": [],
   "source": [
    "from pathlib import Path\n",
    "import os\n",
    "from tqdm import tqdm\n",
    "from glob import glob\n",
    "from pathlib import Path\n",
    "import numpy as np\n",
    "import pandas as pd\n",
    "import torch\n",
    "from fastai.data.all import *\n",
    "from fastai.vision.all import *"
   ]
  },
  {
   "cell_type": "code",
   "execution_count": 2,
   "id": "fewer-poultry",
   "metadata": {},
   "outputs": [],
   "source": [
    "image_file_extensions = ('.png', '.jpg', '.jpeg', '.tiff', '.bmp', '.gif')\n",
    "\n",
    "def is_image_path_valid(path: Path):\n",
    "    return path.is_file() and path.suffix in image_file_extensions\n",
    "\n",
    "def load_image_file(path):\n",
    "    return Image.open(path)"
   ]
  },
  {
   "cell_type": "code",
   "execution_count": 3,
   "id": "corresponding-stroke",
   "metadata": {},
   "outputs": [],
   "source": [
    "from utils import load_images_recursively"
   ]
  },
  {
   "cell_type": "code",
   "execution_count": 4,
   "id": "intelligent-coordinator",
   "metadata": {},
   "outputs": [],
   "source": [
    "image_dir = Path(\"./data/new_crops\")"
   ]
  },
  {
   "cell_type": "code",
   "execution_count": 5,
   "id": "decent-constitutional",
   "metadata": {},
   "outputs": [],
   "source": [
    "# fns = get_image_files(image_dir / 'before')\n",
    "# failed = verify_images(fns)"
   ]
  },
  {
   "cell_type": "code",
   "execution_count": 6,
   "id": "steady-melissa",
   "metadata": {},
   "outputs": [],
   "source": [
    "def load_image_paths(path: Path):\n",
    "    fns = get_image_files(path)\n",
    "    \n",
    "    return fns"
   ]
  },
  {
   "cell_type": "code",
   "execution_count": 7,
   "id": "dying-adolescent",
   "metadata": {},
   "outputs": [],
   "source": [
    "before_paths = load_image_paths(image_dir / 'before')\n",
    "after_paths = load_image_paths(image_dir / 'after')"
   ]
  },
  {
   "cell_type": "code",
   "execution_count": 12,
   "id": "legitimate-president",
   "metadata": {},
   "outputs": [],
   "source": [
    "from PIL import Image\n",
    "import numpy as np\n",
    "\n",
    "mean_rgb = (131.0912, 103.8827, 91.4953)\n",
    "image_shape = (224,224,3)\n",
    "\n",
    "def load_image_for_feature_extraction(path='', shape=image_shape):\n",
    "    '''\n",
    "    Referenced from VGGFace2 Paper:\n",
    "    Q. Cao, L. Shen, W. Xie, O. M. Parkhi, and A. Zisserman, “VGGFace2: A dataset for recognising faces across pose and age,” arXiv:1710.08092 [cs], May 2018\n",
    "    '''\n",
    "    short_size = 224.0\n",
    "    crop_size = shape\n",
    "    img = Image.open(path)\n",
    "    im_shape = np.array(img.size)    # in the format of (width, height, *)\n",
    "    img = img.convert('RGB')\n",
    "\n",
    "    ratio = float(short_size) / np.min(im_shape)\n",
    "    img = img.resize(size=(int(np.ceil(im_shape[0] * ratio)),   # width\n",
    "                           int(np.ceil(im_shape[1] * ratio))),  # height\n",
    "                     resample=Image.BILINEAR)\n",
    "\n",
    "    x = np.array(img)  # image has been transposed into (height, width)\n",
    "    newshape = x.shape[:2]\n",
    "    h_start = (newshape[0] - crop_size[0])//2\n",
    "    w_start = (newshape[1] - crop_size[1])//2\n",
    "    x = x[h_start:h_start+crop_size[0], w_start:w_start+crop_size[1]]\n",
    "    \n",
    "    # normalize colors to prevent overfitting on color differences \n",
    "    x = x - mean_rgb\n",
    "    \n",
    "    # returns transformed image, and original image\n",
    "    return x"
   ]
  },
  {
   "cell_type": "code",
   "execution_count": 13,
   "id": "metallic-society",
   "metadata": {},
   "outputs": [],
   "source": [
    "import joblib\n",
    "\n",
    "lasso_model = joblib.load(\"./saved_model/lasso.joblib\")"
   ]
  },
  {
   "cell_type": "code",
   "execution_count": 14,
   "id": "radical-intent",
   "metadata": {},
   "outputs": [],
   "source": [
    "from saved_model.prepare_resnet50 import prepare_resnet_model\n",
    "\n",
    "resnet_model = prepare_resnet_model(\"./saved_model/resnet50_ft_weight.pkl\")"
   ]
  },
  {
   "cell_type": "code",
   "execution_count": 15,
   "id": "recorded-worthy",
   "metadata": {},
   "outputs": [],
   "source": [
    "from saved_model.binary_classifier import load_pretrained_classifier\n",
    "\n",
    "binary_classifier = load_pretrained_classifier('./saved_model/weights-2.pth')"
   ]
  },
  {
   "cell_type": "code",
   "execution_count": 16,
   "id": "robust-bolivia",
   "metadata": {},
   "outputs": [],
   "source": [
    "device = torch.device('cuda' if torch.cuda.is_available() else 'cpu')\n",
    "\n",
    "def full_lime_pipeline(x):\n",
    "    x = torch.Tensor(x.transpose(0, 3, 1, 2))  # nx3x224x224\n",
    "    x = x.to(device)\n",
    "    x = resnet_model(x).detach().cpu().numpy()\n",
    "    return lasso_model.predict(x)"
   ]
  },
  {
   "cell_type": "code",
   "execution_count": 17,
   "id": "seven-drama",
   "metadata": {},
   "outputs": [],
   "source": [
    "def full_nn_pipeline(x):\n",
    "    x = torch.Tensor(x.transpose(0, 3, 1, 2))  # 1x3x224x224\n",
    "    x = x.to(device)\n",
    "    x = resnet_model(x)\n",
    "    x = torch.sigmoid(binary_classifier(x))\n",
    "    x = torch.round(x)\n",
    "    return x.detach().cpu().numpy()"
   ]
  },
  {
   "cell_type": "code",
   "execution_count": 18,
   "id": "strategic-listing",
   "metadata": {},
   "outputs": [],
   "source": [
    "results = pd.DataFrame({'sample_paths': before_paths})"
   ]
  },
  {
   "cell_type": "code",
   "execution_count": 19,
   "id": "general-looking",
   "metadata": {},
   "outputs": [],
   "source": [
    "results['lasso_results_1'] = np.nan\n",
    "results['nn_results_1'] = np.nan\n",
    "results['lasso_results_2'] = np.nan\n",
    "results['nn_results_2'] = np.nan"
   ]
  },
  {
   "cell_type": "code",
   "execution_count": 20,
   "id": "recognized-bonus",
   "metadata": {},
   "outputs": [],
   "source": [
    "from tqdm import tqdm\n",
    "import math"
   ]
  },
  {
   "cell_type": "code",
   "execution_count": 21,
   "id": "alien-satisfaction",
   "metadata": {},
   "outputs": [
    {
     "data": {
      "text/plain": [
       "(1, 224, 224, 3)"
      ]
     },
     "execution_count": 21,
     "metadata": {},
     "output_type": "execute_result"
    }
   ],
   "source": [
    "np.expand_dims(load_image_for_feature_extraction(before_paths[0]), 0).shape"
   ]
  },
  {
   "cell_type": "code",
   "execution_count": 22,
   "id": "descending-glass",
   "metadata": {},
   "outputs": [
    {
     "name": "stderr",
     "output_type": "stream",
     "text": [
      "100%|███████████████████████████████████████| 1292/1292 [00:48<00:00, 26.59it/s]\n"
     ]
    }
   ],
   "source": [
    "def preprocess(path):\n",
    "    return np.expand_dims(load_image_for_feature_extraction(path), 0)\n",
    "\n",
    "for i, (before_path, after_path) in tqdm(enumerate(zip(before_paths, after_paths)), total=len(before_paths)):\n",
    "    if before_path.stem != after_path.stem:\n",
    "        print(f\"Before and after don't match for index {i}, before: {before_path}, after: {after_path}\")\n",
    "        break\n",
    "        \n",
    "    results.loc[i,'lasso_results_1'] = full_lime_pipeline(preprocess(before_path))\n",
    "    results.loc[i,'lasso_results_2'] = full_lime_pipeline(preprocess(after_path))\n",
    "    results.loc[i,'nn_results_1'] = full_nn_pipeline(preprocess(before_path)).squeeze()\n",
    "    results.loc[i,'nn_results_2'] = full_nn_pipeline(preprocess(after_path)).squeeze()"
   ]
  },
  {
   "cell_type": "code",
   "execution_count": 83,
   "id": "empty-pattern",
   "metadata": {},
   "outputs": [
    {
     "data": {
      "text/html": [
       "<div>\n",
       "<style scoped>\n",
       "    .dataframe tbody tr th:only-of-type {\n",
       "        vertical-align: middle;\n",
       "    }\n",
       "\n",
       "    .dataframe tbody tr th {\n",
       "        vertical-align: top;\n",
       "    }\n",
       "\n",
       "    .dataframe thead th {\n",
       "        text-align: right;\n",
       "    }\n",
       "</style>\n",
       "<table border=\"1\" class=\"dataframe\">\n",
       "  <thead>\n",
       "    <tr style=\"text-align: right;\">\n",
       "      <th></th>\n",
       "      <th>sample_paths</th>\n",
       "      <th>lasso_results_1</th>\n",
       "      <th>nn_results_1</th>\n",
       "      <th>lasso_results_2</th>\n",
       "      <th>nn_results_2</th>\n",
       "    </tr>\n",
       "  </thead>\n",
       "  <tbody>\n",
       "    <tr>\n",
       "      <th>0</th>\n",
       "      <td>data/new_crops/before/haircut face before after 3_89.jpg</td>\n",
       "      <td>1.0</td>\n",
       "      <td>1.0</td>\n",
       "      <td>0.0</td>\n",
       "      <td>1.0</td>\n",
       "    </tr>\n",
       "    <tr>\n",
       "      <th>1</th>\n",
       "      <td>data/new_crops/before/makeup before after 3_108.jpg</td>\n",
       "      <td>0.0</td>\n",
       "      <td>0.0</td>\n",
       "      <td>0.0</td>\n",
       "      <td>1.0</td>\n",
       "    </tr>\n",
       "    <tr>\n",
       "      <th>2</th>\n",
       "      <td>data/new_crops/before/makeup before after 3_55.jpg</td>\n",
       "      <td>0.0</td>\n",
       "      <td>0.0</td>\n",
       "      <td>0.0</td>\n",
       "      <td>0.0</td>\n",
       "    </tr>\n",
       "    <tr>\n",
       "      <th>3</th>\n",
       "      <td>data/new_crops/before/makeup before after arabic_51.jpg</td>\n",
       "      <td>1.0</td>\n",
       "      <td>1.0</td>\n",
       "      <td>1.0</td>\n",
       "      <td>1.0</td>\n",
       "    </tr>\n",
       "    <tr>\n",
       "      <th>4</th>\n",
       "      <td>data/new_crops/before/beard before after 2_30.jpg</td>\n",
       "      <td>0.0</td>\n",
       "      <td>0.0</td>\n",
       "      <td>0.0</td>\n",
       "      <td>0.0</td>\n",
       "    </tr>\n",
       "    <tr>\n",
       "      <th>...</th>\n",
       "      <td>...</td>\n",
       "      <td>...</td>\n",
       "      <td>...</td>\n",
       "      <td>...</td>\n",
       "      <td>...</td>\n",
       "    </tr>\n",
       "    <tr>\n",
       "      <th>1287</th>\n",
       "      <td>data/new_crops/before/makeup before after 3_39.jpg</td>\n",
       "      <td>1.0</td>\n",
       "      <td>0.0</td>\n",
       "      <td>1.0</td>\n",
       "      <td>1.0</td>\n",
       "    </tr>\n",
       "    <tr>\n",
       "      <th>1288</th>\n",
       "      <td>data/new_crops/before/glasses before after 1_11.jpg</td>\n",
       "      <td>0.0</td>\n",
       "      <td>0.0</td>\n",
       "      <td>0.0</td>\n",
       "      <td>0.0</td>\n",
       "    </tr>\n",
       "    <tr>\n",
       "      <th>1289</th>\n",
       "      <td>data/new_crops/before/beard before after 1_32.jpg</td>\n",
       "      <td>0.0</td>\n",
       "      <td>0.0</td>\n",
       "      <td>0.0</td>\n",
       "      <td>0.0</td>\n",
       "    </tr>\n",
       "    <tr>\n",
       "      <th>1290</th>\n",
       "      <td>data/new_crops/before/haircut face before after 1_69.jpg</td>\n",
       "      <td>0.0</td>\n",
       "      <td>0.0</td>\n",
       "      <td>0.0</td>\n",
       "      <td>1.0</td>\n",
       "    </tr>\n",
       "    <tr>\n",
       "      <th>1291</th>\n",
       "      <td>data/new_crops/before/beard before after face chinese 2_11.jpg</td>\n",
       "      <td>0.0</td>\n",
       "      <td>0.0</td>\n",
       "      <td>0.0</td>\n",
       "      <td>0.0</td>\n",
       "    </tr>\n",
       "  </tbody>\n",
       "</table>\n",
       "<p>1292 rows × 5 columns</p>\n",
       "</div>"
      ],
      "text/plain": [
       "                                                        sample_paths  \\\n",
       "0           data/new_crops/before/haircut face before after 3_89.jpg   \n",
       "1                data/new_crops/before/makeup before after 3_108.jpg   \n",
       "2                 data/new_crops/before/makeup before after 3_55.jpg   \n",
       "3            data/new_crops/before/makeup before after arabic_51.jpg   \n",
       "4                  data/new_crops/before/beard before after 2_30.jpg   \n",
       "...                                                              ...   \n",
       "1287              data/new_crops/before/makeup before after 3_39.jpg   \n",
       "1288             data/new_crops/before/glasses before after 1_11.jpg   \n",
       "1289               data/new_crops/before/beard before after 1_32.jpg   \n",
       "1290        data/new_crops/before/haircut face before after 1_69.jpg   \n",
       "1291  data/new_crops/before/beard before after face chinese 2_11.jpg   \n",
       "\n",
       "      lasso_results_1  nn_results_1  lasso_results_2  nn_results_2  \n",
       "0                 1.0           1.0              0.0           1.0  \n",
       "1                 0.0           0.0              0.0           1.0  \n",
       "2                 0.0           0.0              0.0           0.0  \n",
       "3                 1.0           1.0              1.0           1.0  \n",
       "4                 0.0           0.0              0.0           0.0  \n",
       "...               ...           ...              ...           ...  \n",
       "1287              1.0           0.0              1.0           1.0  \n",
       "1288              0.0           0.0              0.0           0.0  \n",
       "1289              0.0           0.0              0.0           0.0  \n",
       "1290              0.0           0.0              0.0           1.0  \n",
       "1291              0.0           0.0              0.0           0.0  \n",
       "\n",
       "[1292 rows x 5 columns]"
      ]
     },
     "execution_count": 83,
     "metadata": {},
     "output_type": "execute_result"
    }
   ],
   "source": [
    "results"
   ]
  },
  {
   "cell_type": "code",
   "execution_count": 38,
   "id": "lasting-acceptance",
   "metadata": {},
   "outputs": [
    {
     "name": "stdout",
     "output_type": "stream",
     "text": [
      "Total images: 1292\n",
      "Predictions that flipped between liberal and conservative using logistic regression model: 200\n",
      "Predictions that flipped between liberal and conservative using neural net: 428\n",
      "Predictions that flipped from liberal to conservative using logistic regression model: 92\n",
      "Predictions that flipped from conservative to liberal using logistic regression model: 108\n",
      "Predictions that flipped from liberal to conservative using neural network: 231\n",
      "Predictions that flipped from conservative to liberal using neural network: 197\n"
     ]
    }
   ],
   "source": [
    "total = len(results)\n",
    "print(f\"Total images: {total}\")\n",
    "\n",
    "lasso_1, lasso_2 = results['lasso_results_1'], results['lasso_results_2']\n",
    "\n",
    "lasso_flipped = (lasso_1 != lasso_2).sum()\n",
    "print(f\"Predictions that flipped between liberal and conservative using logistic regression model: {lasso_flipped}\")\n",
    "\n",
    "nn_flipped = (results['nn_results_1'] != results['nn_results_2']).sum()\n",
    "print(f\"Predictions that flipped between liberal and conservative using neural net: {nn_flipped}\")\n",
    "\n",
    "results['lasso_results_1'].isna().sum()\n",
    "\n",
    "lasso_lib_to_con = len(results[(results['lasso_results_1'] == 0) & (results['lasso_results_2'] == 1)])\n",
    "print(f\"Predictions that flipped from liberal to conservative using logistic regression model: {lasso_lib_to_con}\")\n",
    "\n",
    "lasso_con_to_lib = len(results[(results['lasso_results_1'] == 1) & (results['lasso_results_2'] == 0)])\n",
    "print(f\"Predictions that flipped from conservative to liberal using logistic regression model: {lasso_con_to_lib}\")\n",
    "\n",
    "nn_lib_to_con = len(results[(results['nn_results_1'] == 0) & (results['nn_results_2'] == 1)])\n",
    "print(f\"Predictions that flipped from liberal to conservative using neural network: {nn_lib_to_con}\")\n",
    "\n",
    "nn_con_to_lib = len(results[(results['nn_results_1'] == 1) & (results['nn_results_2'] == 0)])\n",
    "print(f\"Predictions that flipped from conservative to liberal using neural network: {nn_con_to_lib}\")"
   ]
  },
  {
   "cell_type": "code",
   "execution_count": 3,
   "id": "textile-prerequisite",
   "metadata": {},
   "outputs": [],
   "source": [
    "results_path = Path(\"./results/batch_preds.csv\")"
   ]
  },
  {
   "cell_type": "code",
   "execution_count": 105,
   "id": "suburban-amount",
   "metadata": {},
   "outputs": [],
   "source": [
    "results.to_csv(results_path)"
   ]
  },
  {
   "cell_type": "code",
   "execution_count": 6,
   "id": "pressing-gathering",
   "metadata": {},
   "outputs": [],
   "source": [
    "pred_results = pd.read_csv(results_path, index_col=0)"
   ]
  },
  {
   "cell_type": "code",
   "execution_count": 7,
   "id": "convinced-memphis",
   "metadata": {},
   "outputs": [
    {
     "data": {
      "text/html": [
       "<div>\n",
       "<style scoped>\n",
       "    .dataframe tbody tr th:only-of-type {\n",
       "        vertical-align: middle;\n",
       "    }\n",
       "\n",
       "    .dataframe tbody tr th {\n",
       "        vertical-align: top;\n",
       "    }\n",
       "\n",
       "    .dataframe thead th {\n",
       "        text-align: right;\n",
       "    }\n",
       "</style>\n",
       "<table border=\"1\" class=\"dataframe\">\n",
       "  <thead>\n",
       "    <tr style=\"text-align: right;\">\n",
       "      <th></th>\n",
       "      <th>sample_paths</th>\n",
       "      <th>lasso_results_1</th>\n",
       "      <th>nn_results_1</th>\n",
       "      <th>lasso_results_2</th>\n",
       "      <th>nn_results_2</th>\n",
       "    </tr>\n",
       "  </thead>\n",
       "  <tbody>\n",
       "    <tr>\n",
       "      <th>0</th>\n",
       "      <td>data/new_crops/before/haircut face before after 3_89.jpg</td>\n",
       "      <td>1.0</td>\n",
       "      <td>1.0</td>\n",
       "      <td>0.0</td>\n",
       "      <td>1.0</td>\n",
       "    </tr>\n",
       "    <tr>\n",
       "      <th>1</th>\n",
       "      <td>data/new_crops/before/makeup before after 3_108.jpg</td>\n",
       "      <td>0.0</td>\n",
       "      <td>0.0</td>\n",
       "      <td>0.0</td>\n",
       "      <td>1.0</td>\n",
       "    </tr>\n",
       "    <tr>\n",
       "      <th>2</th>\n",
       "      <td>data/new_crops/before/makeup before after 3_55.jpg</td>\n",
       "      <td>0.0</td>\n",
       "      <td>0.0</td>\n",
       "      <td>0.0</td>\n",
       "      <td>0.0</td>\n",
       "    </tr>\n",
       "    <tr>\n",
       "      <th>3</th>\n",
       "      <td>data/new_crops/before/makeup before after arabic_51.jpg</td>\n",
       "      <td>1.0</td>\n",
       "      <td>1.0</td>\n",
       "      <td>1.0</td>\n",
       "      <td>1.0</td>\n",
       "    </tr>\n",
       "    <tr>\n",
       "      <th>4</th>\n",
       "      <td>data/new_crops/before/beard before after 2_30.jpg</td>\n",
       "      <td>0.0</td>\n",
       "      <td>0.0</td>\n",
       "      <td>0.0</td>\n",
       "      <td>0.0</td>\n",
       "    </tr>\n",
       "    <tr>\n",
       "      <th>...</th>\n",
       "      <td>...</td>\n",
       "      <td>...</td>\n",
       "      <td>...</td>\n",
       "      <td>...</td>\n",
       "      <td>...</td>\n",
       "    </tr>\n",
       "    <tr>\n",
       "      <th>1287</th>\n",
       "      <td>data/new_crops/before/makeup before after 3_39.jpg</td>\n",
       "      <td>1.0</td>\n",
       "      <td>0.0</td>\n",
       "      <td>1.0</td>\n",
       "      <td>1.0</td>\n",
       "    </tr>\n",
       "    <tr>\n",
       "      <th>1288</th>\n",
       "      <td>data/new_crops/before/glasses before after 1_11.jpg</td>\n",
       "      <td>0.0</td>\n",
       "      <td>0.0</td>\n",
       "      <td>0.0</td>\n",
       "      <td>0.0</td>\n",
       "    </tr>\n",
       "    <tr>\n",
       "      <th>1289</th>\n",
       "      <td>data/new_crops/before/beard before after 1_32.jpg</td>\n",
       "      <td>0.0</td>\n",
       "      <td>0.0</td>\n",
       "      <td>0.0</td>\n",
       "      <td>0.0</td>\n",
       "    </tr>\n",
       "    <tr>\n",
       "      <th>1290</th>\n",
       "      <td>data/new_crops/before/haircut face before after 1_69.jpg</td>\n",
       "      <td>0.0</td>\n",
       "      <td>0.0</td>\n",
       "      <td>0.0</td>\n",
       "      <td>1.0</td>\n",
       "    </tr>\n",
       "    <tr>\n",
       "      <th>1291</th>\n",
       "      <td>data/new_crops/before/beard before after face chinese 2_11.jpg</td>\n",
       "      <td>0.0</td>\n",
       "      <td>0.0</td>\n",
       "      <td>0.0</td>\n",
       "      <td>0.0</td>\n",
       "    </tr>\n",
       "  </tbody>\n",
       "</table>\n",
       "<p>1292 rows × 5 columns</p>\n",
       "</div>"
      ],
      "text/plain": [
       "                                                        sample_paths  \\\n",
       "0           data/new_crops/before/haircut face before after 3_89.jpg   \n",
       "1                data/new_crops/before/makeup before after 3_108.jpg   \n",
       "2                 data/new_crops/before/makeup before after 3_55.jpg   \n",
       "3            data/new_crops/before/makeup before after arabic_51.jpg   \n",
       "4                  data/new_crops/before/beard before after 2_30.jpg   \n",
       "...                                                              ...   \n",
       "1287              data/new_crops/before/makeup before after 3_39.jpg   \n",
       "1288             data/new_crops/before/glasses before after 1_11.jpg   \n",
       "1289               data/new_crops/before/beard before after 1_32.jpg   \n",
       "1290        data/new_crops/before/haircut face before after 1_69.jpg   \n",
       "1291  data/new_crops/before/beard before after face chinese 2_11.jpg   \n",
       "\n",
       "      lasso_results_1  nn_results_1  lasso_results_2  nn_results_2  \n",
       "0                 1.0           1.0              0.0           1.0  \n",
       "1                 0.0           0.0              0.0           1.0  \n",
       "2                 0.0           0.0              0.0           0.0  \n",
       "3                 1.0           1.0              1.0           1.0  \n",
       "4                 0.0           0.0              0.0           0.0  \n",
       "...               ...           ...              ...           ...  \n",
       "1287              1.0           0.0              1.0           1.0  \n",
       "1288              0.0           0.0              0.0           0.0  \n",
       "1289              0.0           0.0              0.0           0.0  \n",
       "1290              0.0           0.0              0.0           1.0  \n",
       "1291              0.0           0.0              0.0           0.0  \n",
       "\n",
       "[1292 rows x 5 columns]"
      ]
     },
     "execution_count": 7,
     "metadata": {},
     "output_type": "execute_result"
    }
   ],
   "source": [
    "pred_results"
   ]
  },
  {
   "cell_type": "code",
   "execution_count": 22,
   "id": "marine-henry",
   "metadata": {},
   "outputs": [],
   "source": [
    "lasso_1 = pred_results['lasso_results_1']\n",
    "lasso_2 = pred_results['lasso_results_2']\n",
    "nn_1 = pred_results['nn_results_1']\n",
    "nn_2 = pred_results['nn_results_2']\n",
    "fns = pred_results['sample_paths']"
   ]
  },
  {
   "cell_type": "code",
   "execution_count": 23,
   "id": "weekly-complex",
   "metadata": {},
   "outputs": [],
   "source": [
    "# extract filename without extension from path\n",
    "fns = fns.map(lambda fn: Path(fn).stem)"
   ]
  },
  {
   "cell_type": "code",
   "execution_count": 40,
   "id": "dynamic-basket",
   "metadata": {},
   "outputs": [],
   "source": [
    "categories = fns.map(lambda fn: fn.split()[0])"
   ]
  },
  {
   "cell_type": "code",
   "execution_count": 31,
   "id": "chemical-processing",
   "metadata": {},
   "outputs": [],
   "source": [
    "def get_cat(stem):\n",
    "    cat_dict = {\n",
    "        'makeupe': 'makeup',\n",
    "        'hiardoo': 'hairdoo',\n",
    "        'hairdoocut': 'haircut'\n",
    "    }\n",
    "    \n",
    "    first_word = stem.split()[0]\n",
    "    \n",
    "    if first_word in cat_dict.keys():\n",
    "        return cat_dict[stem]\n",
    "    else:\n",
    "        return first_word"
   ]
  },
  {
   "cell_type": "code",
   "execution_count": 41,
   "id": "hawaiian-culture",
   "metadata": {},
   "outputs": [
    {
     "data": {
      "text/plain": [
       "array(['haircut', 'makeup', 'beard', 'images', 'makeupe', 'drag',\n",
       "       'hiardoo', 'hairdoo', 'glasses', 'hairdoocut'], dtype=object)"
      ]
     },
     "execution_count": 41,
     "metadata": {},
     "output_type": "execute_result"
    }
   ],
   "source": [
    "categories.unique()"
   ]
  },
  {
   "cell_type": "code",
   "execution_count": 42,
   "id": "moved-ribbon",
   "metadata": {},
   "outputs": [],
   "source": [
    "categories = categories.map(get_cat)"
   ]
  },
  {
   "cell_type": "code",
   "execution_count": 49,
   "id": "israeli-heavy",
   "metadata": {},
   "outputs": [],
   "source": [
    "idx = np.where(categories == 'images')[0]"
   ]
  },
  {
   "cell_type": "code",
   "execution_count": 54,
   "id": "smaller-industry",
   "metadata": {},
   "outputs": [],
   "source": [
    "categories[idx] = fns[idx].map(lambda s: s.split()[2])"
   ]
  },
  {
   "cell_type": "code",
   "execution_count": 56,
   "id": "composed-worse",
   "metadata": {},
   "outputs": [
    {
     "data": {
      "text/plain": [
       "array(['haircut', 'makeup', 'beard', 'drag', 'hairdoo', 'glasses'],\n",
       "      dtype=object)"
      ]
     },
     "execution_count": 56,
     "metadata": {},
     "output_type": "execute_result"
    }
   ],
   "source": [
    "cat_names = categories.unique()\n",
    "cat_names"
   ]
  },
  {
   "cell_type": "code",
   "execution_count": 63,
   "id": "unexpected-second",
   "metadata": {},
   "outputs": [],
   "source": [
    "haircut_preds = pred_results[categories == 'haircut']"
   ]
  },
  {
   "cell_type": "code",
   "execution_count": 66,
   "id": "timely-respect",
   "metadata": {},
   "outputs": [
    {
     "name": "stdout",
     "output_type": "stream",
     "text": [
      "Number of images before and after haircuts: 287\n"
     ]
    }
   ],
   "source": [
    "print(f\"Number of images before and after haircuts: {len(haircut_preds)}\")"
   ]
  },
  {
   "cell_type": "code",
   "execution_count": 72,
   "id": "interesting-pointer",
   "metadata": {},
   "outputs": [
    {
     "name": "stdout",
     "output_type": "stream",
     "text": [
      "Haircut before predicted liberal: 234\n"
     ]
    }
   ],
   "source": [
    "print(f\"Haircut before predicted liberal: {len(haircut_preds[haircut_preds['lasso_results_1'] == 0])}\")"
   ]
  },
  {
   "cell_type": "code",
   "execution_count": 73,
   "id": "blank-sigma",
   "metadata": {},
   "outputs": [
    {
     "name": "stdout",
     "output_type": "stream",
     "text": [
      "Haircut before predicted conservative: 53\n"
     ]
    }
   ],
   "source": [
    "print(f\"Haircut before predicted conservative: {len(haircut_preds[haircut_preds['lasso_results_1'] == 1])}\")"
   ]
  },
  {
   "cell_type": "code",
   "execution_count": 128,
   "id": "revised-receipt",
   "metadata": {},
   "outputs": [],
   "source": [
    "def get_blank_df():\n",
    "    df = pd.DataFrame(index=cat_names)\n",
    "    df['total'] = np.nan\n",
    "    df['before liberal'] = np.nan\n",
    "    df['before conservative'] = np.nan\n",
    "    df['after liberal'] = np.nan\n",
    "    df['after conservative'] = np.nan\n",
    "    \n",
    "    return df"
   ]
  },
  {
   "cell_type": "code",
   "execution_count": 129,
   "id": "hired-tamil",
   "metadata": {},
   "outputs": [],
   "source": [
    "def get_analysis(df: pd.DataFrame = None, before_colname = \"\", after_colname = \"\"):\n",
    "    \n",
    "    if df == None:\n",
    "        df = get_blank_df()\n",
    "        \n",
    "    for cat in cat_names:\n",
    "        pred_slice = pred_results[categories == cat]\n",
    "        total = len(pred_slice)\n",
    "        before_lib = len(pred_slice[pred_slice[before_colname] == 0])\n",
    "        before_con = len(pred_slice[pred_slice[before_colname] == 1])\n",
    "        after_lib = len(pred_slice[pred_slice[after_colname] == 0])\n",
    "        after_con = len(pred_slice[pred_slice[after_colname] == 1])\n",
    "\n",
    "        df.loc[[cat], ['total']] = total\n",
    "        df.loc[[cat], ['before liberal']] = before_lib\n",
    "        df.loc[[cat], ['before conservative']] = before_con\n",
    "        df.loc[[cat], ['after liberal']] = after_lib\n",
    "        df.loc[[cat], ['after conservative']] = after_con\n",
    "\n",
    "    total = df.iloc[:6].sum()\n",
    "    total.name = 'total'\n",
    "    df.append(total.transpose())\n",
    "\n",
    "    return df"
   ]
  },
  {
   "cell_type": "code",
   "execution_count": 130,
   "id": "dying-argument",
   "metadata": {},
   "outputs": [],
   "source": [
    "lasso_analysis_df = get_analysis(before_colname=\"lasso_results_1\", after_colname=\"lasso_results_2\")"
   ]
  },
  {
   "cell_type": "code",
   "execution_count": 131,
   "id": "driving-panama",
   "metadata": {},
   "outputs": [
    {
     "data": {
      "text/html": [
       "<div>\n",
       "<style scoped>\n",
       "    .dataframe tbody tr th:only-of-type {\n",
       "        vertical-align: middle;\n",
       "    }\n",
       "\n",
       "    .dataframe tbody tr th {\n",
       "        vertical-align: top;\n",
       "    }\n",
       "\n",
       "    .dataframe thead th {\n",
       "        text-align: right;\n",
       "    }\n",
       "</style>\n",
       "<table border=\"1\" class=\"dataframe\">\n",
       "  <thead>\n",
       "    <tr style=\"text-align: right;\">\n",
       "      <th></th>\n",
       "      <th>total</th>\n",
       "      <th>before liberal</th>\n",
       "      <th>before conservative</th>\n",
       "      <th>after liberal</th>\n",
       "      <th>after conservative</th>\n",
       "    </tr>\n",
       "  </thead>\n",
       "  <tbody>\n",
       "    <tr>\n",
       "      <th>haircut</th>\n",
       "      <td>287.0</td>\n",
       "      <td>234.0</td>\n",
       "      <td>53.0</td>\n",
       "      <td>236.0</td>\n",
       "      <td>51.0</td>\n",
       "    </tr>\n",
       "    <tr>\n",
       "      <th>makeup</th>\n",
       "      <td>386.0</td>\n",
       "      <td>332.0</td>\n",
       "      <td>54.0</td>\n",
       "      <td>336.0</td>\n",
       "      <td>50.0</td>\n",
       "    </tr>\n",
       "    <tr>\n",
       "      <th>beard</th>\n",
       "      <td>357.0</td>\n",
       "      <td>320.0</td>\n",
       "      <td>37.0</td>\n",
       "      <td>339.0</td>\n",
       "      <td>18.0</td>\n",
       "    </tr>\n",
       "    <tr>\n",
       "      <th>drag</th>\n",
       "      <td>168.0</td>\n",
       "      <td>146.0</td>\n",
       "      <td>22.0</td>\n",
       "      <td>141.0</td>\n",
       "      <td>27.0</td>\n",
       "    </tr>\n",
       "    <tr>\n",
       "      <th>hairdoo</th>\n",
       "      <td>68.0</td>\n",
       "      <td>60.0</td>\n",
       "      <td>8.0</td>\n",
       "      <td>59.0</td>\n",
       "      <td>9.0</td>\n",
       "    </tr>\n",
       "    <tr>\n",
       "      <th>glasses</th>\n",
       "      <td>26.0</td>\n",
       "      <td>24.0</td>\n",
       "      <td>2.0</td>\n",
       "      <td>21.0</td>\n",
       "      <td>5.0</td>\n",
       "    </tr>\n",
       "  </tbody>\n",
       "</table>\n",
       "</div>"
      ],
      "text/plain": [
       "         total  before liberal  before conservative  after liberal  \\\n",
       "haircut  287.0           234.0                 53.0          236.0   \n",
       "makeup   386.0           332.0                 54.0          336.0   \n",
       "beard    357.0           320.0                 37.0          339.0   \n",
       "drag     168.0           146.0                 22.0          141.0   \n",
       "hairdoo   68.0            60.0                  8.0           59.0   \n",
       "glasses   26.0            24.0                  2.0           21.0   \n",
       "\n",
       "         after conservative  \n",
       "haircut                51.0  \n",
       "makeup                 50.0  \n",
       "beard                  18.0  \n",
       "drag                   27.0  \n",
       "hairdoo                 9.0  \n",
       "glasses                 5.0  "
      ]
     },
     "execution_count": 131,
     "metadata": {},
     "output_type": "execute_result"
    }
   ],
   "source": [
    "lasso_analysis_df"
   ]
  },
  {
   "cell_type": "code",
   "execution_count": 123,
   "id": "detailed-apartment",
   "metadata": {},
   "outputs": [],
   "source": [
    "lasso_analysis_df.to_csv('./results/lasso_retest_analysis.csv')"
   ]
  },
  {
   "cell_type": "code",
   "execution_count": 132,
   "id": "working-optimum",
   "metadata": {},
   "outputs": [],
   "source": [
    "nn_analysis_df = get_analysis(before_colname=\"nn_results_1\", after_colname=\"nn_results_2\")"
   ]
  },
  {
   "cell_type": "code",
   "execution_count": 133,
   "id": "laden-minnesota",
   "metadata": {},
   "outputs": [
    {
     "data": {
      "text/html": [
       "<div>\n",
       "<style scoped>\n",
       "    .dataframe tbody tr th:only-of-type {\n",
       "        vertical-align: middle;\n",
       "    }\n",
       "\n",
       "    .dataframe tbody tr th {\n",
       "        vertical-align: top;\n",
       "    }\n",
       "\n",
       "    .dataframe thead th {\n",
       "        text-align: right;\n",
       "    }\n",
       "</style>\n",
       "<table border=\"1\" class=\"dataframe\">\n",
       "  <thead>\n",
       "    <tr style=\"text-align: right;\">\n",
       "      <th></th>\n",
       "      <th>total</th>\n",
       "      <th>before liberal</th>\n",
       "      <th>before conservative</th>\n",
       "      <th>after liberal</th>\n",
       "      <th>after conservative</th>\n",
       "    </tr>\n",
       "  </thead>\n",
       "  <tbody>\n",
       "    <tr>\n",
       "      <th>haircut</th>\n",
       "      <td>287.0</td>\n",
       "      <td>142.0</td>\n",
       "      <td>145.0</td>\n",
       "      <td>134.0</td>\n",
       "      <td>153.0</td>\n",
       "    </tr>\n",
       "    <tr>\n",
       "      <th>makeup</th>\n",
       "      <td>386.0</td>\n",
       "      <td>205.0</td>\n",
       "      <td>181.0</td>\n",
       "      <td>206.0</td>\n",
       "      <td>180.0</td>\n",
       "    </tr>\n",
       "    <tr>\n",
       "      <th>beard</th>\n",
       "      <td>357.0</td>\n",
       "      <td>175.0</td>\n",
       "      <td>182.0</td>\n",
       "      <td>152.0</td>\n",
       "      <td>205.0</td>\n",
       "    </tr>\n",
       "    <tr>\n",
       "      <th>drag</th>\n",
       "      <td>168.0</td>\n",
       "      <td>76.0</td>\n",
       "      <td>92.0</td>\n",
       "      <td>69.0</td>\n",
       "      <td>99.0</td>\n",
       "    </tr>\n",
       "    <tr>\n",
       "      <th>hairdoo</th>\n",
       "      <td>68.0</td>\n",
       "      <td>24.0</td>\n",
       "      <td>44.0</td>\n",
       "      <td>27.0</td>\n",
       "      <td>41.0</td>\n",
       "    </tr>\n",
       "    <tr>\n",
       "      <th>glasses</th>\n",
       "      <td>26.0</td>\n",
       "      <td>15.0</td>\n",
       "      <td>11.0</td>\n",
       "      <td>15.0</td>\n",
       "      <td>11.0</td>\n",
       "    </tr>\n",
       "  </tbody>\n",
       "</table>\n",
       "</div>"
      ],
      "text/plain": [
       "         total  before liberal  before conservative  after liberal  \\\n",
       "haircut  287.0           142.0                145.0          134.0   \n",
       "makeup   386.0           205.0                181.0          206.0   \n",
       "beard    357.0           175.0                182.0          152.0   \n",
       "drag     168.0            76.0                 92.0           69.0   \n",
       "hairdoo   68.0            24.0                 44.0           27.0   \n",
       "glasses   26.0            15.0                 11.0           15.0   \n",
       "\n",
       "         after conservative  \n",
       "haircut               153.0  \n",
       "makeup                180.0  \n",
       "beard                 205.0  \n",
       "drag                   99.0  \n",
       "hairdoo                41.0  \n",
       "glasses                11.0  "
      ]
     },
     "execution_count": 133,
     "metadata": {},
     "output_type": "execute_result"
    }
   ],
   "source": [
    "nn_analysis_df"
   ]
  },
  {
   "cell_type": "code",
   "execution_count": 134,
   "id": "critical-tribune",
   "metadata": {},
   "outputs": [],
   "source": [
    "nn_analysis_df.to_csv('./results/nn_retest_analysis.csv')"
   ]
  }
 ],
 "metadata": {
  "kernelspec": {
   "display_name": "Python 3 (ipykernel)",
   "language": "python",
   "name": "python3"
  },
  "language_info": {
   "codemirror_mode": {
    "name": "ipython",
    "version": 3
   },
   "file_extension": ".py",
   "mimetype": "text/x-python",
   "name": "python",
   "nbconvert_exporter": "python",
   "pygments_lexer": "ipython3",
   "version": "3.8.10"
  }
 },
 "nbformat": 4,
 "nbformat_minor": 5
}
