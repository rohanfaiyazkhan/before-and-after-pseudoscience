{
 "cells": [
  {
   "cell_type": "code",
   "execution_count": 35,
   "id": "affecting-surfing",
   "metadata": {},
   "outputs": [],
   "source": [
    "#!pip install pandas datatable rpy2 matplotlib glmnet"
   ]
  },
  {
   "cell_type": "code",
   "execution_count": 74,
   "id": "electronic-convertible",
   "metadata": {},
   "outputs": [],
   "source": [
    "import rpy2.robjects as robjects\n",
    "import numpy as np\n",
    "from rpy2.robjects import pandas2ri\n",
    "import pandas as pd\n",
    "pandas2ri.activate()\n",
    "from glmnet import LogitNet\n",
    "import scipy\n",
    "from sklearn.linear_model import ElasticNet, SGDClassifier"
   ]
  },
  {
   "cell_type": "code",
   "execution_count": 37,
   "id": "molecular-pitch",
   "metadata": {},
   "outputs": [],
   "source": [
    "faces = pd.read_csv('faces_smaller_chunk.csv', index_col=0)"
   ]
  },
  {
   "cell_type": "code",
   "execution_count": 38,
   "id": "floating-series",
   "metadata": {},
   "outputs": [
    {
     "data": {
      "text/html": [
       "<div>\n",
       "<style scoped>\n",
       "    .dataframe tbody tr th:only-of-type {\n",
       "        vertical-align: middle;\n",
       "    }\n",
       "\n",
       "    .dataframe tbody tr th {\n",
       "        vertical-align: top;\n",
       "    }\n",
       "\n",
       "    .dataframe thead th {\n",
       "        text-align: right;\n",
       "    }\n",
       "</style>\n",
       "<table border=\"1\" class=\"dataframe\">\n",
       "  <thead>\n",
       "    <tr style=\"text-align: right;\">\n",
       "      <th></th>\n",
       "      <th>userid</th>\n",
       "      <th>gender</th>\n",
       "      <th>age</th>\n",
       "      <th>country</th>\n",
       "      <th>facial_hair</th>\n",
       "      <th>pol</th>\n",
       "      <th>pol_dat_us</th>\n",
       "      <th>pol_dat_ca</th>\n",
       "      <th>pol_dat_uk</th>\n",
       "      <th>pol_fb_us</th>\n",
       "      <th>...</th>\n",
       "      <th>left_eye_status.no_glass_eye_open</th>\n",
       "      <th>left_eye_status.normal_glass_eye_close</th>\n",
       "      <th>left_eye_status.dark_glasses</th>\n",
       "      <th>right_eye_status.normal_glass_eye_open</th>\n",
       "      <th>right_eye_status.no_glass_eye_close</th>\n",
       "      <th>right_eye_status.occlusion</th>\n",
       "      <th>right_eye_status.no_glass_eye_open</th>\n",
       "      <th>right_eye_status.normal_glass_eye_close</th>\n",
       "      <th>right_eye_status.dark_glasses</th>\n",
       "      <th>ethnicity.value</th>\n",
       "    </tr>\n",
       "  </thead>\n",
       "  <tbody>\n",
       "    <tr>\n",
       "      <th>1</th>\n",
       "      <td>1</td>\n",
       "      <td>0.0</td>\n",
       "      <td>NaN</td>\n",
       "      <td>united states</td>\n",
       "      <td>0.001713</td>\n",
       "      <td>liberal</td>\n",
       "      <td>NaN</td>\n",
       "      <td>NaN</td>\n",
       "      <td>NaN</td>\n",
       "      <td>0.0</td>\n",
       "      <td>...</td>\n",
       "      <td>1.8</td>\n",
       "      <td>0.0</td>\n",
       "      <td>0.0</td>\n",
       "      <td>0.0</td>\n",
       "      <td>0.0</td>\n",
       "      <td>99.9</td>\n",
       "      <td>0.1</td>\n",
       "      <td>0.0</td>\n",
       "      <td>0.0</td>\n",
       "      <td>black</td>\n",
       "    </tr>\n",
       "    <tr>\n",
       "      <th>2</th>\n",
       "      <td>2</td>\n",
       "      <td>1.0</td>\n",
       "      <td>NaN</td>\n",
       "      <td>united states</td>\n",
       "      <td>0.005151</td>\n",
       "      <td>liberal</td>\n",
       "      <td>NaN</td>\n",
       "      <td>NaN</td>\n",
       "      <td>NaN</td>\n",
       "      <td>0.0</td>\n",
       "      <td>...</td>\n",
       "      <td>100.0</td>\n",
       "      <td>0.0</td>\n",
       "      <td>0.0</td>\n",
       "      <td>0.0</td>\n",
       "      <td>0.0</td>\n",
       "      <td>0.0</td>\n",
       "      <td>100.0</td>\n",
       "      <td>0.0</td>\n",
       "      <td>0.0</td>\n",
       "      <td>black</td>\n",
       "    </tr>\n",
       "    <tr>\n",
       "      <th>3</th>\n",
       "      <td>3</td>\n",
       "      <td>0.0</td>\n",
       "      <td>NaN</td>\n",
       "      <td>united states</td>\n",
       "      <td>0.977098</td>\n",
       "      <td>conservative</td>\n",
       "      <td>NaN</td>\n",
       "      <td>NaN</td>\n",
       "      <td>NaN</td>\n",
       "      <td>1.0</td>\n",
       "      <td>...</td>\n",
       "      <td>0.3</td>\n",
       "      <td>0.0</td>\n",
       "      <td>15.5</td>\n",
       "      <td>39.7</td>\n",
       "      <td>0.0</td>\n",
       "      <td>0.0</td>\n",
       "      <td>0.0</td>\n",
       "      <td>0.0</td>\n",
       "      <td>60.2</td>\n",
       "      <td>india</td>\n",
       "    </tr>\n",
       "    <tr>\n",
       "      <th>4</th>\n",
       "      <td>4</td>\n",
       "      <td>1.0</td>\n",
       "      <td>24.36</td>\n",
       "      <td>united states</td>\n",
       "      <td>0.000478</td>\n",
       "      <td>liberal</td>\n",
       "      <td>NaN</td>\n",
       "      <td>NaN</td>\n",
       "      <td>NaN</td>\n",
       "      <td>0.0</td>\n",
       "      <td>...</td>\n",
       "      <td>98.9</td>\n",
       "      <td>0.0</td>\n",
       "      <td>0.5</td>\n",
       "      <td>0.0</td>\n",
       "      <td>0.0</td>\n",
       "      <td>10.2</td>\n",
       "      <td>81.7</td>\n",
       "      <td>0.0</td>\n",
       "      <td>8.1</td>\n",
       "      <td>black</td>\n",
       "    </tr>\n",
       "    <tr>\n",
       "      <th>5</th>\n",
       "      <td>5</td>\n",
       "      <td>1.0</td>\n",
       "      <td>NaN</td>\n",
       "      <td>united states</td>\n",
       "      <td>0.005617</td>\n",
       "      <td>liberal</td>\n",
       "      <td>NaN</td>\n",
       "      <td>NaN</td>\n",
       "      <td>NaN</td>\n",
       "      <td>0.0</td>\n",
       "      <td>...</td>\n",
       "      <td>0.0</td>\n",
       "      <td>0.0</td>\n",
       "      <td>0.0</td>\n",
       "      <td>2.3</td>\n",
       "      <td>0.0</td>\n",
       "      <td>97.3</td>\n",
       "      <td>0.1</td>\n",
       "      <td>0.1</td>\n",
       "      <td>0.2</td>\n",
       "      <td>asian</td>\n",
       "    </tr>\n",
       "  </tbody>\n",
       "</table>\n",
       "<p>5 rows × 42 columns</p>\n",
       "</div>"
      ],
      "text/plain": [
       "   userid  gender    age        country  facial_hair           pol  \\\n",
       "1       1     0.0    NaN  united states     0.001713       liberal   \n",
       "2       2     1.0    NaN  united states     0.005151       liberal   \n",
       "3       3     0.0    NaN  united states     0.977098  conservative   \n",
       "4       4     1.0  24.36  united states     0.000478       liberal   \n",
       "5       5     1.0    NaN  united states     0.005617       liberal   \n",
       "\n",
       "   pol_dat_us  pol_dat_ca  pol_dat_uk  pol_fb_us  ...  \\\n",
       "1         NaN         NaN         NaN        0.0  ...   \n",
       "2         NaN         NaN         NaN        0.0  ...   \n",
       "3         NaN         NaN         NaN        1.0  ...   \n",
       "4         NaN         NaN         NaN        0.0  ...   \n",
       "5         NaN         NaN         NaN        0.0  ...   \n",
       "\n",
       "   left_eye_status.no_glass_eye_open  left_eye_status.normal_glass_eye_close  \\\n",
       "1                                1.8                                     0.0   \n",
       "2                              100.0                                     0.0   \n",
       "3                                0.3                                     0.0   \n",
       "4                               98.9                                     0.0   \n",
       "5                                0.0                                     0.0   \n",
       "\n",
       "   left_eye_status.dark_glasses  right_eye_status.normal_glass_eye_open  \\\n",
       "1                           0.0                                     0.0   \n",
       "2                           0.0                                     0.0   \n",
       "3                          15.5                                    39.7   \n",
       "4                           0.5                                     0.0   \n",
       "5                           0.0                                     2.3   \n",
       "\n",
       "   right_eye_status.no_glass_eye_close right_eye_status.occlusion  \\\n",
       "1                                  0.0                       99.9   \n",
       "2                                  0.0                        0.0   \n",
       "3                                  0.0                        0.0   \n",
       "4                                  0.0                       10.2   \n",
       "5                                  0.0                       97.3   \n",
       "\n",
       "   right_eye_status.no_glass_eye_open  \\\n",
       "1                                 0.1   \n",
       "2                               100.0   \n",
       "3                                 0.0   \n",
       "4                                81.7   \n",
       "5                                 0.1   \n",
       "\n",
       "   right_eye_status.normal_glass_eye_close  right_eye_status.dark_glasses  \\\n",
       "1                                      0.0                            0.0   \n",
       "2                                      0.0                            0.0   \n",
       "3                                      0.0                           60.2   \n",
       "4                                      0.0                            8.1   \n",
       "5                                      0.1                            0.2   \n",
       "\n",
       "   ethnicity.value  \n",
       "1            black  \n",
       "2            black  \n",
       "3            india  \n",
       "4            black  \n",
       "5            asian  \n",
       "\n",
       "[5 rows x 42 columns]"
      ]
     },
     "execution_count": 38,
     "metadata": {},
     "output_type": "execute_result"
    }
   ],
   "source": [
    "faces.head()"
   ]
  },
  {
   "cell_type": "code",
   "execution_count": 39,
   "id": "august-stocks",
   "metadata": {},
   "outputs": [],
   "source": [
    "ground_truth = [\"pol_dat_us\", \"pol_dat_ca\",\"pol_dat_uk\",\"pol_fb_us\"]"
   ]
  },
  {
   "cell_type": "code",
   "execution_count": 40,
   "id": "equal-assumption",
   "metadata": {},
   "outputs": [],
   "source": [
    "cv_folds = 4"
   ]
  },
  {
   "cell_type": "code",
   "execution_count": 41,
   "id": "alleged-stanley",
   "metadata": {},
   "outputs": [],
   "source": [
    "folds = np.random.randint(1,cv_folds+1, len(faces))"
   ]
  },
  {
   "cell_type": "markdown",
   "id": "humanitarian-jordan",
   "metadata": {},
   "source": [
    "VGG is a concatenation of facial features generated from Face++"
   ]
  },
  {
   "cell_type": "code",
   "execution_count": 42,
   "id": "inner-violin",
   "metadata": {},
   "outputs": [],
   "source": [
    "vgg = pd.read_csv('./vgg_chunks/chunk_1.csv', index_col=0, header=0);"
   ]
  },
  {
   "cell_type": "code",
   "execution_count": 43,
   "id": "coupled-browser",
   "metadata": {},
   "outputs": [
    {
     "data": {
      "text/plain": [
       "(10859, 2048)"
      ]
     },
     "execution_count": 43,
     "metadata": {},
     "output_type": "execute_result"
    }
   ],
   "source": [
    "vgg.shape"
   ]
  },
  {
   "cell_type": "code",
   "execution_count": 44,
   "id": "cathedral-broadway",
   "metadata": {},
   "outputs": [
    {
     "data": {
      "text/plain": [
       "'pred_pol_dat_us'"
      ]
     },
     "execution_count": 44,
     "metadata": {},
     "output_type": "execute_result"
    }
   ],
   "source": [
    "col = f'pred_{ground_truth[0]}'\n",
    "col"
   ]
  },
  {
   "cell_type": "code",
   "execution_count": 45,
   "id": "practical-vatican",
   "metadata": {},
   "outputs": [],
   "source": [
    "faces[col] = np.nan"
   ]
  },
  {
   "cell_type": "code",
   "execution_count": 46,
   "id": "sound-fancy",
   "metadata": {},
   "outputs": [
    {
     "data": {
      "text/plain": [
       "1       NaN\n",
       "2       NaN\n",
       "3       NaN\n",
       "4       NaN\n",
       "5       NaN\n",
       "         ..\n",
       "10855   NaN\n",
       "10856   NaN\n",
       "10857   NaN\n",
       "10858   NaN\n",
       "10859   NaN\n",
       "Name: pred_pol_dat_us, Length: 10859, dtype: float64"
      ]
     },
     "execution_count": 46,
     "metadata": {},
     "output_type": "execute_result"
    }
   ],
   "source": [
    "faces[col]"
   ]
  },
  {
   "cell_type": "code",
   "execution_count": 47,
   "id": "adult-exhibit",
   "metadata": {},
   "outputs": [],
   "source": [
    "i = ground_truth[3]\n",
    "j = 1"
   ]
  },
  {
   "cell_type": "code",
   "execution_count": 48,
   "id": "relevant-little",
   "metadata": {},
   "outputs": [
    {
     "data": {
      "text/plain": [
       "Int64Index([    1,     2,     3,     4,     5,     6,     7,     8,     9,\n",
       "               10,\n",
       "            ...\n",
       "            10844, 10845, 10846, 10847, 10848, 10849, 10850, 10851, 10852,\n",
       "            10853],\n",
       "           dtype='int64', length=9429)"
      ]
     },
     "execution_count": 48,
     "metadata": {},
     "output_type": "execute_result"
    }
   ],
   "source": [
    "not_na = faces[faces[i].notna()].index\n",
    "not_na"
   ]
  },
  {
   "cell_type": "code",
   "execution_count": 49,
   "id": "documented-cologne",
   "metadata": {},
   "outputs": [],
   "source": [
    "test_index = not_na[folds[not_na] == j]\n",
    "\n",
    "train_index = not_na[folds[not_na] != j]"
   ]
  },
  {
   "cell_type": "code",
   "execution_count": 50,
   "id": "fifty-fellow",
   "metadata": {},
   "outputs": [
    {
     "data": {
      "text/plain": [
       "(7057, 2048)"
      ]
     },
     "execution_count": 50,
     "metadata": {},
     "output_type": "execute_result"
    }
   ],
   "source": [
    "x=vgg.iloc[train_index]\n",
    "x.shape"
   ]
  },
  {
   "cell_type": "code",
   "execution_count": 51,
   "id": "mineral-resistance",
   "metadata": {},
   "outputs": [
    {
     "data": {
      "text/plain": [
       "2    0.0\n",
       "4    0.0\n",
       "5    0.0\n",
       "6    0.0\n",
       "8    1.0\n",
       "Name: pol_fb_us, dtype: float64"
      ]
     },
     "execution_count": 51,
     "metadata": {},
     "output_type": "execute_result"
    }
   ],
   "source": [
    "y=faces[i][train_index]\n",
    "y.head()"
   ]
  },
  {
   "cell_type": "code",
   "execution_count": 52,
   "id": "fifth-fundamentals",
   "metadata": {},
   "outputs": [
    {
     "data": {
      "text/plain": [
       "((7057, 2048), (7057,))"
      ]
     },
     "execution_count": 52,
     "metadata": {},
     "output_type": "execute_result"
    }
   ],
   "source": [
    "x.shape, y.shape"
   ]
  },
  {
   "cell_type": "code",
   "execution_count": 57,
   "id": "associate-boost",
   "metadata": {},
   "outputs": [
    {
     "data": {
      "text/plain": [
       "(7057, 2048)"
      ]
     },
     "execution_count": 57,
     "metadata": {},
     "output_type": "execute_result"
    }
   ],
   "source": [
    "(x.values).shape"
   ]
  },
  {
   "cell_type": "code",
   "execution_count": 77,
   "id": "harmful-shame",
   "metadata": {},
   "outputs": [],
   "source": [
    "m = SGDClassifier(penalty='elasticnet')"
   ]
  },
  {
   "cell_type": "code",
   "execution_count": 78,
   "id": "dependent-cheat",
   "metadata": {},
   "outputs": [
    {
     "data": {
      "text/plain": [
       "SGDClassifier(penalty='elasticnet')"
      ]
     },
     "execution_count": 78,
     "metadata": {},
     "output_type": "execute_result"
    }
   ],
   "source": [
    "m.fit(x, y)"
   ]
  },
  {
   "cell_type": "code",
   "execution_count": 79,
   "id": "going-complexity",
   "metadata": {},
   "outputs": [
    {
     "data": {
      "text/plain": [
       "(2372, 2048)"
      ]
     },
     "execution_count": 79,
     "metadata": {},
     "output_type": "execute_result"
    }
   ],
   "source": [
    "vgg.iloc[test_index].values.shape"
   ]
  },
  {
   "cell_type": "code",
   "execution_count": 84,
   "id": "supposed-textbook",
   "metadata": {},
   "outputs": [
    {
     "name": "stderr",
     "output_type": "stream",
     "text": [
      "<ipython-input-84-71efe33e940c>:1: SettingWithCopyWarning: \n",
      "A value is trying to be set on a copy of a slice from a DataFrame\n",
      "\n",
      "See the caveats in the documentation: https://pandas.pydata.org/pandas-docs/stable/user_guide/indexing.html#returning-a-view-versus-a-copy\n",
      "  faces[col][test_index] = m.predict(vgg.iloc[test_index])\n"
     ]
    }
   ],
   "source": [
    "faces[col][test_index] = m.predict(vgg.iloc[test_index])"
   ]
  },
  {
   "cell_type": "code",
   "execution_count": 85,
   "id": "alternative-jones",
   "metadata": {},
   "outputs": [
    {
     "data": {
      "text/html": [
       "<div>\n",
       "<style scoped>\n",
       "    .dataframe tbody tr th:only-of-type {\n",
       "        vertical-align: middle;\n",
       "    }\n",
       "\n",
       "    .dataframe tbody tr th {\n",
       "        vertical-align: top;\n",
       "    }\n",
       "\n",
       "    .dataframe thead th {\n",
       "        text-align: right;\n",
       "    }\n",
       "</style>\n",
       "<table border=\"1\" class=\"dataframe\">\n",
       "  <thead>\n",
       "    <tr style=\"text-align: right;\">\n",
       "      <th></th>\n",
       "      <th>userid</th>\n",
       "      <th>gender</th>\n",
       "      <th>age</th>\n",
       "      <th>country</th>\n",
       "      <th>facial_hair</th>\n",
       "      <th>pol</th>\n",
       "      <th>pol_dat_us</th>\n",
       "      <th>pol_dat_ca</th>\n",
       "      <th>pol_dat_uk</th>\n",
       "      <th>pol_fb_us</th>\n",
       "      <th>...</th>\n",
       "      <th>left_eye_status.normal_glass_eye_close</th>\n",
       "      <th>left_eye_status.dark_glasses</th>\n",
       "      <th>right_eye_status.normal_glass_eye_open</th>\n",
       "      <th>right_eye_status.no_glass_eye_close</th>\n",
       "      <th>right_eye_status.occlusion</th>\n",
       "      <th>right_eye_status.no_glass_eye_open</th>\n",
       "      <th>right_eye_status.normal_glass_eye_close</th>\n",
       "      <th>right_eye_status.dark_glasses</th>\n",
       "      <th>ethnicity.value</th>\n",
       "      <th>pred_pol_dat_us</th>\n",
       "    </tr>\n",
       "  </thead>\n",
       "  <tbody>\n",
       "    <tr>\n",
       "      <th>1</th>\n",
       "      <td>1</td>\n",
       "      <td>0.0</td>\n",
       "      <td>NaN</td>\n",
       "      <td>united states</td>\n",
       "      <td>0.001713</td>\n",
       "      <td>liberal</td>\n",
       "      <td>NaN</td>\n",
       "      <td>NaN</td>\n",
       "      <td>NaN</td>\n",
       "      <td>0.0</td>\n",
       "      <td>...</td>\n",
       "      <td>0.0</td>\n",
       "      <td>0.0</td>\n",
       "      <td>0.0</td>\n",
       "      <td>0.0</td>\n",
       "      <td>99.9</td>\n",
       "      <td>0.1</td>\n",
       "      <td>0.0</td>\n",
       "      <td>0.0</td>\n",
       "      <td>black</td>\n",
       "      <td>0.0</td>\n",
       "    </tr>\n",
       "    <tr>\n",
       "      <th>3</th>\n",
       "      <td>3</td>\n",
       "      <td>0.0</td>\n",
       "      <td>NaN</td>\n",
       "      <td>united states</td>\n",
       "      <td>0.977098</td>\n",
       "      <td>conservative</td>\n",
       "      <td>NaN</td>\n",
       "      <td>NaN</td>\n",
       "      <td>NaN</td>\n",
       "      <td>1.0</td>\n",
       "      <td>...</td>\n",
       "      <td>0.0</td>\n",
       "      <td>15.5</td>\n",
       "      <td>39.7</td>\n",
       "      <td>0.0</td>\n",
       "      <td>0.0</td>\n",
       "      <td>0.0</td>\n",
       "      <td>0.0</td>\n",
       "      <td>60.2</td>\n",
       "      <td>india</td>\n",
       "      <td>0.0</td>\n",
       "    </tr>\n",
       "    <tr>\n",
       "      <th>7</th>\n",
       "      <td>7</td>\n",
       "      <td>1.0</td>\n",
       "      <td>27.79</td>\n",
       "      <td>united states</td>\n",
       "      <td>0.055370</td>\n",
       "      <td>liberal</td>\n",
       "      <td>NaN</td>\n",
       "      <td>NaN</td>\n",
       "      <td>NaN</td>\n",
       "      <td>0.0</td>\n",
       "      <td>...</td>\n",
       "      <td>0.0</td>\n",
       "      <td>6.2</td>\n",
       "      <td>0.0</td>\n",
       "      <td>0.0</td>\n",
       "      <td>0.0</td>\n",
       "      <td>100.0</td>\n",
       "      <td>0.0</td>\n",
       "      <td>0.0</td>\n",
       "      <td>white</td>\n",
       "      <td>0.0</td>\n",
       "    </tr>\n",
       "    <tr>\n",
       "      <th>9</th>\n",
       "      <td>9</td>\n",
       "      <td>1.0</td>\n",
       "      <td>38.13</td>\n",
       "      <td>united states</td>\n",
       "      <td>0.003721</td>\n",
       "      <td>conservative</td>\n",
       "      <td>NaN</td>\n",
       "      <td>NaN</td>\n",
       "      <td>NaN</td>\n",
       "      <td>1.0</td>\n",
       "      <td>...</td>\n",
       "      <td>0.0</td>\n",
       "      <td>0.0</td>\n",
       "      <td>0.0</td>\n",
       "      <td>0.0</td>\n",
       "      <td>0.0</td>\n",
       "      <td>100.0</td>\n",
       "      <td>0.0</td>\n",
       "      <td>0.0</td>\n",
       "      <td>white</td>\n",
       "      <td>1.0</td>\n",
       "    </tr>\n",
       "    <tr>\n",
       "      <th>19</th>\n",
       "      <td>19</td>\n",
       "      <td>1.0</td>\n",
       "      <td>NaN</td>\n",
       "      <td>united states</td>\n",
       "      <td>0.025718</td>\n",
       "      <td>liberal</td>\n",
       "      <td>NaN</td>\n",
       "      <td>NaN</td>\n",
       "      <td>NaN</td>\n",
       "      <td>0.0</td>\n",
       "      <td>...</td>\n",
       "      <td>0.0</td>\n",
       "      <td>0.0</td>\n",
       "      <td>0.1</td>\n",
       "      <td>0.0</td>\n",
       "      <td>0.0</td>\n",
       "      <td>99.9</td>\n",
       "      <td>0.0</td>\n",
       "      <td>0.0</td>\n",
       "      <td>black</td>\n",
       "      <td>0.0</td>\n",
       "    </tr>\n",
       "    <tr>\n",
       "      <th>...</th>\n",
       "      <td>...</td>\n",
       "      <td>...</td>\n",
       "      <td>...</td>\n",
       "      <td>...</td>\n",
       "      <td>...</td>\n",
       "      <td>...</td>\n",
       "      <td>...</td>\n",
       "      <td>...</td>\n",
       "      <td>...</td>\n",
       "      <td>...</td>\n",
       "      <td>...</td>\n",
       "      <td>...</td>\n",
       "      <td>...</td>\n",
       "      <td>...</td>\n",
       "      <td>...</td>\n",
       "      <td>...</td>\n",
       "      <td>...</td>\n",
       "      <td>...</td>\n",
       "      <td>...</td>\n",
       "      <td>...</td>\n",
       "      <td>...</td>\n",
       "    </tr>\n",
       "    <tr>\n",
       "      <th>10835</th>\n",
       "      <td>10835</td>\n",
       "      <td>1.0</td>\n",
       "      <td>25.50</td>\n",
       "      <td>united states</td>\n",
       "      <td>0.000022</td>\n",
       "      <td>liberal</td>\n",
       "      <td>NaN</td>\n",
       "      <td>NaN</td>\n",
       "      <td>NaN</td>\n",
       "      <td>0.0</td>\n",
       "      <td>...</td>\n",
       "      <td>0.0</td>\n",
       "      <td>0.2</td>\n",
       "      <td>0.0</td>\n",
       "      <td>0.0</td>\n",
       "      <td>0.5</td>\n",
       "      <td>99.3</td>\n",
       "      <td>0.0</td>\n",
       "      <td>0.2</td>\n",
       "      <td>white</td>\n",
       "      <td>0.0</td>\n",
       "    </tr>\n",
       "    <tr>\n",
       "      <th>10836</th>\n",
       "      <td>10836</td>\n",
       "      <td>1.0</td>\n",
       "      <td>25.14</td>\n",
       "      <td>united states</td>\n",
       "      <td>0.000036</td>\n",
       "      <td>liberal</td>\n",
       "      <td>NaN</td>\n",
       "      <td>NaN</td>\n",
       "      <td>NaN</td>\n",
       "      <td>0.0</td>\n",
       "      <td>...</td>\n",
       "      <td>0.0</td>\n",
       "      <td>0.0</td>\n",
       "      <td>0.0</td>\n",
       "      <td>0.0</td>\n",
       "      <td>0.0</td>\n",
       "      <td>100.0</td>\n",
       "      <td>0.0</td>\n",
       "      <td>0.0</td>\n",
       "      <td>white</td>\n",
       "      <td>0.0</td>\n",
       "    </tr>\n",
       "    <tr>\n",
       "      <th>10845</th>\n",
       "      <td>10845</td>\n",
       "      <td>0.0</td>\n",
       "      <td>32.80</td>\n",
       "      <td>united states</td>\n",
       "      <td>0.998876</td>\n",
       "      <td>liberal</td>\n",
       "      <td>NaN</td>\n",
       "      <td>NaN</td>\n",
       "      <td>NaN</td>\n",
       "      <td>0.0</td>\n",
       "      <td>...</td>\n",
       "      <td>0.0</td>\n",
       "      <td>100.0</td>\n",
       "      <td>0.0</td>\n",
       "      <td>0.0</td>\n",
       "      <td>0.0</td>\n",
       "      <td>0.0</td>\n",
       "      <td>0.0</td>\n",
       "      <td>100.0</td>\n",
       "      <td>india</td>\n",
       "      <td>0.0</td>\n",
       "    </tr>\n",
       "    <tr>\n",
       "      <th>10851</th>\n",
       "      <td>10851</td>\n",
       "      <td>0.0</td>\n",
       "      <td>39.70</td>\n",
       "      <td>united states</td>\n",
       "      <td>0.328045</td>\n",
       "      <td>conservative</td>\n",
       "      <td>NaN</td>\n",
       "      <td>NaN</td>\n",
       "      <td>NaN</td>\n",
       "      <td>1.0</td>\n",
       "      <td>...</td>\n",
       "      <td>0.0</td>\n",
       "      <td>99.8</td>\n",
       "      <td>0.0</td>\n",
       "      <td>0.0</td>\n",
       "      <td>0.0</td>\n",
       "      <td>0.0</td>\n",
       "      <td>0.0</td>\n",
       "      <td>100.0</td>\n",
       "      <td>white</td>\n",
       "      <td>1.0</td>\n",
       "    </tr>\n",
       "    <tr>\n",
       "      <th>10852</th>\n",
       "      <td>10852</td>\n",
       "      <td>1.0</td>\n",
       "      <td>NaN</td>\n",
       "      <td>united states</td>\n",
       "      <td>0.004103</td>\n",
       "      <td>liberal</td>\n",
       "      <td>NaN</td>\n",
       "      <td>NaN</td>\n",
       "      <td>NaN</td>\n",
       "      <td>0.0</td>\n",
       "      <td>...</td>\n",
       "      <td>0.0</td>\n",
       "      <td>0.0</td>\n",
       "      <td>0.0</td>\n",
       "      <td>0.0</td>\n",
       "      <td>0.0</td>\n",
       "      <td>100.0</td>\n",
       "      <td>0.0</td>\n",
       "      <td>0.0</td>\n",
       "      <td>white</td>\n",
       "      <td>0.0</td>\n",
       "    </tr>\n",
       "  </tbody>\n",
       "</table>\n",
       "<p>2372 rows × 43 columns</p>\n",
       "</div>"
      ],
      "text/plain": [
       "       userid  gender    age        country  facial_hair           pol  \\\n",
       "1           1     0.0    NaN  united states     0.001713       liberal   \n",
       "3           3     0.0    NaN  united states     0.977098  conservative   \n",
       "7           7     1.0  27.79  united states     0.055370       liberal   \n",
       "9           9     1.0  38.13  united states     0.003721  conservative   \n",
       "19         19     1.0    NaN  united states     0.025718       liberal   \n",
       "...       ...     ...    ...            ...          ...           ...   \n",
       "10835   10835     1.0  25.50  united states     0.000022       liberal   \n",
       "10836   10836     1.0  25.14  united states     0.000036       liberal   \n",
       "10845   10845     0.0  32.80  united states     0.998876       liberal   \n",
       "10851   10851     0.0  39.70  united states     0.328045  conservative   \n",
       "10852   10852     1.0    NaN  united states     0.004103       liberal   \n",
       "\n",
       "       pol_dat_us  pol_dat_ca  pol_dat_uk  pol_fb_us  ...  \\\n",
       "1             NaN         NaN         NaN        0.0  ...   \n",
       "3             NaN         NaN         NaN        1.0  ...   \n",
       "7             NaN         NaN         NaN        0.0  ...   \n",
       "9             NaN         NaN         NaN        1.0  ...   \n",
       "19            NaN         NaN         NaN        0.0  ...   \n",
       "...           ...         ...         ...        ...  ...   \n",
       "10835         NaN         NaN         NaN        0.0  ...   \n",
       "10836         NaN         NaN         NaN        0.0  ...   \n",
       "10845         NaN         NaN         NaN        0.0  ...   \n",
       "10851         NaN         NaN         NaN        1.0  ...   \n",
       "10852         NaN         NaN         NaN        0.0  ...   \n",
       "\n",
       "       left_eye_status.normal_glass_eye_close  left_eye_status.dark_glasses  \\\n",
       "1                                         0.0                           0.0   \n",
       "3                                         0.0                          15.5   \n",
       "7                                         0.0                           6.2   \n",
       "9                                         0.0                           0.0   \n",
       "19                                        0.0                           0.0   \n",
       "...                                       ...                           ...   \n",
       "10835                                     0.0                           0.2   \n",
       "10836                                     0.0                           0.0   \n",
       "10845                                     0.0                         100.0   \n",
       "10851                                     0.0                          99.8   \n",
       "10852                                     0.0                           0.0   \n",
       "\n",
       "       right_eye_status.normal_glass_eye_open  \\\n",
       "1                                         0.0   \n",
       "3                                        39.7   \n",
       "7                                         0.0   \n",
       "9                                         0.0   \n",
       "19                                        0.1   \n",
       "...                                       ...   \n",
       "10835                                     0.0   \n",
       "10836                                     0.0   \n",
       "10845                                     0.0   \n",
       "10851                                     0.0   \n",
       "10852                                     0.0   \n",
       "\n",
       "       right_eye_status.no_glass_eye_close  right_eye_status.occlusion  \\\n",
       "1                                      0.0                        99.9   \n",
       "3                                      0.0                         0.0   \n",
       "7                                      0.0                         0.0   \n",
       "9                                      0.0                         0.0   \n",
       "19                                     0.0                         0.0   \n",
       "...                                    ...                         ...   \n",
       "10835                                  0.0                         0.5   \n",
       "10836                                  0.0                         0.0   \n",
       "10845                                  0.0                         0.0   \n",
       "10851                                  0.0                         0.0   \n",
       "10852                                  0.0                         0.0   \n",
       "\n",
       "      right_eye_status.no_glass_eye_open  \\\n",
       "1                                    0.1   \n",
       "3                                    0.0   \n",
       "7                                  100.0   \n",
       "9                                  100.0   \n",
       "19                                  99.9   \n",
       "...                                  ...   \n",
       "10835                               99.3   \n",
       "10836                              100.0   \n",
       "10845                                0.0   \n",
       "10851                                0.0   \n",
       "10852                              100.0   \n",
       "\n",
       "       right_eye_status.normal_glass_eye_close  right_eye_status.dark_glasses  \\\n",
       "1                                          0.0                            0.0   \n",
       "3                                          0.0                           60.2   \n",
       "7                                          0.0                            0.0   \n",
       "9                                          0.0                            0.0   \n",
       "19                                         0.0                            0.0   \n",
       "...                                        ...                            ...   \n",
       "10835                                      0.0                            0.2   \n",
       "10836                                      0.0                            0.0   \n",
       "10845                                      0.0                          100.0   \n",
       "10851                                      0.0                          100.0   \n",
       "10852                                      0.0                            0.0   \n",
       "\n",
       "       ethnicity.value  pred_pol_dat_us  \n",
       "1                black              0.0  \n",
       "3                india              0.0  \n",
       "7                white              0.0  \n",
       "9                white              1.0  \n",
       "19               black              0.0  \n",
       "...                ...              ...  \n",
       "10835            white              0.0  \n",
       "10836            white              0.0  \n",
       "10845            india              0.0  \n",
       "10851            white              1.0  \n",
       "10852            white              0.0  \n",
       "\n",
       "[2372 rows x 43 columns]"
      ]
     },
     "execution_count": 85,
     "metadata": {},
     "output_type": "execute_result"
    }
   ],
   "source": [
    "faces[faces[col].notna()]"
   ]
  }
 ],
 "metadata": {
  "kernelspec": {
   "display_name": "Python 3",
   "language": "python",
   "name": "python3"
  },
  "language_info": {
   "codemirror_mode": {
    "name": "ipython",
    "version": 3
   },
   "file_extension": ".py",
   "mimetype": "text/x-python",
   "name": "python",
   "nbconvert_exporter": "python",
   "pygments_lexer": "ipython3",
   "version": "3.8.10"
  }
 },
 "nbformat": 4,
 "nbformat_minor": 5
}
