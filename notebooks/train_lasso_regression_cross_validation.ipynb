{
 "cells": [
  {
   "cell_type": "markdown",
   "id": "mighty-poland",
   "metadata": {},
   "source": [
    "# Replication of Table 2\n",
    "\n",
    "This notebook is trying to replicate Table 2 in Kosinksi's paper, i.e. train "
   ]
  },
  {
   "cell_type": "code",
   "execution_count": 27,
   "id": "incorporate-isolation",
   "metadata": {
    "id": "p0Ljc86Nd5VB"
   },
   "outputs": [],
   "source": [
    "import pandas as pd\n",
    "import numpy as np\n",
    "from sklearn.linear_model import SGDClassifier"
   ]
  },
  {
   "cell_type": "code",
   "execution_count": 26,
   "id": "rental-manhattan",
   "metadata": {
    "tags": []
   },
   "outputs": [],
   "source": [
    "from data.load_data import load_faces, load_features\n",
    "\n",
    "features = load_features()\n",
    "faces = load_faces()"
   ]
  },
  {
   "cell_type": "code",
   "execution_count": 28,
   "id": "fatal-reading",
   "metadata": {},
   "outputs": [],
   "source": [
    "np.random.seed(67)\n",
    "\n",
    "def get_sample_and_label(row):\n",
    "    for i in ground_truth:\n",
    "        if ~np.isnan(row[i]):\n",
    "            return i, row[i]\n",
    "    print(f\"No label found for userid: {row['userid']}\")\n",
    "\n",
    "def get_not_nan_labels(colname):\n",
    "    col = faces[colname]\n",
    "    return col[col.notna()]\n",
    "\n",
    "def get_binary_accuracy(preds, actual):\n",
    "    num_of_correct_predictions = (preds == actual).sum()\n",
    "    accuracy = num_of_correct_predictions / len(actual)\n",
    "    return accuracy\n",
    "\n",
    "ground_truth = ['pol_dat_us', 'pol_dat_ca', 'pol_dat_uk', 'pol_fb_us']\n",
    "samples = {k: get_not_nan_labels(k) for k in ground_truth}"
   ]
  },
  {
   "cell_type": "code",
   "execution_count": 42,
   "id": "honey-international",
   "metadata": {},
   "outputs": [
    {
     "name": "stderr",
     "output_type": "stream",
     "text": [
      "Sample pol_fb_us: 100%|███████████████████████████| 4/4 [04:59<00:00, 74.89s/it]\n"
     ]
    }
   ],
   "source": [
    "from tqdm import tqdm, trange\n",
    "\n",
    "max_chunksize = len(features) // 4\n",
    "\n",
    "def create_model():\n",
    "    # alpha 0.0001 penalty  seems to be optimal\n",
    "    params = {\n",
    "        \"alpha\": 0.0001, \"penalty\": 'l2',\"loss\": 'log'\n",
    "    }\n",
    "    \n",
    "    \n",
    "    return SGDClassifier(**params)    \n",
    "\n",
    "\n",
    "models = {k: create_model() for k in ground_truth}\n",
    "\n",
    "with tqdm(ground_truth) as t:\n",
    "    for sample_name in t:\n",
    "        t.set_description(f'Sample {sample_name}')\n",
    "        model = models[sample_name]\n",
    "\n",
    "        # get indexes and values for each sample\n",
    "        sample = samples[sample_name]\n",
    "        indexes = np.array(sample.index) - 1\n",
    "        values = np.array(sample.values)\n",
    "        \n",
    "        \n",
    "        num_of_batches = len(indexes) // max_chunksize\n",
    "        \n",
    "        if num_of_batches == 0:\n",
    "            y = values\n",
    "            X = features[indexes]\n",
    "            model.fit(X, y)\n",
    "        else:\n",
    "            for i in range(num_of_batches):\n",
    "                batch_idx = indexes[max_chunksize * i : max_chunksize * (i + 1)]\n",
    "                y = values[max_chunksize * i : max_chunksize * (i + 1)]\n",
    "                X = features[batch_idx]\n",
    "                model.partial_fit(X, y, classes=[0,1])\n",
    "        \n",
    "        models[sample_name] = model"
   ]
  },
  {
   "cell_type": "code",
   "execution_count": 43,
   "id": "exclusive-placement",
   "metadata": {},
   "outputs": [
    {
     "data": {
      "text/plain": [
       "{'pol_dat_us': SGDClassifier(loss='log'),\n",
       " 'pol_dat_ca': SGDClassifier(loss='log'),\n",
       " 'pol_dat_uk': SGDClassifier(loss='log'),\n",
       " 'pol_fb_us': SGDClassifier(loss='log')}"
      ]
     },
     "execution_count": 43,
     "metadata": {},
     "output_type": "execute_result"
    }
   ],
   "source": [
    "models"
   ]
  },
  {
   "cell_type": "code",
   "execution_count": 44,
   "id": "serious-houston",
   "metadata": {},
   "outputs": [
    {
     "name": "stderr",
     "output_type": "stream",
     "text": [
      "Sample pol_fb_us: : 0it [01:50, ?it/s, imputing=pol_fb_us]  \n"
     ]
    }
   ],
   "source": [
    "acc_matrix = np.zeros([4,4])\n",
    "\n",
    "with tqdm(enumerate(ground_truth)) as t:\n",
    "    for i, sample_name in enumerate(ground_truth):\n",
    "        t.set_description(f'Sample {sample_name}')\n",
    "        model = models[sample_name]\n",
    "        \n",
    "        for j, test_sample in enumerate(ground_truth):\n",
    "            t.set_postfix({'imputing':test_sample})\n",
    "            \n",
    "            sample = samples[test_sample]\n",
    "            indexes = np.array(sample.index) - 1\n",
    "            values = np.array(sample.values)\n",
    "            \n",
    "            X = features[indexes]\n",
    "            y_pred = model.predict(X)\n",
    "            \n",
    "            acc = get_binary_accuracy(y_pred, values)\n",
    "            \n",
    "            acc_matrix[i,j] = acc\n"
   ]
  },
  {
   "cell_type": "code",
   "execution_count": 45,
   "id": "fleet-blood",
   "metadata": {},
   "outputs": [
    {
     "data": {
      "text/plain": [
       "array([[0.57808686, 0.54652722, 0.54647593, 0.6027051 ],\n",
       "       [0.58666388, 0.68540866, 0.62155163, 0.64508693],\n",
       "       [0.56384552, 0.60044397, 0.6419338 , 0.61759151],\n",
       "       [0.60371478, 0.5866035 , 0.58381539, 0.66443556]])"
      ]
     },
     "execution_count": 45,
     "metadata": {},
     "output_type": "execute_result"
    }
   ],
   "source": [
    "acc_matrix"
   ]
  },
  {
   "cell_type": "code",
   "execution_count": 22,
   "id": "level-unknown",
   "metadata": {},
   "outputs": [],
   "source": [
    "df = pd.DataFrame(acc_matrix * 100, columns=[f'accuracy on {i}' for i in ground_truth], index=[f'model trained on {i}' for i in ground_truth])"
   ]
  },
  {
   "cell_type": "code",
   "execution_count": 24,
   "id": "passive-tribune",
   "metadata": {},
   "outputs": [
    {
     "data": {
      "text/html": [
       "<div>\n",
       "<style scoped>\n",
       "    .dataframe tbody tr th:only-of-type {\n",
       "        vertical-align: middle;\n",
       "    }\n",
       "\n",
       "    .dataframe tbody tr th {\n",
       "        vertical-align: top;\n",
       "    }\n",
       "\n",
       "    .dataframe thead th {\n",
       "        text-align: right;\n",
       "    }\n",
       "</style>\n",
       "<table border=\"1\" class=\"dataframe\">\n",
       "  <thead>\n",
       "    <tr style=\"text-align: right;\">\n",
       "      <th></th>\n",
       "      <th>accuracy on pol_dat_us</th>\n",
       "      <th>accuracy on pol_dat_ca</th>\n",
       "      <th>accuracy on pol_dat_uk</th>\n",
       "      <th>accuracy on pol_fb_us</th>\n",
       "    </tr>\n",
       "  </thead>\n",
       "  <tbody>\n",
       "    <tr>\n",
       "      <th>model trained on pol_dat_us</th>\n",
       "      <td>60.295444</td>\n",
       "      <td>54.363696</td>\n",
       "      <td>54.967109</td>\n",
       "      <td>62.129460</td>\n",
       "    </tr>\n",
       "    <tr>\n",
       "      <th>model trained on pol_dat_ca</th>\n",
       "      <td>56.243147</td>\n",
       "      <td>70.100712</td>\n",
       "      <td>60.649473</td>\n",
       "      <td>63.841212</td>\n",
       "    </tr>\n",
       "    <tr>\n",
       "      <th>model trained on pol_dat_uk</th>\n",
       "      <td>58.805707</td>\n",
       "      <td>62.454933</td>\n",
       "      <td>67.188055</td>\n",
       "      <td>63.731971</td>\n",
       "    </tr>\n",
       "    <tr>\n",
       "      <th>model trained on pol_fb_us</th>\n",
       "      <td>61.386233</td>\n",
       "      <td>59.408242</td>\n",
       "      <td>59.876788</td>\n",
       "      <td>68.001629</td>\n",
       "    </tr>\n",
       "  </tbody>\n",
       "</table>\n",
       "</div>"
      ],
      "text/plain": [
       "                             accuracy on pol_dat_us  accuracy on pol_dat_ca  \\\n",
       "model trained on pol_dat_us               60.295444               54.363696   \n",
       "model trained on pol_dat_ca               56.243147               70.100712   \n",
       "model trained on pol_dat_uk               58.805707               62.454933   \n",
       "model trained on pol_fb_us                61.386233               59.408242   \n",
       "\n",
       "                             accuracy on pol_dat_uk  accuracy on pol_fb_us  \n",
       "model trained on pol_dat_us               54.967109              62.129460  \n",
       "model trained on pol_dat_ca               60.649473              63.841212  \n",
       "model trained on pol_dat_uk               67.188055              63.731971  \n",
       "model trained on pol_fb_us                59.876788              68.001629  "
      ]
     },
     "execution_count": 24,
     "metadata": {},
     "output_type": "execute_result"
    }
   ],
   "source": [
    "df"
   ]
  },
  {
   "cell_type": "code",
   "execution_count": 46,
   "id": "bizarre-tumor",
   "metadata": {},
   "outputs": [],
   "source": [
    "df.to_csv(\"./results/table_2_reproduced.csv\")"
   ]
  },
  {
   "cell_type": "code",
   "execution_count": 47,
   "id": "lucky-romania",
   "metadata": {},
   "outputs": [],
   "source": [
    "import joblib\n",
    "\n",
    "def save_model(model, filepath):\n",
    "    joblib.dump(model, filepath)\n",
    "\n",
    "for sample_name in ground_truth:\n",
    "    save_model(models[sample_name], f'./saved_model/lasso_{sample_name}.joblib')"
   ]
  },
  {
   "cell_type": "code",
   "execution_count": null,
   "id": "third-reading",
   "metadata": {},
   "outputs": [],
   "source": []
  }
 ],
 "metadata": {
  "kernelspec": {
   "display_name": "Python 3 (ipykernel)",
   "language": "python",
   "name": "python3"
  },
  "language_info": {
   "codemirror_mode": {
    "name": "ipython",
    "version": 3
   },
   "file_extension": ".py",
   "mimetype": "text/x-python",
   "name": "python",
   "nbconvert_exporter": "python",
   "pygments_lexer": "ipython3",
   "version": "3.8.10"
  }
 },
 "nbformat": 4,
 "nbformat_minor": 5
}
