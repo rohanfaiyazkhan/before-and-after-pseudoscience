{
 "cells": [
  {
   "cell_type": "code",
   "execution_count": 2,
   "id": "anonymous-raleigh",
   "metadata": {},
   "outputs": [
    {
     "name": "stdout",
     "output_type": "stream",
     "text": [
      "Note: you may need to restart the kernel to use updated packages.\n"
     ]
    }
   ],
   "source": [
    "%pip install statsmodels --quiet"
   ]
  },
  {
   "cell_type": "code",
   "execution_count": 8,
   "id": "neural-application",
   "metadata": {},
   "outputs": [],
   "source": [
    "from pathlib import Path\n",
    "import os\n",
    "from tqdm import tqdm\n",
    "from glob import glob\n",
    "from pathlib import Path\n",
    "import numpy as np\n",
    "import pandas as pd\n",
    "import torch\n",
    "from fastai.data.all import get_image_files\n",
    "# from fastai.vision.all import *\n",
    "from statsmodels.stats.contingency_tables import mcnemar"
   ]
  },
  {
   "cell_type": "code",
   "execution_count": 2,
   "id": "looking-washington",
   "metadata": {},
   "outputs": [],
   "source": [
    "image_file_extensions = ('.png', '.jpg', '.jpeg', '.tiff', '.bmp', '.gif')\n",
    "\n",
    "def is_image_path_valid(path: Path):\n",
    "    return path.is_file() and path.suffix in image_file_extensions\n",
    "\n",
    "def load_image_file(path):\n",
    "    return Image.open(path)"
   ]
  },
  {
   "cell_type": "code",
   "execution_count": 3,
   "id": "copyrighted-petersburg",
   "metadata": {},
   "outputs": [],
   "source": [
    "from utils import load_images_recursively"
   ]
  },
  {
   "cell_type": "code",
   "execution_count": 4,
   "id": "threaded-banner",
   "metadata": {},
   "outputs": [],
   "source": [
    "image_dir = Path(\"./data/new_crops\")"
   ]
  },
  {
   "cell_type": "code",
   "execution_count": 5,
   "id": "ecological-boundary",
   "metadata": {},
   "outputs": [],
   "source": [
    "# fns = get_image_files(image_dir / 'before')\n",
    "# failed = verify_images(fns)"
   ]
  },
  {
   "cell_type": "code",
   "execution_count": 6,
   "id": "therapeutic-april",
   "metadata": {},
   "outputs": [],
   "source": [
    "def load_image_paths(path: Path):\n",
    "    fns = get_image_files(path)\n",
    "    \n",
    "    return fns"
   ]
  },
  {
   "cell_type": "code",
   "execution_count": 9,
   "id": "considered-major",
   "metadata": {},
   "outputs": [],
   "source": [
    "before_paths = load_image_paths(image_dir / 'before')\n",
    "after_paths = load_image_paths(image_dir / 'after')"
   ]
  },
  {
   "cell_type": "code",
   "execution_count": 10,
   "id": "color-longer",
   "metadata": {},
   "outputs": [],
   "source": [
    "from PIL import Image\n",
    "import numpy as np\n",
    "\n",
    "mean_rgb = (131.0912, 103.8827, 91.4953)\n",
    "image_shape = (224,224,3)\n",
    "\n",
    "def load_image_for_feature_extraction(path='', shape=image_shape):\n",
    "    '''\n",
    "    Referenced from VGGFace2 Paper:\n",
    "    Q. Cao, L. Shen, W. Xie, O. M. Parkhi, and A. Zisserman, “VGGFace2: A dataset for recognising faces across pose and age,” arXiv:1710.08092 [cs], May 2018\n",
    "    '''\n",
    "    short_size = 224.0\n",
    "    crop_size = shape\n",
    "    img = Image.open(path)\n",
    "    im_shape = np.array(img.size)    # in the format of (width, height, *)\n",
    "    img = img.convert('RGB')\n",
    "\n",
    "    ratio = float(short_size) / np.min(im_shape)\n",
    "    img = img.resize(size=(int(np.ceil(im_shape[0] * ratio)),   # width\n",
    "                           int(np.ceil(im_shape[1] * ratio))),  # height\n",
    "                     resample=Image.BILINEAR)\n",
    "\n",
    "    x = np.array(img)  # image has been transposed into (height, width)\n",
    "    newshape = x.shape[:2]\n",
    "    h_start = (newshape[0] - crop_size[0])//2\n",
    "    w_start = (newshape[1] - crop_size[1])//2\n",
    "    x = x[h_start:h_start+crop_size[0], w_start:w_start+crop_size[1]]\n",
    "    \n",
    "    # normalize colors to prevent overfitting on color differences \n",
    "    x = x - mean_rgb\n",
    "    \n",
    "    # returns transformed image, and original image\n",
    "    return x"
   ]
  },
  {
   "cell_type": "code",
   "execution_count": 12,
   "id": "thrown-clarity",
   "metadata": {},
   "outputs": [],
   "source": [
    "import joblib\n",
    "\n",
    "lasso_model = joblib.load(\"./saved_model/lasso_pol_dat_us.joblib\")"
   ]
  },
  {
   "cell_type": "code",
   "execution_count": 13,
   "id": "separated-partner",
   "metadata": {},
   "outputs": [],
   "source": [
    "from saved_model.prepare_resnet50 import prepare_resnet_model\n",
    "\n",
    "resnet_model = prepare_resnet_model(\"./saved_model/resnet50_ft_weight.pkl\")"
   ]
  },
  {
   "cell_type": "code",
   "execution_count": 6,
   "id": "sufficient-impact",
   "metadata": {},
   "outputs": [],
   "source": [
    "from saved_model.binary_classifier import load_pretrained_classifier\n",
    "\n",
    "binary_classifier = load_pretrained_classifier('./saved_model/weights-2.pth')"
   ]
  },
  {
   "cell_type": "code",
   "execution_count": 14,
   "id": "powered-soundtrack",
   "metadata": {},
   "outputs": [],
   "source": [
    "device = torch.device('cuda' if torch.cuda.is_available() else 'cpu')\n",
    "\n",
    "def full_lime_pipeline(x):\n",
    "    x = torch.Tensor(x.transpose(0, 3, 1, 2))  # nx3x224x224\n",
    "    x = x.to(device)\n",
    "    x = resnet_model(x).detach().cpu().numpy()\n",
    "    return lasso_model.predict(x)"
   ]
  },
  {
   "cell_type": "code",
   "execution_count": 39,
   "id": "distributed-asset",
   "metadata": {},
   "outputs": [],
   "source": [
    "def full_nn_pipeline(x):\n",
    "    x = torch.Tensor(x.transpose(0, 3, 1, 2))  # 1x3x224x224\n",
    "    x = x.to(device)\n",
    "    x = resnet_model(x)\n",
    "    x = torch.sigmoid(binary_classifier(x))\n",
    "    x = torch.round(x)\n",
    "    return x.detach().cpu().numpy()"
   ]
  },
  {
   "cell_type": "code",
   "execution_count": 18,
   "id": "worthy-chest",
   "metadata": {},
   "outputs": [],
   "source": [
    "results = pd.DataFrame({'sample_paths': before_paths})"
   ]
  },
  {
   "cell_type": "code",
   "execution_count": 19,
   "id": "cosmetic-workplace",
   "metadata": {},
   "outputs": [],
   "source": [
    "results['lasso_results_1'] = np.nan\n",
    "results['nn_results_1'] = np.nan\n",
    "results['lasso_results_2'] = np.nan\n",
    "results['nn_results_2'] = np.nan"
   ]
  },
  {
   "cell_type": "code",
   "execution_count": 20,
   "id": "respiratory-memorabilia",
   "metadata": {},
   "outputs": [],
   "source": [
    "from tqdm import tqdm\n",
    "import math"
   ]
  },
  {
   "cell_type": "code",
   "execution_count": 21,
   "id": "unexpected-train",
   "metadata": {},
   "outputs": [
    {
     "data": {
      "text/plain": [
       "(1, 224, 224, 3)"
      ]
     },
     "execution_count": 21,
     "metadata": {},
     "output_type": "execute_result"
    }
   ],
   "source": [
    "np.expand_dims(load_image_for_feature_extraction(before_paths[0]), 0).shape"
   ]
  },
  {
   "cell_type": "code",
   "execution_count": 9,
   "id": "lyric-automation",
   "metadata": {},
   "outputs": [],
   "source": [
    "def preprocess(path):\n",
    "    return np.expand_dims(load_image_for_feature_extraction(path), 0)"
   ]
  },
  {
   "cell_type": "code",
   "execution_count": 22,
   "id": "acting-progress",
   "metadata": {},
   "outputs": [
    {
     "name": "stderr",
     "output_type": "stream",
     "text": [
      "100%|███████████████████████████████████████| 1292/1292 [00:48<00:00, 26.59it/s]\n"
     ]
    }
   ],
   "source": [
    "for i, (before_path, after_path) in tqdm(enumerate(zip(before_paths, after_paths)), total=len(before_paths)):\n",
    "    if before_path.stem != after_path.stem:\n",
    "        print(f\"Before and after don't match for index {i}, before: {before_path}, after: {after_path}\")\n",
    "        break\n",
    "        \n",
    "    results.loc[i,'lasso_results_1'] = full_lime_pipeline(preprocess(before_path))\n",
    "    results.loc[i,'lasso_results_2'] = full_lime_pipeline(preprocess(after_path))\n",
    "    results.loc[i,'nn_results_1'] = full_nn_pipeline(preprocess(before_path)).squeeze()\n",
    "    results.loc[i,'nn_results_2'] = full_nn_pipeline(preprocess(after_path)).squeeze()"
   ]
  },
  {
   "cell_type": "code",
   "execution_count": 83,
   "id": "attractive-enemy",
   "metadata": {},
   "outputs": [
    {
     "data": {
      "text/html": [
       "<div>\n",
       "<style scoped>\n",
       "    .dataframe tbody tr th:only-of-type {\n",
       "        vertical-align: middle;\n",
       "    }\n",
       "\n",
       "    .dataframe tbody tr th {\n",
       "        vertical-align: top;\n",
       "    }\n",
       "\n",
       "    .dataframe thead th {\n",
       "        text-align: right;\n",
       "    }\n",
       "</style>\n",
       "<table border=\"1\" class=\"dataframe\">\n",
       "  <thead>\n",
       "    <tr style=\"text-align: right;\">\n",
       "      <th></th>\n",
       "      <th>sample_paths</th>\n",
       "      <th>lasso_results_1</th>\n",
       "      <th>nn_results_1</th>\n",
       "      <th>lasso_results_2</th>\n",
       "      <th>nn_results_2</th>\n",
       "    </tr>\n",
       "  </thead>\n",
       "  <tbody>\n",
       "    <tr>\n",
       "      <th>0</th>\n",
       "      <td>data/new_crops/before/haircut face before after 3_89.jpg</td>\n",
       "      <td>1.0</td>\n",
       "      <td>1.0</td>\n",
       "      <td>0.0</td>\n",
       "      <td>1.0</td>\n",
       "    </tr>\n",
       "    <tr>\n",
       "      <th>1</th>\n",
       "      <td>data/new_crops/before/makeup before after 3_108.jpg</td>\n",
       "      <td>0.0</td>\n",
       "      <td>0.0</td>\n",
       "      <td>0.0</td>\n",
       "      <td>1.0</td>\n",
       "    </tr>\n",
       "    <tr>\n",
       "      <th>2</th>\n",
       "      <td>data/new_crops/before/makeup before after 3_55.jpg</td>\n",
       "      <td>0.0</td>\n",
       "      <td>0.0</td>\n",
       "      <td>0.0</td>\n",
       "      <td>0.0</td>\n",
       "    </tr>\n",
       "    <tr>\n",
       "      <th>3</th>\n",
       "      <td>data/new_crops/before/makeup before after arabic_51.jpg</td>\n",
       "      <td>1.0</td>\n",
       "      <td>1.0</td>\n",
       "      <td>1.0</td>\n",
       "      <td>1.0</td>\n",
       "    </tr>\n",
       "    <tr>\n",
       "      <th>4</th>\n",
       "      <td>data/new_crops/before/beard before after 2_30.jpg</td>\n",
       "      <td>0.0</td>\n",
       "      <td>0.0</td>\n",
       "      <td>0.0</td>\n",
       "      <td>0.0</td>\n",
       "    </tr>\n",
       "    <tr>\n",
       "      <th>...</th>\n",
       "      <td>...</td>\n",
       "      <td>...</td>\n",
       "      <td>...</td>\n",
       "      <td>...</td>\n",
       "      <td>...</td>\n",
       "    </tr>\n",
       "    <tr>\n",
       "      <th>1287</th>\n",
       "      <td>data/new_crops/before/makeup before after 3_39.jpg</td>\n",
       "      <td>1.0</td>\n",
       "      <td>0.0</td>\n",
       "      <td>1.0</td>\n",
       "      <td>1.0</td>\n",
       "    </tr>\n",
       "    <tr>\n",
       "      <th>1288</th>\n",
       "      <td>data/new_crops/before/glasses before after 1_11.jpg</td>\n",
       "      <td>0.0</td>\n",
       "      <td>0.0</td>\n",
       "      <td>0.0</td>\n",
       "      <td>0.0</td>\n",
       "    </tr>\n",
       "    <tr>\n",
       "      <th>1289</th>\n",
       "      <td>data/new_crops/before/beard before after 1_32.jpg</td>\n",
       "      <td>0.0</td>\n",
       "      <td>0.0</td>\n",
       "      <td>0.0</td>\n",
       "      <td>0.0</td>\n",
       "    </tr>\n",
       "    <tr>\n",
       "      <th>1290</th>\n",
       "      <td>data/new_crops/before/haircut face before after 1_69.jpg</td>\n",
       "      <td>0.0</td>\n",
       "      <td>0.0</td>\n",
       "      <td>0.0</td>\n",
       "      <td>1.0</td>\n",
       "    </tr>\n",
       "    <tr>\n",
       "      <th>1291</th>\n",
       "      <td>data/new_crops/before/beard before after face chinese 2_11.jpg</td>\n",
       "      <td>0.0</td>\n",
       "      <td>0.0</td>\n",
       "      <td>0.0</td>\n",
       "      <td>0.0</td>\n",
       "    </tr>\n",
       "  </tbody>\n",
       "</table>\n",
       "<p>1292 rows × 5 columns</p>\n",
       "</div>"
      ],
      "text/plain": [
       "                                                        sample_paths  \\\n",
       "0           data/new_crops/before/haircut face before after 3_89.jpg   \n",
       "1                data/new_crops/before/makeup before after 3_108.jpg   \n",
       "2                 data/new_crops/before/makeup before after 3_55.jpg   \n",
       "3            data/new_crops/before/makeup before after arabic_51.jpg   \n",
       "4                  data/new_crops/before/beard before after 2_30.jpg   \n",
       "...                                                              ...   \n",
       "1287              data/new_crops/before/makeup before after 3_39.jpg   \n",
       "1288             data/new_crops/before/glasses before after 1_11.jpg   \n",
       "1289               data/new_crops/before/beard before after 1_32.jpg   \n",
       "1290        data/new_crops/before/haircut face before after 1_69.jpg   \n",
       "1291  data/new_crops/before/beard before after face chinese 2_11.jpg   \n",
       "\n",
       "      lasso_results_1  nn_results_1  lasso_results_2  nn_results_2  \n",
       "0                 1.0           1.0              0.0           1.0  \n",
       "1                 0.0           0.0              0.0           1.0  \n",
       "2                 0.0           0.0              0.0           0.0  \n",
       "3                 1.0           1.0              1.0           1.0  \n",
       "4                 0.0           0.0              0.0           0.0  \n",
       "...               ...           ...              ...           ...  \n",
       "1287              1.0           0.0              1.0           1.0  \n",
       "1288              0.0           0.0              0.0           0.0  \n",
       "1289              0.0           0.0              0.0           0.0  \n",
       "1290              0.0           0.0              0.0           1.0  \n",
       "1291              0.0           0.0              0.0           0.0  \n",
       "\n",
       "[1292 rows x 5 columns]"
      ]
     },
     "execution_count": 83,
     "metadata": {},
     "output_type": "execute_result"
    }
   ],
   "source": [
    "results"
   ]
  },
  {
   "cell_type": "code",
   "execution_count": 38,
   "id": "surgical-tsunami",
   "metadata": {},
   "outputs": [
    {
     "name": "stdout",
     "output_type": "stream",
     "text": [
      "Total images: 1292\n",
      "Predictions that flipped between liberal and conservative using logistic regression model: 200\n",
      "Predictions that flipped between liberal and conservative using neural net: 428\n",
      "Predictions that flipped from liberal to conservative using logistic regression model: 92\n",
      "Predictions that flipped from conservative to liberal using logistic regression model: 108\n",
      "Predictions that flipped from liberal to conservative using neural network: 231\n",
      "Predictions that flipped from conservative to liberal using neural network: 197\n"
     ]
    }
   ],
   "source": [
    "total = len(results)\n",
    "print(f\"Total images: {total}\")\n",
    "\n",
    "lasso_1, lasso_2 = results['lasso_results_1'], results['lasso_results_2']\n",
    "\n",
    "lasso_flipped = (lasso_1 != lasso_2).sum()\n",
    "print(f\"Predictions that flipped between liberal and conservative using logistic regression model: {lasso_flipped}\")\n",
    "\n",
    "nn_flipped = (results['nn_results_1'] != results['nn_results_2']).sum()\n",
    "print(f\"Predictions that flipped between liberal and conservative using neural net: {nn_flipped}\")\n",
    "\n",
    "results['lasso_results_1'].isna().sum()\n",
    "\n",
    "lasso_lib_to_con = len(results[(results['lasso_results_1'] == 0) & (results['lasso_results_2'] == 1)])\n",
    "print(f\"Predictions that flipped from liberal to conservative using logistic regression model: {lasso_lib_to_con}\")\n",
    "\n",
    "lasso_con_to_lib = len(results[(results['lasso_results_1'] == 1) & (results['lasso_results_2'] == 0)])\n",
    "print(f\"Predictions that flipped from conservative to liberal using logistic regression model: {lasso_con_to_lib}\")\n",
    "\n",
    "nn_lib_to_con = len(results[(results['nn_results_1'] == 0) & (results['nn_results_2'] == 1)])\n",
    "print(f\"Predictions that flipped from liberal to conservative using neural network: {nn_lib_to_con}\")\n",
    "\n",
    "nn_con_to_lib = len(results[(results['nn_results_1'] == 1) & (results['nn_results_2'] == 0)])\n",
    "print(f\"Predictions that flipped from conservative to liberal using neural network: {nn_con_to_lib}\")"
   ]
  },
  {
   "cell_type": "code",
   "execution_count": 5,
   "id": "hairy-wednesday",
   "metadata": {},
   "outputs": [],
   "source": [
    "results_path = Path(\"./results/batch_preds.csv\")"
   ]
  },
  {
   "cell_type": "code",
   "execution_count": 105,
   "id": "occupational-style",
   "metadata": {},
   "outputs": [],
   "source": [
    "results.to_csv(results_path)"
   ]
  },
  {
   "cell_type": "code",
   "execution_count": 6,
   "id": "composed-hollywood",
   "metadata": {},
   "outputs": [],
   "source": [
    "pred_results = pd.read_csv(results_path, index_col=0)"
   ]
  },
  {
   "cell_type": "code",
   "execution_count": 6,
   "id": "broken-player",
   "metadata": {},
   "outputs": [
    {
     "data": {
      "text/html": [
       "<div>\n",
       "<style scoped>\n",
       "    .dataframe tbody tr th:only-of-type {\n",
       "        vertical-align: middle;\n",
       "    }\n",
       "\n",
       "    .dataframe tbody tr th {\n",
       "        vertical-align: top;\n",
       "    }\n",
       "\n",
       "    .dataframe thead th {\n",
       "        text-align: right;\n",
       "    }\n",
       "</style>\n",
       "<table border=\"1\" class=\"dataframe\">\n",
       "  <thead>\n",
       "    <tr style=\"text-align: right;\">\n",
       "      <th></th>\n",
       "      <th>sample_paths</th>\n",
       "      <th>lasso_results_1</th>\n",
       "      <th>nn_results_1</th>\n",
       "      <th>lasso_results_2</th>\n",
       "      <th>nn_results_2</th>\n",
       "    </tr>\n",
       "  </thead>\n",
       "  <tbody>\n",
       "    <tr>\n",
       "      <th>0</th>\n",
       "      <td>data/new_crops/before/haircut face before after 3_89.jpg</td>\n",
       "      <td>1.0</td>\n",
       "      <td>1.0</td>\n",
       "      <td>0.0</td>\n",
       "      <td>1.0</td>\n",
       "    </tr>\n",
       "    <tr>\n",
       "      <th>1</th>\n",
       "      <td>data/new_crops/before/makeup before after 3_108.jpg</td>\n",
       "      <td>0.0</td>\n",
       "      <td>0.0</td>\n",
       "      <td>0.0</td>\n",
       "      <td>1.0</td>\n",
       "    </tr>\n",
       "    <tr>\n",
       "      <th>2</th>\n",
       "      <td>data/new_crops/before/makeup before after 3_55.jpg</td>\n",
       "      <td>0.0</td>\n",
       "      <td>0.0</td>\n",
       "      <td>0.0</td>\n",
       "      <td>0.0</td>\n",
       "    </tr>\n",
       "    <tr>\n",
       "      <th>3</th>\n",
       "      <td>data/new_crops/before/makeup before after arabic_51.jpg</td>\n",
       "      <td>1.0</td>\n",
       "      <td>1.0</td>\n",
       "      <td>1.0</td>\n",
       "      <td>1.0</td>\n",
       "    </tr>\n",
       "    <tr>\n",
       "      <th>4</th>\n",
       "      <td>data/new_crops/before/beard before after 2_30.jpg</td>\n",
       "      <td>0.0</td>\n",
       "      <td>0.0</td>\n",
       "      <td>0.0</td>\n",
       "      <td>0.0</td>\n",
       "    </tr>\n",
       "    <tr>\n",
       "      <th>...</th>\n",
       "      <td>...</td>\n",
       "      <td>...</td>\n",
       "      <td>...</td>\n",
       "      <td>...</td>\n",
       "      <td>...</td>\n",
       "    </tr>\n",
       "    <tr>\n",
       "      <th>1287</th>\n",
       "      <td>data/new_crops/before/makeup before after 3_39.jpg</td>\n",
       "      <td>1.0</td>\n",
       "      <td>0.0</td>\n",
       "      <td>1.0</td>\n",
       "      <td>1.0</td>\n",
       "    </tr>\n",
       "    <tr>\n",
       "      <th>1288</th>\n",
       "      <td>data/new_crops/before/glasses before after 1_11.jpg</td>\n",
       "      <td>0.0</td>\n",
       "      <td>0.0</td>\n",
       "      <td>0.0</td>\n",
       "      <td>0.0</td>\n",
       "    </tr>\n",
       "    <tr>\n",
       "      <th>1289</th>\n",
       "      <td>data/new_crops/before/beard before after 1_32.jpg</td>\n",
       "      <td>0.0</td>\n",
       "      <td>0.0</td>\n",
       "      <td>0.0</td>\n",
       "      <td>0.0</td>\n",
       "    </tr>\n",
       "    <tr>\n",
       "      <th>1290</th>\n",
       "      <td>data/new_crops/before/haircut face before after 1_69.jpg</td>\n",
       "      <td>0.0</td>\n",
       "      <td>0.0</td>\n",
       "      <td>0.0</td>\n",
       "      <td>1.0</td>\n",
       "    </tr>\n",
       "    <tr>\n",
       "      <th>1291</th>\n",
       "      <td>data/new_crops/before/beard before after face chinese 2_11.jpg</td>\n",
       "      <td>0.0</td>\n",
       "      <td>0.0</td>\n",
       "      <td>0.0</td>\n",
       "      <td>0.0</td>\n",
       "    </tr>\n",
       "  </tbody>\n",
       "</table>\n",
       "<p>1292 rows × 5 columns</p>\n",
       "</div>"
      ],
      "text/plain": [
       "                                                        sample_paths  \\\n",
       "0           data/new_crops/before/haircut face before after 3_89.jpg   \n",
       "1                data/new_crops/before/makeup before after 3_108.jpg   \n",
       "2                 data/new_crops/before/makeup before after 3_55.jpg   \n",
       "3            data/new_crops/before/makeup before after arabic_51.jpg   \n",
       "4                  data/new_crops/before/beard before after 2_30.jpg   \n",
       "...                                                              ...   \n",
       "1287              data/new_crops/before/makeup before after 3_39.jpg   \n",
       "1288             data/new_crops/before/glasses before after 1_11.jpg   \n",
       "1289               data/new_crops/before/beard before after 1_32.jpg   \n",
       "1290        data/new_crops/before/haircut face before after 1_69.jpg   \n",
       "1291  data/new_crops/before/beard before after face chinese 2_11.jpg   \n",
       "\n",
       "      lasso_results_1  nn_results_1  lasso_results_2  nn_results_2  \n",
       "0                 1.0           1.0              0.0           1.0  \n",
       "1                 0.0           0.0              0.0           1.0  \n",
       "2                 0.0           0.0              0.0           0.0  \n",
       "3                 1.0           1.0              1.0           1.0  \n",
       "4                 0.0           0.0              0.0           0.0  \n",
       "...               ...           ...              ...           ...  \n",
       "1287              1.0           0.0              1.0           1.0  \n",
       "1288              0.0           0.0              0.0           0.0  \n",
       "1289              0.0           0.0              0.0           0.0  \n",
       "1290              0.0           0.0              0.0           1.0  \n",
       "1291              0.0           0.0              0.0           0.0  \n",
       "\n",
       "[1292 rows x 5 columns]"
      ]
     },
     "execution_count": 6,
     "metadata": {},
     "output_type": "execute_result"
    }
   ],
   "source": [
    "pred_results"
   ]
  },
  {
   "cell_type": "code",
   "execution_count": 7,
   "id": "computational-competition",
   "metadata": {},
   "outputs": [],
   "source": [
    "lasso_1 = pred_results['lasso_results_1']\n",
    "lasso_2 = pred_results['lasso_results_2']\n",
    "nn_1 = pred_results['nn_results_1']\n",
    "nn_2 = pred_results['nn_results_2']\n",
    "fns = pred_results['sample_paths']"
   ]
  },
  {
   "cell_type": "code",
   "execution_count": 8,
   "id": "broadband-thong",
   "metadata": {},
   "outputs": [],
   "source": [
    "# extract filename without extension from path\n",
    "fns = fns.map(lambda fn: Path(fn).stem)"
   ]
  },
  {
   "cell_type": "code",
   "execution_count": 9,
   "id": "moved-aside",
   "metadata": {},
   "outputs": [],
   "source": [
    "categories = fns.map(lambda fn: fn.split()[0])"
   ]
  },
  {
   "cell_type": "code",
   "execution_count": 10,
   "id": "eight-costume",
   "metadata": {},
   "outputs": [],
   "source": [
    "def get_cat(stem):\n",
    "    cat_dict = {\n",
    "        'makeupe': 'makeup',\n",
    "        'hiardoo': 'hairdoo',\n",
    "        'hairdoocut': 'haircut'\n",
    "    }\n",
    "    \n",
    "    first_word = stem.split()[0]\n",
    "    \n",
    "    if first_word in cat_dict.keys():\n",
    "        return cat_dict[stem]\n",
    "    else:\n",
    "        return first_word"
   ]
  },
  {
   "cell_type": "code",
   "execution_count": 11,
   "id": "concerned-palace",
   "metadata": {},
   "outputs": [],
   "source": [
    "categories = categories.map(get_cat)"
   ]
  },
  {
   "cell_type": "code",
   "execution_count": 12,
   "id": "substantial-thong",
   "metadata": {},
   "outputs": [],
   "source": [
    "idx = np.where(categories == 'images')[0]"
   ]
  },
  {
   "cell_type": "code",
   "execution_count": 13,
   "id": "finite-village",
   "metadata": {},
   "outputs": [],
   "source": [
    "categories[idx] = fns[idx].map(lambda s: s.split()[2])"
   ]
  },
  {
   "cell_type": "code",
   "execution_count": 14,
   "id": "welsh-blackjack",
   "metadata": {},
   "outputs": [
    {
     "data": {
      "text/plain": [
       "array(['haircut', 'makeup', 'beard', 'drag', 'hairdoo', 'glasses'],\n",
       "      dtype=object)"
      ]
     },
     "execution_count": 14,
     "metadata": {},
     "output_type": "execute_result"
    }
   ],
   "source": [
    "cat_names = categories.unique()\n",
    "cat_names"
   ]
  },
  {
   "cell_type": "code",
   "execution_count": 15,
   "id": "lyric-venice",
   "metadata": {},
   "outputs": [],
   "source": [
    "haircut_preds = pred_results[categories == 'haircut']"
   ]
  },
  {
   "cell_type": "code",
   "execution_count": 66,
   "id": "electronic-michael",
   "metadata": {},
   "outputs": [
    {
     "name": "stdout",
     "output_type": "stream",
     "text": [
      "Number of images before and after haircuts: 287\n"
     ]
    }
   ],
   "source": [
    "print(f\"Number of images before and after haircuts: {len(haircut_preds)}\")"
   ]
  },
  {
   "cell_type": "code",
   "execution_count": 72,
   "id": "restricted-exposure",
   "metadata": {},
   "outputs": [
    {
     "name": "stdout",
     "output_type": "stream",
     "text": [
      "Haircut before predicted liberal: 234\n"
     ]
    }
   ],
   "source": [
    "print(f\"Haircut before predicted liberal: {len(haircut_preds[haircut_preds['lasso_results_1'] == 0])}\")"
   ]
  },
  {
   "cell_type": "code",
   "execution_count": 73,
   "id": "interstate-generic",
   "metadata": {},
   "outputs": [
    {
     "name": "stdout",
     "output_type": "stream",
     "text": [
      "Haircut before predicted conservative: 53\n"
     ]
    }
   ],
   "source": [
    "print(f\"Haircut before predicted conservative: {len(haircut_preds[haircut_preds['lasso_results_1'] == 1])}\")"
   ]
  },
  {
   "cell_type": "code",
   "execution_count": 17,
   "id": "numerical-faith",
   "metadata": {},
   "outputs": [],
   "source": [
    "def get_blank_df():\n",
    "    df = pd.DataFrame(index=cat_names)\n",
    "    df['total'] = np.nan\n",
    "    df['before liberal'] = np.nan\n",
    "    df['before conservative'] = np.nan\n",
    "    df['after liberal'] = np.nan\n",
    "    df['after conservative'] = np.nan\n",
    "    \n",
    "    return df"
   ]
  },
  {
   "cell_type": "code",
   "execution_count": 18,
   "id": "dental-functionality",
   "metadata": {},
   "outputs": [],
   "source": [
    "def get_analysis(df: pd.DataFrame = None, before_colname = \"\", after_colname = \"\"):\n",
    "    \n",
    "    if df == None:\n",
    "        df = get_blank_df()\n",
    "        \n",
    "    for cat in cat_names:\n",
    "        pred_slice = pred_results[categories == cat]\n",
    "        total = len(pred_slice)\n",
    "        before_lib = len(pred_slice[pred_slice[before_colname] == 0])\n",
    "        before_con = len(pred_slice[pred_slice[before_colname] == 1])\n",
    "        after_lib = len(pred_slice[pred_slice[after_colname] == 0])\n",
    "        after_con = len(pred_slice[pred_slice[after_colname] == 1])\n",
    "\n",
    "        df.loc[[cat], ['total']] = total\n",
    "        df.loc[[cat], ['before liberal']] = before_lib\n",
    "        df.loc[[cat], ['before conservative']] = before_con\n",
    "        df.loc[[cat], ['after liberal']] = after_lib\n",
    "        df.loc[[cat], ['after conservative']] = after_con\n",
    "\n",
    "    total = df.sum()\n",
    "    total.name = 'total'\n",
    "    df = df.append(total.transpose())\n",
    "\n",
    "    return df"
   ]
  },
  {
   "cell_type": "code",
   "execution_count": 32,
   "id": "social-porcelain",
   "metadata": {},
   "outputs": [],
   "source": [
    "lasso_analysis_df = get_analysis(before_colname=\"lasso_results_1\", after_colname=\"lasso_results_2\")"
   ]
  },
  {
   "cell_type": "code",
   "execution_count": 33,
   "id": "placed-sierra",
   "metadata": {},
   "outputs": [
    {
     "data": {
      "text/html": [
       "<div>\n",
       "<style scoped>\n",
       "    .dataframe tbody tr th:only-of-type {\n",
       "        vertical-align: middle;\n",
       "    }\n",
       "\n",
       "    .dataframe tbody tr th {\n",
       "        vertical-align: top;\n",
       "    }\n",
       "\n",
       "    .dataframe thead th {\n",
       "        text-align: right;\n",
       "    }\n",
       "</style>\n",
       "<table border=\"1\" class=\"dataframe\">\n",
       "  <thead>\n",
       "    <tr style=\"text-align: right;\">\n",
       "      <th></th>\n",
       "      <th>total</th>\n",
       "      <th>before liberal</th>\n",
       "      <th>before conservative</th>\n",
       "      <th>after liberal</th>\n",
       "      <th>after conservative</th>\n",
       "    </tr>\n",
       "  </thead>\n",
       "  <tbody>\n",
       "    <tr>\n",
       "      <th>haircut</th>\n",
       "      <td>287.0</td>\n",
       "      <td>234.0</td>\n",
       "      <td>53.0</td>\n",
       "      <td>236.0</td>\n",
       "      <td>51.0</td>\n",
       "    </tr>\n",
       "    <tr>\n",
       "      <th>makeup</th>\n",
       "      <td>386.0</td>\n",
       "      <td>332.0</td>\n",
       "      <td>54.0</td>\n",
       "      <td>336.0</td>\n",
       "      <td>50.0</td>\n",
       "    </tr>\n",
       "    <tr>\n",
       "      <th>beard</th>\n",
       "      <td>357.0</td>\n",
       "      <td>320.0</td>\n",
       "      <td>37.0</td>\n",
       "      <td>339.0</td>\n",
       "      <td>18.0</td>\n",
       "    </tr>\n",
       "    <tr>\n",
       "      <th>drag</th>\n",
       "      <td>168.0</td>\n",
       "      <td>146.0</td>\n",
       "      <td>22.0</td>\n",
       "      <td>141.0</td>\n",
       "      <td>27.0</td>\n",
       "    </tr>\n",
       "    <tr>\n",
       "      <th>hairdoo</th>\n",
       "      <td>68.0</td>\n",
       "      <td>60.0</td>\n",
       "      <td>8.0</td>\n",
       "      <td>59.0</td>\n",
       "      <td>9.0</td>\n",
       "    </tr>\n",
       "    <tr>\n",
       "      <th>glasses</th>\n",
       "      <td>26.0</td>\n",
       "      <td>24.0</td>\n",
       "      <td>2.0</td>\n",
       "      <td>21.0</td>\n",
       "      <td>5.0</td>\n",
       "    </tr>\n",
       "    <tr>\n",
       "      <th>total</th>\n",
       "      <td>1292.0</td>\n",
       "      <td>1116.0</td>\n",
       "      <td>176.0</td>\n",
       "      <td>1132.0</td>\n",
       "      <td>160.0</td>\n",
       "    </tr>\n",
       "  </tbody>\n",
       "</table>\n",
       "</div>"
      ],
      "text/plain": [
       "          total  before liberal  before conservative  after liberal  \\\n",
       "haircut   287.0           234.0                 53.0          236.0   \n",
       "makeup    386.0           332.0                 54.0          336.0   \n",
       "beard     357.0           320.0                 37.0          339.0   \n",
       "drag      168.0           146.0                 22.0          141.0   \n",
       "hairdoo    68.0            60.0                  8.0           59.0   \n",
       "glasses    26.0            24.0                  2.0           21.0   \n",
       "total    1292.0          1116.0                176.0         1132.0   \n",
       "\n",
       "         after conservative  \n",
       "haircut                51.0  \n",
       "makeup                 50.0  \n",
       "beard                  18.0  \n",
       "drag                   27.0  \n",
       "hairdoo                 9.0  \n",
       "glasses                 5.0  \n",
       "total                 160.0  "
      ]
     },
     "execution_count": 33,
     "metadata": {},
     "output_type": "execute_result"
    }
   ],
   "source": [
    "lasso_analysis_df"
   ]
  },
  {
   "cell_type": "code",
   "execution_count": 66,
   "id": "naked-boulder",
   "metadata": {},
   "outputs": [],
   "source": [
    "lasso_analysis_df.to_csv('./results/lasso_retest_analysis.csv')"
   ]
  },
  {
   "cell_type": "code",
   "execution_count": 29,
   "id": "turned-humanity",
   "metadata": {},
   "outputs": [],
   "source": [
    "nn_analysis_df = get_analysis(before_colname=\"nn_results_1\", after_colname=\"nn_results_2\")"
   ]
  },
  {
   "cell_type": "code",
   "execution_count": 30,
   "id": "needed-technical",
   "metadata": {},
   "outputs": [
    {
     "data": {
      "text/html": [
       "<div>\n",
       "<style scoped>\n",
       "    .dataframe tbody tr th:only-of-type {\n",
       "        vertical-align: middle;\n",
       "    }\n",
       "\n",
       "    .dataframe tbody tr th {\n",
       "        vertical-align: top;\n",
       "    }\n",
       "\n",
       "    .dataframe thead th {\n",
       "        text-align: right;\n",
       "    }\n",
       "</style>\n",
       "<table border=\"1\" class=\"dataframe\">\n",
       "  <thead>\n",
       "    <tr style=\"text-align: right;\">\n",
       "      <th></th>\n",
       "      <th>total</th>\n",
       "      <th>before liberal</th>\n",
       "      <th>before conservative</th>\n",
       "      <th>after liberal</th>\n",
       "      <th>after conservative</th>\n",
       "    </tr>\n",
       "  </thead>\n",
       "  <tbody>\n",
       "    <tr>\n",
       "      <th>haircut</th>\n",
       "      <td>287.0</td>\n",
       "      <td>142.0</td>\n",
       "      <td>145.0</td>\n",
       "      <td>134.0</td>\n",
       "      <td>153.0</td>\n",
       "    </tr>\n",
       "    <tr>\n",
       "      <th>makeup</th>\n",
       "      <td>386.0</td>\n",
       "      <td>205.0</td>\n",
       "      <td>181.0</td>\n",
       "      <td>206.0</td>\n",
       "      <td>180.0</td>\n",
       "    </tr>\n",
       "    <tr>\n",
       "      <th>beard</th>\n",
       "      <td>357.0</td>\n",
       "      <td>175.0</td>\n",
       "      <td>182.0</td>\n",
       "      <td>152.0</td>\n",
       "      <td>205.0</td>\n",
       "    </tr>\n",
       "    <tr>\n",
       "      <th>drag</th>\n",
       "      <td>168.0</td>\n",
       "      <td>76.0</td>\n",
       "      <td>92.0</td>\n",
       "      <td>69.0</td>\n",
       "      <td>99.0</td>\n",
       "    </tr>\n",
       "    <tr>\n",
       "      <th>hairdoo</th>\n",
       "      <td>68.0</td>\n",
       "      <td>24.0</td>\n",
       "      <td>44.0</td>\n",
       "      <td>27.0</td>\n",
       "      <td>41.0</td>\n",
       "    </tr>\n",
       "    <tr>\n",
       "      <th>glasses</th>\n",
       "      <td>26.0</td>\n",
       "      <td>15.0</td>\n",
       "      <td>11.0</td>\n",
       "      <td>15.0</td>\n",
       "      <td>11.0</td>\n",
       "    </tr>\n",
       "    <tr>\n",
       "      <th>total</th>\n",
       "      <td>1292.0</td>\n",
       "      <td>637.0</td>\n",
       "      <td>655.0</td>\n",
       "      <td>603.0</td>\n",
       "      <td>689.0</td>\n",
       "    </tr>\n",
       "  </tbody>\n",
       "</table>\n",
       "</div>"
      ],
      "text/plain": [
       "          total  before liberal  before conservative  after liberal  \\\n",
       "haircut   287.0           142.0                145.0          134.0   \n",
       "makeup    386.0           205.0                181.0          206.0   \n",
       "beard     357.0           175.0                182.0          152.0   \n",
       "drag      168.0            76.0                 92.0           69.0   \n",
       "hairdoo    68.0            24.0                 44.0           27.0   \n",
       "glasses    26.0            15.0                 11.0           15.0   \n",
       "total    1292.0           637.0                655.0          603.0   \n",
       "\n",
       "         after conservative  \n",
       "haircut               153.0  \n",
       "makeup                180.0  \n",
       "beard                 205.0  \n",
       "drag                   99.0  \n",
       "hairdoo                41.0  \n",
       "glasses                11.0  \n",
       "total                 689.0  "
      ]
     },
     "execution_count": 30,
     "metadata": {},
     "output_type": "execute_result"
    }
   ],
   "source": [
    "nn_analysis_df"
   ]
  },
  {
   "cell_type": "code",
   "execution_count": 31,
   "id": "described-senior",
   "metadata": {},
   "outputs": [],
   "source": [
    "nn_analysis_df.to_csv('./results/nn_retest_analysis.csv')"
   ]
  },
  {
   "cell_type": "code",
   "execution_count": 34,
   "id": "checked-charles",
   "metadata": {},
   "outputs": [],
   "source": [
    "from scipy.stats import chi2_contingency"
   ]
  },
  {
   "cell_type": "code",
   "execution_count": 49,
   "id": "embedded-chance",
   "metadata": {},
   "outputs": [
    {
     "data": {
      "text/plain": [
       "array([[1116.,  176., 1132.,  160.]])"
      ]
     },
     "execution_count": 49,
     "metadata": {},
     "output_type": "execute_result"
    }
   ],
   "source": [
    "lasso_total_preds = lasso_analysis_df.loc[['total']].values[:,1:]\n",
    "lasso_total_preds"
   ]
  },
  {
   "cell_type": "code",
   "execution_count": 51,
   "id": "greatest-aircraft",
   "metadata": {},
   "outputs": [
    {
     "data": {
      "text/plain": [
       "(0.7697318251143873,\n",
       " 0.380300027154185,\n",
       " 1,\n",
       " array([[1124.,  168.],\n",
       "        [1124.,  168.]]))"
      ]
     },
     "execution_count": 51,
     "metadata": {},
     "output_type": "execute_result"
    }
   ],
   "source": [
    "chi2_contingency([[1116.,  176.], [1132.,  160.]])"
   ]
  },
  {
   "cell_type": "code",
   "execution_count": 52,
   "id": "separate-edgar",
   "metadata": {},
   "outputs": [],
   "source": [
    "lasso_analysis_df['chi_squared'] = np.nan"
   ]
  },
  {
   "cell_type": "code",
   "execution_count": 64,
   "id": "lesser-forum",
   "metadata": {},
   "outputs": [],
   "source": [
    "def get_chi_squared(row):\n",
    "    bl = row['before liberal']\n",
    "    bc = row['before conservative']\n",
    "    al = row['after liberal']\n",
    "    ac = row['after conservative']\n",
    "    \n",
    "    return chi2_contingency([[bl,  bc], [al,  ac]])[:2]\n",
    "    \n",
    "\n",
    "lasso_analysis_df['chi_squared'] = lasso_analysis_df.apply(get_chi_squared, axis=1)"
   ]
  },
  {
   "cell_type": "code",
   "execution_count": 65,
   "id": "statistical-summer",
   "metadata": {},
   "outputs": [
    {
     "data": {
      "text/html": [
       "<div>\n",
       "<style scoped>\n",
       "    .dataframe tbody tr th:only-of-type {\n",
       "        vertical-align: middle;\n",
       "    }\n",
       "\n",
       "    .dataframe tbody tr th {\n",
       "        vertical-align: top;\n",
       "    }\n",
       "\n",
       "    .dataframe thead th {\n",
       "        text-align: right;\n",
       "    }\n",
       "</style>\n",
       "<table border=\"1\" class=\"dataframe\">\n",
       "  <thead>\n",
       "    <tr style=\"text-align: right;\">\n",
       "      <th></th>\n",
       "      <th>total</th>\n",
       "      <th>before liberal</th>\n",
       "      <th>before conservative</th>\n",
       "      <th>after liberal</th>\n",
       "      <th>after conservative</th>\n",
       "      <th>chi_squared</th>\n",
       "    </tr>\n",
       "  </thead>\n",
       "  <tbody>\n",
       "    <tr>\n",
       "      <th>haircut</th>\n",
       "      <td>287.0</td>\n",
       "      <td>234.0</td>\n",
       "      <td>53.0</td>\n",
       "      <td>236.0</td>\n",
       "      <td>51.0</td>\n",
       "      <td>(0.0117430441898527, 0.9137059038318389)</td>\n",
       "    </tr>\n",
       "    <tr>\n",
       "      <th>makeup</th>\n",
       "      <td>386.0</td>\n",
       "      <td>332.0</td>\n",
       "      <td>54.0</td>\n",
       "      <td>336.0</td>\n",
       "      <td>50.0</td>\n",
       "      <td>(0.1000115154306771, 0.7518158155181155)</td>\n",
       "    </tr>\n",
       "    <tr>\n",
       "      <th>beard</th>\n",
       "      <td>357.0</td>\n",
       "      <td>320.0</td>\n",
       "      <td>37.0</td>\n",
       "      <td>339.0</td>\n",
       "      <td>18.0</td>\n",
       "      <td>(6.3825631121534006, 0.011524688103102226)</td>\n",
       "    </tr>\n",
       "    <tr>\n",
       "      <th>drag</th>\n",
       "      <td>168.0</td>\n",
       "      <td>146.0</td>\n",
       "      <td>22.0</td>\n",
       "      <td>141.0</td>\n",
       "      <td>27.0</td>\n",
       "      <td>(0.38227974116475855, 0.5363856757737189)</td>\n",
       "    </tr>\n",
       "    <tr>\n",
       "      <th>hairdoo</th>\n",
       "      <td>68.0</td>\n",
       "      <td>60.0</td>\n",
       "      <td>8.0</td>\n",
       "      <td>59.0</td>\n",
       "      <td>9.0</td>\n",
       "      <td>(0.0, 1.0)</td>\n",
       "    </tr>\n",
       "    <tr>\n",
       "      <th>glasses</th>\n",
       "      <td>26.0</td>\n",
       "      <td>24.0</td>\n",
       "      <td>2.0</td>\n",
       "      <td>21.0</td>\n",
       "      <td>5.0</td>\n",
       "      <td>(0.6603174603174603, 0.4164478902261446)</td>\n",
       "    </tr>\n",
       "    <tr>\n",
       "      <th>total</th>\n",
       "      <td>1292.0</td>\n",
       "      <td>1116.0</td>\n",
       "      <td>176.0</td>\n",
       "      <td>1132.0</td>\n",
       "      <td>160.0</td>\n",
       "      <td>(0.7697318251143873, 0.380300027154185)</td>\n",
       "    </tr>\n",
       "  </tbody>\n",
       "</table>\n",
       "</div>"
      ],
      "text/plain": [
       "          total  before liberal  before conservative  after liberal  \\\n",
       "haircut   287.0           234.0                 53.0          236.0   \n",
       "makeup    386.0           332.0                 54.0          336.0   \n",
       "beard     357.0           320.0                 37.0          339.0   \n",
       "drag      168.0           146.0                 22.0          141.0   \n",
       "hairdoo    68.0            60.0                  8.0           59.0   \n",
       "glasses    26.0            24.0                  2.0           21.0   \n",
       "total    1292.0          1116.0                176.0         1132.0   \n",
       "\n",
       "         after conservative                                 chi_squared  \n",
       "haircut                51.0    (0.0117430441898527, 0.9137059038318389)  \n",
       "makeup                 50.0    (0.1000115154306771, 0.7518158155181155)  \n",
       "beard                  18.0  (6.3825631121534006, 0.011524688103102226)  \n",
       "drag                   27.0   (0.38227974116475855, 0.5363856757737189)  \n",
       "hairdoo                 9.0                                  (0.0, 1.0)  \n",
       "glasses                 5.0    (0.6603174603174603, 0.4164478902261446)  \n",
       "total                 160.0     (0.7697318251143873, 0.380300027154185)  "
      ]
     },
     "execution_count": 65,
     "metadata": {},
     "output_type": "execute_result"
    }
   ],
   "source": [
    "lasso_analysis_df"
   ]
  },
  {
   "cell_type": "code",
   "execution_count": 66,
   "id": "comfortable-slovenia",
   "metadata": {},
   "outputs": [],
   "source": [
    "lasso_analysis_df.to_csv('./results/lasso_retest_analysis.csv')"
   ]
  },
  {
   "cell_type": "code",
   "execution_count": 67,
   "id": "variable-tuition",
   "metadata": {},
   "outputs": [],
   "source": [
    "nn_analysis_df['chi_squared'] = nn_analysis_df.apply(get_chi_squared, axis=1)"
   ]
  },
  {
   "cell_type": "code",
   "execution_count": 68,
   "id": "fancy-threshold",
   "metadata": {},
   "outputs": [
    {
     "data": {
      "text/html": [
       "<div>\n",
       "<style scoped>\n",
       "    .dataframe tbody tr th:only-of-type {\n",
       "        vertical-align: middle;\n",
       "    }\n",
       "\n",
       "    .dataframe tbody tr th {\n",
       "        vertical-align: top;\n",
       "    }\n",
       "\n",
       "    .dataframe thead th {\n",
       "        text-align: right;\n",
       "    }\n",
       "</style>\n",
       "<table border=\"1\" class=\"dataframe\">\n",
       "  <thead>\n",
       "    <tr style=\"text-align: right;\">\n",
       "      <th></th>\n",
       "      <th>total</th>\n",
       "      <th>before liberal</th>\n",
       "      <th>before conservative</th>\n",
       "      <th>after liberal</th>\n",
       "      <th>after conservative</th>\n",
       "      <th>chi_squared</th>\n",
       "    </tr>\n",
       "  </thead>\n",
       "  <tbody>\n",
       "    <tr>\n",
       "      <th>haircut</th>\n",
       "      <td>287.0</td>\n",
       "      <td>142.0</td>\n",
       "      <td>145.0</td>\n",
       "      <td>134.0</td>\n",
       "      <td>153.0</td>\n",
       "      <td>(0.3419657620854003, 0.5586967386040109)</td>\n",
       "    </tr>\n",
       "    <tr>\n",
       "      <th>makeup</th>\n",
       "      <td>386.0</td>\n",
       "      <td>205.0</td>\n",
       "      <td>181.0</td>\n",
       "      <td>206.0</td>\n",
       "      <td>180.0</td>\n",
       "      <td>(0.0, 1.0)</td>\n",
       "    </tr>\n",
       "    <tr>\n",
       "      <th>beard</th>\n",
       "      <td>357.0</td>\n",
       "      <td>175.0</td>\n",
       "      <td>182.0</td>\n",
       "      <td>152.0</td>\n",
       "      <td>205.0</td>\n",
       "      <td>(2.7307683189910628, 0.09843192132463244)</td>\n",
       "    </tr>\n",
       "    <tr>\n",
       "      <th>drag</th>\n",
       "      <td>168.0</td>\n",
       "      <td>76.0</td>\n",
       "      <td>92.0</td>\n",
       "      <td>69.0</td>\n",
       "      <td>99.0</td>\n",
       "      <td>(0.4367575374616357, 0.5086916201104175)</td>\n",
       "    </tr>\n",
       "    <tr>\n",
       "      <th>hairdoo</th>\n",
       "      <td>68.0</td>\n",
       "      <td>24.0</td>\n",
       "      <td>44.0</td>\n",
       "      <td>27.0</td>\n",
       "      <td>41.0</td>\n",
       "      <td>(0.12549019607843137, 0.7231545670823014)</td>\n",
       "    </tr>\n",
       "    <tr>\n",
       "      <th>glasses</th>\n",
       "      <td>26.0</td>\n",
       "      <td>15.0</td>\n",
       "      <td>11.0</td>\n",
       "      <td>15.0</td>\n",
       "      <td>11.0</td>\n",
       "      <td>(0.0, 1.0)</td>\n",
       "    </tr>\n",
       "    <tr>\n",
       "      <th>total</th>\n",
       "      <td>1292.0</td>\n",
       "      <td>637.0</td>\n",
       "      <td>655.0</td>\n",
       "      <td>603.0</td>\n",
       "      <td>689.0</td>\n",
       "      <td>(1.68849366359447, 0.19379965652517878)</td>\n",
       "    </tr>\n",
       "  </tbody>\n",
       "</table>\n",
       "</div>"
      ],
      "text/plain": [
       "          total  before liberal  before conservative  after liberal  \\\n",
       "haircut   287.0           142.0                145.0          134.0   \n",
       "makeup    386.0           205.0                181.0          206.0   \n",
       "beard     357.0           175.0                182.0          152.0   \n",
       "drag      168.0            76.0                 92.0           69.0   \n",
       "hairdoo    68.0            24.0                 44.0           27.0   \n",
       "glasses    26.0            15.0                 11.0           15.0   \n",
       "total    1292.0           637.0                655.0          603.0   \n",
       "\n",
       "         after conservative                                chi_squared  \n",
       "haircut               153.0   (0.3419657620854003, 0.5586967386040109)  \n",
       "makeup                180.0                                 (0.0, 1.0)  \n",
       "beard                 205.0  (2.7307683189910628, 0.09843192132463244)  \n",
       "drag                   99.0   (0.4367575374616357, 0.5086916201104175)  \n",
       "hairdoo                41.0  (0.12549019607843137, 0.7231545670823014)  \n",
       "glasses                11.0                                 (0.0, 1.0)  \n",
       "total                 689.0    (1.68849366359447, 0.19379965652517878)  "
      ]
     },
     "execution_count": 68,
     "metadata": {},
     "output_type": "execute_result"
    }
   ],
   "source": [
    "nn_analysis_df"
   ]
  },
  {
   "cell_type": "code",
   "execution_count": 69,
   "id": "adaptive-virginia",
   "metadata": {},
   "outputs": [],
   "source": [
    "nn_analysis_df.to_csv('./results/nn_retest_analysis.csv')"
   ]
  },
  {
   "cell_type": "code",
   "execution_count": 59,
   "id": "architectural-coach",
   "metadata": {},
   "outputs": [],
   "source": [
    "def get_contingency_table(df: pd.DataFrame = None, before_colname = \"\", after_colname = \"\"):\n",
    "    \n",
    "    if df == None:\n",
    "        df = pd.DataFrame(index=cat_names)\n",
    "        \n",
    "    for cat in cat_names:\n",
    "        pred_slice = pred_results[categories == cat]\n",
    "        total = len(pred_slice)\n",
    "        blal = len(pred_slice[(pred_slice[before_colname] == 0) & (pred_slice[after_colname] == 0)])\n",
    "        blac = len(pred_slice[(pred_slice[before_colname] == 0) & (pred_slice[after_colname] == 1)])\n",
    "        bcac = len(pred_slice[(pred_slice[before_colname] == 1) & (pred_slice[after_colname] == 1)])\n",
    "        bcal = len(pred_slice[(pred_slice[before_colname] == 1) & (pred_slice[after_colname] == 0)])\n",
    "\n",
    "        df.loc[[cat], ['total']] = total\n",
    "        df.loc[[cat], ['blal']] = blal\n",
    "        df.loc[[cat], ['blac']] = blac\n",
    "        df.loc[[cat], ['bcac']] = bcac\n",
    "        df.loc[[cat], ['bcal']] = bcal\n",
    "\n",
    "    total = df.sum()\n",
    "    total.name = 'total'\n",
    "    df = df.append(total.transpose())\n",
    "\n",
    "    return df"
   ]
  },
  {
   "cell_type": "code",
   "execution_count": 85,
   "id": "coastal-macro",
   "metadata": {},
   "outputs": [],
   "source": [
    "lasso_contingency = get_contingency_table(before_colname=\"lasso_results_1\", after_colname=\"lasso_results_2\")"
   ]
  },
  {
   "cell_type": "code",
   "execution_count": 61,
   "id": "infectious-representative",
   "metadata": {},
   "outputs": [
    {
     "data": {
      "text/html": [
       "<div>\n",
       "<style scoped>\n",
       "    .dataframe tbody tr th:only-of-type {\n",
       "        vertical-align: middle;\n",
       "    }\n",
       "\n",
       "    .dataframe tbody tr th {\n",
       "        vertical-align: top;\n",
       "    }\n",
       "\n",
       "    .dataframe thead th {\n",
       "        text-align: right;\n",
       "    }\n",
       "</style>\n",
       "<table border=\"1\" class=\"dataframe\">\n",
       "  <thead>\n",
       "    <tr style=\"text-align: right;\">\n",
       "      <th></th>\n",
       "      <th>total</th>\n",
       "      <th>blal</th>\n",
       "      <th>blac</th>\n",
       "      <th>bcac</th>\n",
       "      <th>bcal</th>\n",
       "    </tr>\n",
       "  </thead>\n",
       "  <tbody>\n",
       "    <tr>\n",
       "      <th>haircut</th>\n",
       "      <td>287.0</td>\n",
       "      <td>210.0</td>\n",
       "      <td>24.0</td>\n",
       "      <td>27.0</td>\n",
       "      <td>26.0</td>\n",
       "    </tr>\n",
       "    <tr>\n",
       "      <th>makeup</th>\n",
       "      <td>386.0</td>\n",
       "      <td>306.0</td>\n",
       "      <td>26.0</td>\n",
       "      <td>24.0</td>\n",
       "      <td>30.0</td>\n",
       "    </tr>\n",
       "    <tr>\n",
       "      <th>beard</th>\n",
       "      <td>357.0</td>\n",
       "      <td>310.0</td>\n",
       "      <td>10.0</td>\n",
       "      <td>8.0</td>\n",
       "      <td>29.0</td>\n",
       "    </tr>\n",
       "    <tr>\n",
       "      <th>drag</th>\n",
       "      <td>168.0</td>\n",
       "      <td>124.0</td>\n",
       "      <td>22.0</td>\n",
       "      <td>5.0</td>\n",
       "      <td>17.0</td>\n",
       "    </tr>\n",
       "    <tr>\n",
       "      <th>hairdoo</th>\n",
       "      <td>68.0</td>\n",
       "      <td>54.0</td>\n",
       "      <td>6.0</td>\n",
       "      <td>3.0</td>\n",
       "      <td>5.0</td>\n",
       "    </tr>\n",
       "    <tr>\n",
       "      <th>glasses</th>\n",
       "      <td>26.0</td>\n",
       "      <td>20.0</td>\n",
       "      <td>4.0</td>\n",
       "      <td>1.0</td>\n",
       "      <td>1.0</td>\n",
       "    </tr>\n",
       "    <tr>\n",
       "      <th>total</th>\n",
       "      <td>1292.0</td>\n",
       "      <td>1024.0</td>\n",
       "      <td>92.0</td>\n",
       "      <td>68.0</td>\n",
       "      <td>108.0</td>\n",
       "    </tr>\n",
       "  </tbody>\n",
       "</table>\n",
       "</div>"
      ],
      "text/plain": [
       "          total    blal  blac  bcac   bcal\n",
       "haircut   287.0   210.0  24.0  27.0   26.0\n",
       "makeup    386.0   306.0  26.0  24.0   30.0\n",
       "beard     357.0   310.0  10.0   8.0   29.0\n",
       "drag      168.0   124.0  22.0   5.0   17.0\n",
       "hairdoo    68.0    54.0   6.0   3.0    5.0\n",
       "glasses    26.0    20.0   4.0   1.0    1.0\n",
       "total    1292.0  1024.0  92.0  68.0  108.0"
      ]
     },
     "execution_count": 61,
     "metadata": {},
     "output_type": "execute_result"
    }
   ],
   "source": [
    "lasso_contingency"
   ]
  },
  {
   "cell_type": "code",
   "execution_count": 84,
   "id": "offshore-anthropology",
   "metadata": {},
   "outputs": [],
   "source": [
    "def get_mcnemar(row, target='statistic'):\n",
    "    blal = row['blal']\n",
    "    blac = row['blac']\n",
    "    bcac = row['bcac']\n",
    "    bcal = row['bcal']\n",
    "    \n",
    "    mc = mcnemar([[blal,  blac], [bcal,  bcac]])\n",
    "    \n",
    "    return mc.statistic, mc.pvalue"
   ]
  },
  {
   "cell_type": "code",
   "execution_count": 87,
   "id": "broken-candy",
   "metadata": {},
   "outputs": [
    {
     "data": {
      "text/plain": [
       "haircut        (24.0, 0.887724827340783)\n",
       "makeup        (26.0, 0.6888797607233395)\n",
       "beard      (10.0, 0.0033778479119064286)\n",
       "drag          (17.0, 0.5223973804968411)\n",
       "hairdoo                       (5.0, 1.0)\n",
       "glasses                     (1.0, 0.375)\n",
       "total         (92.0, 0.2888204971747663)\n",
       "dtype: object"
      ]
     },
     "execution_count": 87,
     "metadata": {},
     "output_type": "execute_result"
    }
   ],
   "source": [
    "lasso_contingency.apply(get_mcnemar, axis=1)"
   ]
  },
  {
   "cell_type": "code",
   "execution_count": 91,
   "id": "olive-principal",
   "metadata": {},
   "outputs": [],
   "source": [
    "lasso_contingency['statistic','pvalue'] = lasso_contingency.apply(get_mcnemar, axis=1)"
   ]
  },
  {
   "cell_type": "code",
   "execution_count": 92,
   "id": "professional-forge",
   "metadata": {},
   "outputs": [
    {
     "data": {
      "text/html": [
       "<div>\n",
       "<style scoped>\n",
       "    .dataframe tbody tr th:only-of-type {\n",
       "        vertical-align: middle;\n",
       "    }\n",
       "\n",
       "    .dataframe tbody tr th {\n",
       "        vertical-align: top;\n",
       "    }\n",
       "\n",
       "    .dataframe thead th {\n",
       "        text-align: right;\n",
       "    }\n",
       "</style>\n",
       "<table border=\"1\" class=\"dataframe\">\n",
       "  <thead>\n",
       "    <tr style=\"text-align: right;\">\n",
       "      <th></th>\n",
       "      <th>total</th>\n",
       "      <th>blal</th>\n",
       "      <th>blac</th>\n",
       "      <th>bcac</th>\n",
       "      <th>bcal</th>\n",
       "      <th>(statistic, pvalue)</th>\n",
       "    </tr>\n",
       "  </thead>\n",
       "  <tbody>\n",
       "    <tr>\n",
       "      <th>haircut</th>\n",
       "      <td>287.0</td>\n",
       "      <td>210.0</td>\n",
       "      <td>24.0</td>\n",
       "      <td>27.0</td>\n",
       "      <td>26.0</td>\n",
       "      <td>(24.0, 0.887724827340783)</td>\n",
       "    </tr>\n",
       "    <tr>\n",
       "      <th>makeup</th>\n",
       "      <td>386.0</td>\n",
       "      <td>306.0</td>\n",
       "      <td>26.0</td>\n",
       "      <td>24.0</td>\n",
       "      <td>30.0</td>\n",
       "      <td>(26.0, 0.6888797607233395)</td>\n",
       "    </tr>\n",
       "    <tr>\n",
       "      <th>beard</th>\n",
       "      <td>357.0</td>\n",
       "      <td>310.0</td>\n",
       "      <td>10.0</td>\n",
       "      <td>8.0</td>\n",
       "      <td>29.0</td>\n",
       "      <td>(10.0, 0.0033778479119064286)</td>\n",
       "    </tr>\n",
       "    <tr>\n",
       "      <th>drag</th>\n",
       "      <td>168.0</td>\n",
       "      <td>124.0</td>\n",
       "      <td>22.0</td>\n",
       "      <td>5.0</td>\n",
       "      <td>17.0</td>\n",
       "      <td>(17.0, 0.5223973804968411)</td>\n",
       "    </tr>\n",
       "    <tr>\n",
       "      <th>hairdoo</th>\n",
       "      <td>68.0</td>\n",
       "      <td>54.0</td>\n",
       "      <td>6.0</td>\n",
       "      <td>3.0</td>\n",
       "      <td>5.0</td>\n",
       "      <td>(5.0, 1.0)</td>\n",
       "    </tr>\n",
       "    <tr>\n",
       "      <th>glasses</th>\n",
       "      <td>26.0</td>\n",
       "      <td>20.0</td>\n",
       "      <td>4.0</td>\n",
       "      <td>1.0</td>\n",
       "      <td>1.0</td>\n",
       "      <td>(1.0, 0.375)</td>\n",
       "    </tr>\n",
       "    <tr>\n",
       "      <th>total</th>\n",
       "      <td>1292.0</td>\n",
       "      <td>1024.0</td>\n",
       "      <td>92.0</td>\n",
       "      <td>68.0</td>\n",
       "      <td>108.0</td>\n",
       "      <td>(92.0, 0.2888204971747663)</td>\n",
       "    </tr>\n",
       "  </tbody>\n",
       "</table>\n",
       "</div>"
      ],
      "text/plain": [
       "          total    blal  blac  bcac   bcal            (statistic, pvalue)\n",
       "haircut   287.0   210.0  24.0  27.0   26.0      (24.0, 0.887724827340783)\n",
       "makeup    386.0   306.0  26.0  24.0   30.0     (26.0, 0.6888797607233395)\n",
       "beard     357.0   310.0  10.0   8.0   29.0  (10.0, 0.0033778479119064286)\n",
       "drag      168.0   124.0  22.0   5.0   17.0     (17.0, 0.5223973804968411)\n",
       "hairdoo    68.0    54.0   6.0   3.0    5.0                     (5.0, 1.0)\n",
       "glasses    26.0    20.0   4.0   1.0    1.0                   (1.0, 0.375)\n",
       "total    1292.0  1024.0  92.0  68.0  108.0     (92.0, 0.2888204971747663)"
      ]
     },
     "execution_count": 92,
     "metadata": {},
     "output_type": "execute_result"
    }
   ],
   "source": [
    "lasso_contingency"
   ]
  },
  {
   "cell_type": "code",
   "execution_count": 93,
   "id": "heated-nicholas",
   "metadata": {},
   "outputs": [],
   "source": [
    "lasso_contingency.to_csv('./results/lasso_mcnemar.csv')"
   ]
  },
  {
   "cell_type": "code",
   "execution_count": 94,
   "id": "hawaiian-toolbox",
   "metadata": {},
   "outputs": [],
   "source": [
    "nn_contingency = get_contingency_table(before_colname=\"nn_results_1\", after_colname=\"nn_results_2\")"
   ]
  },
  {
   "cell_type": "code",
   "execution_count": 95,
   "id": "modern-boston",
   "metadata": {},
   "outputs": [],
   "source": [
    "nn_contingency['statistic','pvalue'] = nn_contingency.apply(get_mcnemar, axis=1)"
   ]
  },
  {
   "cell_type": "code",
   "execution_count": 96,
   "id": "severe-wednesday",
   "metadata": {},
   "outputs": [
    {
     "data": {
      "text/html": [
       "<div>\n",
       "<style scoped>\n",
       "    .dataframe tbody tr th:only-of-type {\n",
       "        vertical-align: middle;\n",
       "    }\n",
       "\n",
       "    .dataframe tbody tr th {\n",
       "        vertical-align: top;\n",
       "    }\n",
       "\n",
       "    .dataframe thead th {\n",
       "        text-align: right;\n",
       "    }\n",
       "</style>\n",
       "<table border=\"1\" class=\"dataframe\">\n",
       "  <thead>\n",
       "    <tr style=\"text-align: right;\">\n",
       "      <th></th>\n",
       "      <th>total</th>\n",
       "      <th>blal</th>\n",
       "      <th>blac</th>\n",
       "      <th>bcac</th>\n",
       "      <th>bcal</th>\n",
       "      <th>(statistic, pvalue)</th>\n",
       "    </tr>\n",
       "  </thead>\n",
       "  <tbody>\n",
       "    <tr>\n",
       "      <th>haircut</th>\n",
       "      <td>287.0</td>\n",
       "      <td>91.0</td>\n",
       "      <td>51.0</td>\n",
       "      <td>102.0</td>\n",
       "      <td>43.0</td>\n",
       "      <td>(43.0, 0.47049211489037085)</td>\n",
       "    </tr>\n",
       "    <tr>\n",
       "      <th>makeup</th>\n",
       "      <td>386.0</td>\n",
       "      <td>140.0</td>\n",
       "      <td>65.0</td>\n",
       "      <td>115.0</td>\n",
       "      <td>66.0</td>\n",
       "      <td>(65.0, 1.0)</td>\n",
       "    </tr>\n",
       "    <tr>\n",
       "      <th>beard</th>\n",
       "      <td>357.0</td>\n",
       "      <td>106.0</td>\n",
       "      <td>69.0</td>\n",
       "      <td>136.0</td>\n",
       "      <td>46.0</td>\n",
       "      <td>(46.0, 0.03975050512654258)</td>\n",
       "    </tr>\n",
       "    <tr>\n",
       "      <th>drag</th>\n",
       "      <td>168.0</td>\n",
       "      <td>39.0</td>\n",
       "      <td>37.0</td>\n",
       "      <td>62.0</td>\n",
       "      <td>30.0</td>\n",
       "      <td>(30.0, 0.46381761789686937)</td>\n",
       "    </tr>\n",
       "    <tr>\n",
       "      <th>hairdoo</th>\n",
       "      <td>68.0</td>\n",
       "      <td>18.0</td>\n",
       "      <td>6.0</td>\n",
       "      <td>35.0</td>\n",
       "      <td>9.0</td>\n",
       "      <td>(6.0, 0.6072387695312499)</td>\n",
       "    </tr>\n",
       "    <tr>\n",
       "      <th>glasses</th>\n",
       "      <td>26.0</td>\n",
       "      <td>12.0</td>\n",
       "      <td>3.0</td>\n",
       "      <td>8.0</td>\n",
       "      <td>3.0</td>\n",
       "      <td>(3.0, 1.0)</td>\n",
       "    </tr>\n",
       "    <tr>\n",
       "      <th>total</th>\n",
       "      <td>1292.0</td>\n",
       "      <td>406.0</td>\n",
       "      <td>231.0</td>\n",
       "      <td>458.0</td>\n",
       "      <td>197.0</td>\n",
       "      <td>(197.0, 0.11057922806690416)</td>\n",
       "    </tr>\n",
       "  </tbody>\n",
       "</table>\n",
       "</div>"
      ],
      "text/plain": [
       "          total   blal   blac   bcac   bcal           (statistic, pvalue)\n",
       "haircut   287.0   91.0   51.0  102.0   43.0   (43.0, 0.47049211489037085)\n",
       "makeup    386.0  140.0   65.0  115.0   66.0                   (65.0, 1.0)\n",
       "beard     357.0  106.0   69.0  136.0   46.0   (46.0, 0.03975050512654258)\n",
       "drag      168.0   39.0   37.0   62.0   30.0   (30.0, 0.46381761789686937)\n",
       "hairdoo    68.0   18.0    6.0   35.0    9.0     (6.0, 0.6072387695312499)\n",
       "glasses    26.0   12.0    3.0    8.0    3.0                    (3.0, 1.0)\n",
       "total    1292.0  406.0  231.0  458.0  197.0  (197.0, 0.11057922806690416)"
      ]
     },
     "execution_count": 96,
     "metadata": {},
     "output_type": "execute_result"
    }
   ],
   "source": [
    "nn_contingency"
   ]
  },
  {
   "cell_type": "code",
   "execution_count": 97,
   "id": "recorded-outside",
   "metadata": {},
   "outputs": [],
   "source": [
    "nn_contingency.to_csv('./results/nn_mcnemar.csv')"
   ]
  },
  {
   "cell_type": "markdown",
   "id": "rotary-debut",
   "metadata": {},
   "source": [
    "### SMC for Logistic Regression"
   ]
  },
  {
   "cell_type": "code",
   "execution_count": 22,
   "id": "macro-brother",
   "metadata": {},
   "outputs": [],
   "source": [
    "def get_smc(row):\n",
    "    return (total['blal'] + total['bcac']) / total.sum()"
   ]
  },
  {
   "cell_type": "code",
   "execution_count": 2,
   "id": "configured-handy",
   "metadata": {},
   "outputs": [],
   "source": [
    "lasso_contingency = pd.read_csv('./results/lasso_mcnemar.csv', index_col=0)"
   ]
  },
  {
   "cell_type": "code",
   "execution_count": 29,
   "id": "discrete-stephen",
   "metadata": {},
   "outputs": [],
   "source": [
    "total = lasso_contingency.iloc[-1, 1:-1]"
   ]
  },
  {
   "cell_type": "code",
   "execution_count": 31,
   "id": "opposite-spanking",
   "metadata": {},
   "outputs": [
    {
     "data": {
      "text/plain": [
       "blal    1024.0\n",
       "blac      92.0\n",
       "bcac      68.0\n",
       "bcal     108.0\n",
       "Name: total, dtype: object"
      ]
     },
     "execution_count": 31,
     "metadata": {},
     "output_type": "execute_result"
    }
   ],
   "source": [
    "total"
   ]
  },
  {
   "cell_type": "code",
   "execution_count": 33,
   "id": "latin-still",
   "metadata": {},
   "outputs": [],
   "source": [
    "smc = get_smc(total)"
   ]
  },
  {
   "cell_type": "code",
   "execution_count": 34,
   "id": "olympic-transcription",
   "metadata": {},
   "outputs": [
    {
     "data": {
      "text/plain": [
       "0.8452012383900929"
      ]
     },
     "execution_count": 34,
     "metadata": {},
     "output_type": "execute_result"
    }
   ],
   "source": [
    "smc"
   ]
  },
  {
   "cell_type": "code",
   "execution_count": 38,
   "id": "apart-restriction",
   "metadata": {},
   "outputs": [],
   "source": [
    "total = lasso_contingency.iloc[-1, :-1]"
   ]
  },
  {
   "cell_type": "code",
   "execution_count": 39,
   "id": "intensive-algebra",
   "metadata": {},
   "outputs": [
    {
     "data": {
      "text/plain": [
       "0.7925696594427245"
      ]
     },
     "execution_count": 39,
     "metadata": {},
     "output_type": "execute_result"
    }
   ],
   "source": [
    "total['blal'] / total['total']"
   ]
  },
  {
   "cell_type": "markdown",
   "id": "rural-proposition",
   "metadata": {},
   "source": [
    "### SMC for Neural Network"
   ]
  },
  {
   "cell_type": "code",
   "execution_count": 42,
   "id": "banner-professor",
   "metadata": {},
   "outputs": [],
   "source": [
    "nn_contingency = pd.read_csv('./results/nn_mcnemar.csv', index_col=0)"
   ]
  },
  {
   "cell_type": "code",
   "execution_count": 44,
   "id": "foreign-simulation",
   "metadata": {},
   "outputs": [],
   "source": [
    "total = nn_contingency.iloc[-1, :-1]"
   ]
  },
  {
   "cell_type": "code",
   "execution_count": 47,
   "id": "fixed-legislature",
   "metadata": {},
   "outputs": [
    {
     "data": {
      "text/plain": [
       "0.3142414860681115"
      ]
     },
     "execution_count": 47,
     "metadata": {},
     "output_type": "execute_result"
    }
   ],
   "source": [
    "total['blal'] / total['total']"
   ]
  },
  {
   "cell_type": "code",
   "execution_count": 48,
   "id": "cardiovascular-canadian",
   "metadata": {},
   "outputs": [
    {
     "data": {
      "text/plain": [
       "0.3544891640866873"
      ]
     },
     "execution_count": 48,
     "metadata": {},
     "output_type": "execute_result"
    }
   ],
   "source": [
    "total['bcac'] / total['total']"
   ]
  },
  {
   "cell_type": "code",
   "execution_count": 49,
   "id": "compliant-guinea",
   "metadata": {},
   "outputs": [],
   "source": [
    "total = nn_contingency.iloc[-1, 1:-1]"
   ]
  },
  {
   "cell_type": "code",
   "execution_count": 50,
   "id": "confused-watts",
   "metadata": {},
   "outputs": [],
   "source": [
    "smc = (total['blal'] + total['bcac']) / total.sum()"
   ]
  },
  {
   "cell_type": "code",
   "execution_count": 51,
   "id": "civil-belly",
   "metadata": {},
   "outputs": [
    {
     "data": {
      "text/plain": [
       "0.6687306501547987"
      ]
     },
     "execution_count": 51,
     "metadata": {},
     "output_type": "execute_result"
    }
   ],
   "source": [
    "smc"
   ]
  },
  {
   "cell_type": "markdown",
   "id": "armed-dating",
   "metadata": {},
   "source": [
    "### Without \"drag\" sample"
   ]
  },
  {
   "cell_type": "code",
   "execution_count": 14,
   "id": "atlantic-infrastructure",
   "metadata": {},
   "outputs": [],
   "source": [
    "df = lasso_contingency.iloc[[0,1,2,4,5], 0:-1]"
   ]
  },
  {
   "cell_type": "code",
   "execution_count": 16,
   "id": "studied-captain",
   "metadata": {},
   "outputs": [],
   "source": [
    "total = df.sum()\n",
    "total.name = \"total\"\n",
    "df = df.append(total.transpose())"
   ]
  },
  {
   "cell_type": "code",
   "execution_count": 17,
   "id": "turned-maryland",
   "metadata": {},
   "outputs": [
    {
     "data": {
      "text/html": [
       "<div>\n",
       "<style scoped>\n",
       "    .dataframe tbody tr th:only-of-type {\n",
       "        vertical-align: middle;\n",
       "    }\n",
       "\n",
       "    .dataframe tbody tr th {\n",
       "        vertical-align: top;\n",
       "    }\n",
       "\n",
       "    .dataframe thead th {\n",
       "        text-align: right;\n",
       "    }\n",
       "</style>\n",
       "<table border=\"1\" class=\"dataframe\">\n",
       "  <thead>\n",
       "    <tr style=\"text-align: right;\">\n",
       "      <th></th>\n",
       "      <th>total</th>\n",
       "      <th>blal</th>\n",
       "      <th>blac</th>\n",
       "      <th>bcac</th>\n",
       "      <th>bcal</th>\n",
       "    </tr>\n",
       "  </thead>\n",
       "  <tbody>\n",
       "    <tr>\n",
       "      <th>haircut</th>\n",
       "      <td>287.0</td>\n",
       "      <td>210.0</td>\n",
       "      <td>24.0</td>\n",
       "      <td>27.0</td>\n",
       "      <td>26.0</td>\n",
       "    </tr>\n",
       "    <tr>\n",
       "      <th>makeup</th>\n",
       "      <td>386.0</td>\n",
       "      <td>306.0</td>\n",
       "      <td>26.0</td>\n",
       "      <td>24.0</td>\n",
       "      <td>30.0</td>\n",
       "    </tr>\n",
       "    <tr>\n",
       "      <th>beard</th>\n",
       "      <td>357.0</td>\n",
       "      <td>310.0</td>\n",
       "      <td>10.0</td>\n",
       "      <td>8.0</td>\n",
       "      <td>29.0</td>\n",
       "    </tr>\n",
       "    <tr>\n",
       "      <th>hairdoo</th>\n",
       "      <td>68.0</td>\n",
       "      <td>54.0</td>\n",
       "      <td>6.0</td>\n",
       "      <td>3.0</td>\n",
       "      <td>5.0</td>\n",
       "    </tr>\n",
       "    <tr>\n",
       "      <th>glasses</th>\n",
       "      <td>26.0</td>\n",
       "      <td>20.0</td>\n",
       "      <td>4.0</td>\n",
       "      <td>1.0</td>\n",
       "      <td>1.0</td>\n",
       "    </tr>\n",
       "    <tr>\n",
       "      <th>total</th>\n",
       "      <td>1124.0</td>\n",
       "      <td>900.0</td>\n",
       "      <td>70.0</td>\n",
       "      <td>63.0</td>\n",
       "      <td>91.0</td>\n",
       "    </tr>\n",
       "  </tbody>\n",
       "</table>\n",
       "</div>"
      ],
      "text/plain": [
       "          total   blal  blac  bcac  bcal\n",
       "haircut   287.0  210.0  24.0  27.0  26.0\n",
       "makeup    386.0  306.0  26.0  24.0  30.0\n",
       "beard     357.0  310.0  10.0   8.0  29.0\n",
       "hairdoo    68.0   54.0   6.0   3.0   5.0\n",
       "glasses    26.0   20.0   4.0   1.0   1.0\n",
       "total    1124.0  900.0  70.0  63.0  91.0"
      ]
     },
     "execution_count": 17,
     "metadata": {},
     "output_type": "execute_result"
    }
   ],
   "source": [
    "df"
   ]
  },
  {
   "cell_type": "code",
   "execution_count": 18,
   "id": "loose-sleep",
   "metadata": {},
   "outputs": [],
   "source": [
    "df.to_csv('results/before_after_contingency_wo_drag.csv')"
   ]
  },
  {
   "cell_type": "code",
   "execution_count": 24,
   "id": "persistent-click",
   "metadata": {},
   "outputs": [],
   "source": [
    "total = df.iloc[-1, 1:]"
   ]
  },
  {
   "cell_type": "code",
   "execution_count": 25,
   "id": "southwest-drawing",
   "metadata": {},
   "outputs": [
    {
     "data": {
      "text/plain": [
       "0.8567615658362989"
      ]
     },
     "execution_count": 25,
     "metadata": {},
     "output_type": "execute_result"
    }
   ],
   "source": [
    "get_smc(total)"
   ]
  },
  {
   "cell_type": "code",
   "execution_count": 33,
   "id": "stylish-enough",
   "metadata": {},
   "outputs": [],
   "source": [
    "def full_lasso_pipeline_proba(x):\n",
    "    x = torch.Tensor(x.transpose(0, 3, 1, 2))  # nx3x224x224\n",
    "    x = x.to(device)\n",
    "    x = resnet_model(x).detach().cpu().numpy()\n",
    "    return lasso_model.predict_proba(x)"
   ]
  },
  {
   "cell_type": "code",
   "execution_count": 25,
   "id": "typical-benefit",
   "metadata": {},
   "outputs": [],
   "source": [
    "def full_nn_pipeline_proba(x):\n",
    "    x = torch.Tensor(x.transpose(0, 3, 1, 2))  # 1x3x224x224\n",
    "    x = x.to(device)\n",
    "    x = resnet_model(x)\n",
    "    x = torch.sigmoid(binary_classifier(x))\n",
    "    return x.detach().cpu().numpy()"
   ]
  },
  {
   "cell_type": "code",
   "execution_count": 44,
   "id": "parental-teaching",
   "metadata": {},
   "outputs": [
    {
     "data": {
      "text/plain": [
       "array([0])"
      ]
     },
     "execution_count": 44,
     "metadata": {},
     "output_type": "execute_result"
    }
   ],
   "source": [
    "full_lime_pipeline(preprocess(\"./sample_images/alex.jpg\"))"
   ]
  },
  {
   "cell_type": "code",
   "execution_count": 43,
   "id": "coral-butter",
   "metadata": {},
   "outputs": [
    {
     "data": {
      "text/plain": [
       "array([[0.59232954, 0.40767046]])"
      ]
     },
     "execution_count": 43,
     "metadata": {},
     "output_type": "execute_result"
    }
   ],
   "source": [
    "full_lime_pipeline_proba(preprocess(\"./sample_images/alex.jpg\"))"
   ]
  },
  {
   "cell_type": "code",
   "execution_count": 20,
   "id": "hollow-dispute",
   "metadata": {},
   "outputs": [
    {
     "data": {
      "text/plain": [
       "array([[0.5597691, 0.4402309]])"
      ]
     },
     "execution_count": 20,
     "metadata": {},
     "output_type": "execute_result"
    }
   ],
   "source": [
    "full_lasso_pipeline_proba(preprocess(\"./sample_images/alex-drag-1.png\"))"
   ]
  },
  {
   "cell_type": "code",
   "execution_count": 51,
   "id": "threaded-deputy",
   "metadata": {},
   "outputs": [
    {
     "data": {
      "text/plain": [
       "array([[0.35277236]], dtype=float32)"
      ]
     },
     "execution_count": 51,
     "metadata": {},
     "output_type": "execute_result"
    }
   ],
   "source": [
    "full_nn_pipeline_proba(preprocess(\"./sample_images/alex.jpg\"))"
   ]
  },
  {
   "cell_type": "code",
   "execution_count": 52,
   "id": "statistical-mobile",
   "metadata": {},
   "outputs": [
    {
     "data": {
      "text/plain": [
       "array([[0.26840058]], dtype=float32)"
      ]
     },
     "execution_count": 52,
     "metadata": {},
     "output_type": "execute_result"
    }
   ],
   "source": [
    "full_nn_pipeline_proba(preprocess(\"./sample_images/alex-drag-3.jpg\"))"
   ]
  },
  {
   "cell_type": "code",
   "execution_count": 30,
   "id": "crude-houston",
   "metadata": {},
   "outputs": [
    {
     "data": {
      "text/plain": [
       "array([[0.5075296]], dtype=float32)"
      ]
     },
     "execution_count": 30,
     "metadata": {},
     "output_type": "execute_result"
    }
   ],
   "source": [
    "full_nn_pipeline_proba(preprocess(\"./sample_images/mustabeen_no_makeup.jpeg\"))"
   ]
  },
  {
   "cell_type": "code",
   "execution_count": 31,
   "id": "tight-assurance",
   "metadata": {},
   "outputs": [
    {
     "data": {
      "text/plain": [
       "array([[0.8909782]], dtype=float32)"
      ]
     },
     "execution_count": 31,
     "metadata": {},
     "output_type": "execute_result"
    }
   ],
   "source": [
    "full_nn_pipeline_proba(preprocess(\"./sample_images/mustabeen_makeup.jpeg\"))"
   ]
  },
  {
   "cell_type": "code",
   "execution_count": 34,
   "id": "organizational-address",
   "metadata": {},
   "outputs": [
    {
     "data": {
      "text/plain": [
       "array([[0.74059344, 0.25940656]])"
      ]
     },
     "execution_count": 34,
     "metadata": {},
     "output_type": "execute_result"
    }
   ],
   "source": [
    "full_lasso_pipeline_proba(preprocess(\"./sample_images/mustabeen_no_makeup.jpeg\"))"
   ]
  },
  {
   "cell_type": "code",
   "execution_count": 35,
   "id": "technological-rental",
   "metadata": {},
   "outputs": [
    {
     "data": {
      "text/plain": [
       "array([[0.91779061, 0.08220939]])"
      ]
     },
     "execution_count": 35,
     "metadata": {},
     "output_type": "execute_result"
    }
   ],
   "source": [
    "full_lasso_pipeline_proba(preprocess(\"./sample_images/mustabeen_makeup.jpeg\"))"
   ]
  },
  {
   "cell_type": "code",
   "execution_count": null,
   "id": "bronze-fashion",
   "metadata": {},
   "outputs": [],
   "source": []
  }
 ],
 "metadata": {
  "kernelspec": {
   "display_name": "Python 3 (ipykernel)",
   "language": "python",
   "name": "python3"
  },
  "language_info": {
   "codemirror_mode": {
    "name": "ipython",
    "version": 3
   },
   "file_extension": ".py",
   "mimetype": "text/x-python",
   "name": "python",
   "nbconvert_exporter": "python",
   "pygments_lexer": "ipython3",
   "version": "3.8.10"
  }
 },
 "nbformat": 4,
 "nbformat_minor": 5
}
