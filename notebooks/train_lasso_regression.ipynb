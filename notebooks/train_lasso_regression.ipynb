{
 "cells": [
  {
   "cell_type": "code",
   "execution_count": 2,
   "id": "involved-chess",
   "metadata": {
    "id": "p0Ljc86Nd5VB"
   },
   "outputs": [],
   "source": [
    "import pandas as pd\n",
    "import numpy as np"
   ]
  },
  {
   "cell_type": "code",
   "execution_count": 3,
   "id": "outdoor-horizontal",
   "metadata": {
    "tags": []
   },
   "outputs": [],
   "source": [
    "from data.load_data import load_faces, load_features\n",
    "\n",
    "features = load_features()\n",
    "faces = load_faces()"
   ]
  },
  {
   "cell_type": "code",
   "execution_count": 4,
   "id": "ready-afternoon",
   "metadata": {},
   "outputs": [],
   "source": [
    "# Randomly split training and testing datasets\n",
    "np.random.seed(67)\n",
    "\n",
    "num_of_samples = features.shape[0]\n",
    "idx = np.random.permutation(range(num_of_samples))\n",
    "cut = int(0.8 * num_of_samples)\n",
    "train_idx = idx[:cut]\n",
    "valid_idx = idx[cut:]"
   ]
  },
  {
   "cell_type": "code",
   "execution_count": 5,
   "id": "retained-maintenance",
   "metadata": {},
   "outputs": [],
   "source": [
    "num_of_training_samples = len(train_idx)"
   ]
  },
  {
   "cell_type": "code",
   "execution_count": 6,
   "id": "egyptian-maintenance",
   "metadata": {},
   "outputs": [
    {
     "data": {
      "text/plain": [
       "217159"
      ]
     },
     "execution_count": 6,
     "metadata": {},
     "output_type": "execute_result"
    }
   ],
   "source": [
    "number_of_minibatches = 4\n",
    "minibatch_chunk_size = num_of_training_samples // number_of_minibatches\n",
    "minibatch_chunk_size"
   ]
  },
  {
   "cell_type": "code",
   "execution_count": 7,
   "id": "sophisticated-optics",
   "metadata": {},
   "outputs": [
    {
     "data": {
      "text/plain": [
       "array([0., 1., 0., 0.])"
      ]
     },
     "execution_count": 7,
     "metadata": {},
     "output_type": "execute_result"
    }
   ],
   "source": [
    "ground_truth = ['pol_dat_us', 'pol_dat_ca', 'pol_dat_uk', 'pol_fb_us']\n",
    "\n",
    "from utils import label_func, get_labels\n",
    "\n",
    "get_labels(faces.iloc[[1,2,4,5]])"
   ]
  },
  {
   "cell_type": "code",
   "execution_count": 14,
   "id": "local-bracket",
   "metadata": {},
   "outputs": [],
   "source": [
    "from sklearn.linear_model import SGDClassifier\n",
    "\n",
    "model = SGDClassifier(alpha=0.01, penalty='elasticnet',loss='log')\n",
    "# model = Lasso(alpha=0.1)"
   ]
  },
  {
   "cell_type": "code",
   "execution_count": 15,
   "id": "central-imperial",
   "metadata": {},
   "outputs": [],
   "source": [
    "def get_binary_accuracy(preds, actual):\n",
    "    num_of_correct_predictions = (preds == actual).sum()\n",
    "    accuracy = num_of_correct_predictions / len(actual)\n",
    "    return accuracy"
   ]
  },
  {
   "cell_type": "code",
   "execution_count": 16,
   "id": "enclosed-extension",
   "metadata": {},
   "outputs": [
    {
     "name": "stderr",
     "output_type": "stream",
     "text": [
      "Minibatch 3: 100%|████████████████████████████████| 4/4 [01:35<00:00, 23.85s/it]\n"
     ]
    }
   ],
   "source": [
    "from tqdm import tqdm, trange\n",
    "\n",
    "with trange(number_of_minibatches) as t:\n",
    "    for i in t:\n",
    "        t.set_description(f'Minibatch {i}')\n",
    "        indexes = train_idx[minibatch_chunk_size * i : minibatch_chunk_size * (i + 1)]\n",
    "        X = features[indexes]\n",
    "        y = get_labels(faces.iloc[indexes])\n",
    "        model.partial_fit(X, y, classes=[0,1])"
   ]
  },
  {
   "cell_type": "code",
   "execution_count": 17,
   "id": "varied-latvia",
   "metadata": {},
   "outputs": [],
   "source": [
    "y_preds = model.predict(features[valid_idx]).astype(float)"
   ]
  },
  {
   "cell_type": "code",
   "execution_count": 18,
   "id": "practical-milwaukee",
   "metadata": {},
   "outputs": [],
   "source": [
    "y_preds_proba = model.predict_proba(features[valid_idx])"
   ]
  },
  {
   "cell_type": "code",
   "execution_count": 19,
   "id": "extra-sequence",
   "metadata": {},
   "outputs": [
    {
     "data": {
      "text/plain": [
       "array([[0.16891302, 0.83108698],\n",
       "       [0.406648  , 0.593352  ],\n",
       "       [0.6331258 , 0.3668742 ],\n",
       "       ...,\n",
       "       [0.43365634, 0.56634366],\n",
       "       [0.66080738, 0.33919262],\n",
       "       [0.39161475, 0.60838525]])"
      ]
     },
     "execution_count": 19,
     "metadata": {},
     "output_type": "execute_result"
    }
   ],
   "source": [
    "y_preds_proba"
   ]
  },
  {
   "cell_type": "code",
   "execution_count": 20,
   "id": "racial-muscle",
   "metadata": {},
   "outputs": [],
   "source": [
    "y_valid = get_labels(faces.iloc[valid_idx])"
   ]
  },
  {
   "cell_type": "code",
   "execution_count": 21,
   "id": "heard-cabin",
   "metadata": {},
   "outputs": [
    {
     "data": {
      "text/plain": [
       "0.6503621770223661"
      ]
     },
     "execution_count": 21,
     "metadata": {},
     "output_type": "execute_result"
    }
   ],
   "source": [
    "get_binary_accuracy(y_preds, y_valid)"
   ]
  },
  {
   "cell_type": "code",
   "execution_count": 27,
   "id": "laden-casino",
   "metadata": {},
   "outputs": [],
   "source": [
    "y_train_pred = model.predict(features[train_idx]).astype(float)"
   ]
  },
  {
   "cell_type": "code",
   "execution_count": 31,
   "id": "finite-fighter",
   "metadata": {},
   "outputs": [],
   "source": [
    "y_train = get_labels(faces.iloc[train_idx])"
   ]
  },
  {
   "cell_type": "code",
   "execution_count": 32,
   "id": "manual-topic",
   "metadata": {},
   "outputs": [
    {
     "data": {
      "text/plain": [
       "0.6523791323408193"
      ]
     },
     "execution_count": 32,
     "metadata": {},
     "output_type": "execute_result"
    }
   ],
   "source": [
    "get_binary_accuracy(y_train_pred, y_train)"
   ]
  },
  {
   "cell_type": "code",
   "execution_count": 25,
   "id": "occasional-atlas",
   "metadata": {},
   "outputs": [],
   "source": [
    "from joblib import dump"
   ]
  },
  {
   "cell_type": "code",
   "execution_count": 26,
   "id": "twelve-relations",
   "metadata": {},
   "outputs": [
    {
     "data": {
      "text/plain": [
       "['saved_model/lasso.joblib']"
      ]
     },
     "execution_count": 26,
     "metadata": {},
     "output_type": "execute_result"
    }
   ],
   "source": [
    "dump(model, 'saved_model/lasso.joblib')"
   ]
  }
 ],
 "metadata": {
  "kernelspec": {
   "display_name": "Python 3 (ipykernel)",
   "language": "python",
   "name": "python3"
  },
  "language_info": {
   "codemirror_mode": {
    "name": "ipython",
    "version": 3
   },
   "file_extension": ".py",
   "mimetype": "text/x-python",
   "name": "python",
   "nbconvert_exporter": "python",
   "pygments_lexer": "ipython3",
   "version": "3.8.10"
  }
 },
 "nbformat": 4,
 "nbformat_minor": 5
}
