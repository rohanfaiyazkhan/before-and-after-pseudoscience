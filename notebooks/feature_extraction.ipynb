{
 "cells": [
  {
   "cell_type": "code",
   "execution_count": 1,
   "id": "centered-temperature",
   "metadata": {},
   "outputs": [],
   "source": [
    "from tqdm import tqdm\n",
    "import math\n",
    "from pathlib import Path\n",
    "from fastai import *\n",
    "from fastai.vision.all import *\n",
    "from fastai.data.all import *\n",
    "from pathlib import Path\n",
    "from PIL import Image\n",
    "import math\n",
    "from IPython.display import display\n",
    "import torch"
   ]
  },
  {
   "cell_type": "code",
   "execution_count": 30,
   "id": "laden-slovak",
   "metadata": {},
   "outputs": [],
   "source": [
    "before_tensor_path = \"../data/before_after_images/features/before/list_of_tensors.pt\"\n",
    "after_tensor_path = \"../data/before_after_images/features/after/list_of_tensors.pt\""
   ]
  },
  {
   "cell_type": "code",
   "execution_count": 39,
   "id": "respected-cream",
   "metadata": {},
   "outputs": [],
   "source": [
    "img_dir = Path(\"../data/before_after_images/processed\")\n",
    "\n",
    "before_dir = img_dir / 'before'\n",
    "after_dir = img_dir / 'after'"
   ]
  },
  {
   "cell_type": "code",
   "execution_count": 2,
   "id": "english-manor",
   "metadata": {},
   "outputs": [],
   "source": [
    "learn_inf = load_learner(\"../saved_model/before_after.pkl\")"
   ]
  },
  {
   "cell_type": "code",
   "execution_count": 12,
   "id": "dress-display",
   "metadata": {},
   "outputs": [],
   "source": [
    "def predict(fn, scale=1):\n",
    "    sample_dir = Path(\"../data/sample_images\")\n",
    "    path = sample_dir / fn\n",
    "    \n",
    "    return learn_inf.predict(path)"
   ]
  },
  {
   "cell_type": "code",
   "execution_count": 3,
   "id": "light-round",
   "metadata": {
    "tags": []
   },
   "outputs": [],
   "source": [
    "input_tensor = []"
   ]
  },
  {
   "cell_type": "code",
   "execution_count": 4,
   "id": "greek-incident",
   "metadata": {},
   "outputs": [],
   "source": [
    "def feature_extract_hook(m, i, o):\n",
    "    input_tensor.append(i)"
   ]
  },
  {
   "cell_type": "code",
   "execution_count": 7,
   "id": "metropolitan-receiver",
   "metadata": {},
   "outputs": [],
   "source": [
    "# pred = predict(\"sample.jpeg\")"
   ]
  },
  {
   "cell_type": "code",
   "execution_count": 29,
   "id": "painted-think",
   "metadata": {},
   "outputs": [],
   "source": [
    "def get_tensors(file_dir):\n",
    "    # model[-1] -> last block of resnet 18\n",
    "    # model[-1][-1] -> Last linear 512 -> 1 layer\n",
    "    hook = learn_inf.model[-1][-1].register_forward_hook(feature_extract_hook)\n",
    "    test_files = [fn for fn in sorted((file_dir).glob('**/*')) if fn.is_file() and fn.name != \".gitkeep\"]\n",
    "    test_dl = learn_inf.dls.test_dl(test_files)\n",
    "    preds = learn_inf.get_preds(dl=test_dl)\n",
    "    \n",
    "    hook.remove()\n",
    "    \n",
    "    return torch.stack([t for batch in input_tensor for sample in batch for t in sample])\n",
    "    "
   ]
  },
  {
   "cell_type": "code",
   "execution_count": 15,
   "id": "suspected-chemical",
   "metadata": {},
   "outputs": [
    {
     "data": {
      "text/plain": [
       "torch.Size([1292, 512])"
      ]
     },
     "execution_count": 15,
     "metadata": {},
     "output_type": "execute_result"
    }
   ],
   "source": [
    "flat_list_tensors = get_tensors(after_dir)\n",
    "flat_list_of_tensors.shape"
   ]
  },
  {
   "cell_type": "code",
   "execution_count": 16,
   "id": "synthetic-fortune",
   "metadata": {},
   "outputs": [],
   "source": [
    "torch.save(flat_list_of_tensors, tensor_path)"
   ]
  },
  {
   "cell_type": "code",
   "execution_count": 18,
   "id": "written-community",
   "metadata": {},
   "outputs": [],
   "source": [
    "last_layer = learn_inf.model[-1][-1]"
   ]
  },
  {
   "cell_type": "code",
   "execution_count": 23,
   "id": "flying-principle",
   "metadata": {},
   "outputs": [],
   "source": [
    "one_tensor = flat_list_of_tensors[0].unsqueeze(0)"
   ]
  },
  {
   "cell_type": "code",
   "execution_count": 25,
   "id": "buried-privacy",
   "metadata": {},
   "outputs": [
    {
     "data": {
      "text/plain": [
       "torch.Size([1, 512])"
      ]
     },
     "execution_count": 25,
     "metadata": {},
     "output_type": "execute_result"
    }
   ],
   "source": [
    "one_tensor.shape"
   ]
  },
  {
   "cell_type": "code",
   "execution_count": 24,
   "id": "separate-asbestos",
   "metadata": {},
   "outputs": [
    {
     "data": {
      "text/plain": [
       "TensorBase([[ 1.6057, -0.6762]], grad_fn=<AliasBackward0>)"
      ]
     },
     "execution_count": 24,
     "metadata": {},
     "output_type": "execute_result"
    }
   ],
   "source": [
    "last_layer(one_tensor)"
   ]
  },
  {
   "cell_type": "markdown",
   "id": "australian-discipline",
   "metadata": {},
   "source": [
    "## New session, loading saved tensor"
   ]
  },
  {
   "cell_type": "code",
   "execution_count": 57,
   "id": "logical-yesterday",
   "metadata": {},
   "outputs": [],
   "source": [
    "sm = torch.nn.Softmax()\n",
    "\n",
    "def predict_with_feature(input_tensor):\n",
    "    last_layer = learn_inf.model[-1][-1]\n",
    "    res = sm(last_layer(input_tensor))\n",
    "    label = \"after\" if res[0][0] > 0.5 else \"before\"\n",
    "    \n",
    "    return label, res\n",
    "    "
   ]
  },
  {
   "cell_type": "code",
   "execution_count": 66,
   "id": "encouraging-kernel",
   "metadata": {},
   "outputs": [],
   "source": [
    "test_files = [fn for fn in sorted((before_dir).glob('**/*')) if fn.is_file() and fn.name != \".gitkeep\" and \"checkpoint\" not in fn.name]"
   ]
  },
  {
   "cell_type": "code",
   "execution_count": 67,
   "id": "visible-knowing",
   "metadata": {},
   "outputs": [
    {
     "data": {
      "text/plain": [
       "1292"
      ]
     },
     "execution_count": 67,
     "metadata": {},
     "output_type": "execute_result"
    }
   ],
   "source": [
    "len(test_files)"
   ]
  },
  {
   "cell_type": "code",
   "execution_count": 74,
   "id": "homeless-palestine",
   "metadata": {},
   "outputs": [],
   "source": [
    "list_of_tensors = torch.load(before_tensor_path)"
   ]
  },
  {
   "cell_type": "code",
   "execution_count": 70,
   "id": "alone-stopping",
   "metadata": {},
   "outputs": [
    {
     "data": {
      "text/plain": [
       "torch.Size([1292, 512])"
      ]
     },
     "execution_count": 70,
     "metadata": {},
     "output_type": "execute_result"
    }
   ],
   "source": [
    "list_of_tensors.shape"
   ]
  },
  {
   "cell_type": "code",
   "execution_count": 83,
   "id": "patent-definition",
   "metadata": {},
   "outputs": [],
   "source": [
    "n = -10"
   ]
  },
  {
   "cell_type": "code",
   "execution_count": 84,
   "id": "patent-clear",
   "metadata": {},
   "outputs": [
    {
     "data": {
      "text/html": [],
      "text/plain": [
       "<IPython.core.display.HTML object>"
      ]
     },
     "metadata": {},
     "output_type": "display_data"
    },
    {
     "data": {
      "text/plain": [
       "('after', TensorBase(0), TensorBase([0.6974, 0.3026]))"
      ]
     },
     "execution_count": 84,
     "metadata": {},
     "output_type": "execute_result"
    }
   ],
   "source": [
    "learn_inf.predict(test_files[n])"
   ]
  },
  {
   "cell_type": "code",
   "execution_count": 85,
   "id": "technical-sarah",
   "metadata": {},
   "outputs": [
    {
     "data": {
      "text/plain": [
       "('after', TensorBase([[0.6974, 0.3026]], grad_fn=<AliasBackward0>))"
      ]
     },
     "execution_count": 85,
     "metadata": {},
     "output_type": "execute_result"
    }
   ],
   "source": [
    "predict_with_feature(list_of_tensors[n].unsqueeze(0))"
   ]
  },
  {
   "cell_type": "code",
   "execution_count": null,
   "id": "raised-colombia",
   "metadata": {},
   "outputs": [],
   "source": []
  }
 ],
 "metadata": {
  "kernelspec": {
   "display_name": "env",
   "language": "python",
   "name": "env"
  },
  "language_info": {
   "codemirror_mode": {
    "name": "ipython",
    "version": 3
   },
   "file_extension": ".py",
   "mimetype": "text/x-python",
   "name": "python",
   "nbconvert_exporter": "python",
   "pygments_lexer": "ipython3",
   "version": "3.8.10"
  }
 },
 "nbformat": 4,
 "nbformat_minor": 5
}
