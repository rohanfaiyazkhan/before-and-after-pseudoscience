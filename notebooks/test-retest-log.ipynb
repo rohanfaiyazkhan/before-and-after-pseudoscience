{
 "cells": [
  {
   "cell_type": "code",
   "execution_count": 2,
   "id": "verified-display",
   "metadata": {},
   "outputs": [],
   "source": [
    "from pathlib import Path\n",
    "import os\n",
    "from tqdm import tqdm\n",
    "from glob import glob\n",
    "from pathlib import Path\n",
    "import numpy as np\n",
    "import pandas as pd\n",
    "import torch\n",
    "from fastai.data.all import get_image_files\n",
    "# from fastai.vision.all import *\n",
    "from statsmodels.stats.contingency_tables import mcnemar\n",
    "from PIL import Image\n",
    "import numpy as np\n",
    "import joblib"
   ]
  },
  {
   "cell_type": "code",
   "execution_count": 3,
   "id": "romance-nursery",
   "metadata": {},
   "outputs": [],
   "source": [
    "image_file_extensions = ('.png', '.jpg', '.jpeg', '.tiff', '.bmp', '.gif')\n",
    "\n",
    "def is_image_path_valid(path: Path):\n",
    "    return path.is_file() and path.suffix in image_file_extensions\n",
    "\n",
    "def load_image_file(path):\n",
    "    return Image.open(path)\n",
    "\n",
    "from utils import load_images_recursively\n",
    "\n",
    "image_dir = Path(\"./data/new_crops\")\n",
    "\n",
    "def load_image_paths(path: Path):\n",
    "    fns = get_image_files(path)\n",
    "    \n",
    "    return fns\n",
    "\n",
    "before_paths = load_image_paths(image_dir / 'before')\n",
    "after_paths = load_image_paths(image_dir / 'after')\n",
    "\n",
    "\n",
    "\n",
    "mean_rgb = (131.0912, 103.8827, 91.4953)\n",
    "image_shape = (224,224,3)\n",
    "\n",
    "def load_image_for_feature_extraction(path='', shape=image_shape):\n",
    "    '''\n",
    "    Referenced from VGGFace2 Paper:\n",
    "    Q. Cao, L. Shen, W. Xie, O. M. Parkhi, and A. Zisserman, “VGGFace2: A dataset for recognising faces across pose and age,” arXiv:1710.08092 [cs], May 2018\n",
    "    '''\n",
    "    short_size = 224.0\n",
    "    crop_size = shape\n",
    "    img = Image.open(path)\n",
    "    im_shape = np.array(img.size)    # in the format of (width, height, *)\n",
    "    img = img.convert('RGB')\n",
    "\n",
    "    ratio = float(short_size) / np.min(im_shape)\n",
    "    img = img.resize(size=(int(np.ceil(im_shape[0] * ratio)),   # width\n",
    "                           int(np.ceil(im_shape[1] * ratio))),  # height\n",
    "                     resample=Image.BILINEAR)\n",
    "\n",
    "    x = np.array(img)  # image has been transposed into (height, width)\n",
    "    newshape = x.shape[:2]\n",
    "    h_start = (newshape[0] - crop_size[0])//2\n",
    "    w_start = (newshape[1] - crop_size[1])//2\n",
    "    x = x[h_start:h_start+crop_size[0], w_start:w_start+crop_size[1]]\n",
    "    \n",
    "    # normalize colors to prevent overfitting on color differences \n",
    "    x = x - mean_rgb\n",
    "    \n",
    "    # returns transformed image, and original image\n",
    "    return x"
   ]
  },
  {
   "cell_type": "code",
   "execution_count": 7,
   "id": "architectural-profit",
   "metadata": {},
   "outputs": [],
   "source": [
    "log_model = joblib.load(\"./saved_model/lasso_pol_dat_us.joblib\")"
   ]
  },
  {
   "cell_type": "code",
   "execution_count": 8,
   "id": "dated-paragraph",
   "metadata": {},
   "outputs": [],
   "source": [
    "from saved_model.prepare_resnet50 import prepare_resnet_model\n",
    "\n",
    "resnet_model = prepare_resnet_model(\"./saved_model/resnet50_ft_weight.pkl\")"
   ]
  },
  {
   "cell_type": "code",
   "execution_count": 9,
   "id": "subject-premium",
   "metadata": {},
   "outputs": [],
   "source": [
    "device = torch.device('cuda' if torch.cuda.is_available() else 'cpu')\n",
    "\n",
    "def full_pipeline(x):\n",
    "    x = torch.Tensor(x.transpose(0, 3, 1, 2))  # nx3x224x224\n",
    "    x = x.to(device)\n",
    "    x = resnet_model(x).detach().cpu().numpy()\n",
    "    return log_model.predict(x)"
   ]
  },
  {
   "cell_type": "code",
   "execution_count": 10,
   "id": "indonesian-stuff",
   "metadata": {},
   "outputs": [],
   "source": [
    "results = pd.DataFrame({'sample_paths': before_paths})"
   ]
  },
  {
   "cell_type": "code",
   "execution_count": 11,
   "id": "ideal-clothing",
   "metadata": {},
   "outputs": [],
   "source": [
    "results['results_1'] = np.nan\n",
    "results['results_2'] = np.nan"
   ]
  },
  {
   "cell_type": "code",
   "execution_count": 12,
   "id": "helpful-supply",
   "metadata": {},
   "outputs": [],
   "source": [
    "def preprocess(path):\n",
    "    return np.expand_dims(load_image_for_feature_extraction(path), 0)"
   ]
  },
  {
   "cell_type": "code",
   "execution_count": 13,
   "id": "organizational-jurisdiction",
   "metadata": {},
   "outputs": [
    {
     "name": "stderr",
     "output_type": "stream",
     "text": [
      "100%|███████████████████████████████████████| 1292/1292 [01:33<00:00, 13.85it/s]\n"
     ]
    }
   ],
   "source": [
    "for i, (before_path, after_path) in tqdm(enumerate(zip(before_paths, after_paths)), total=len(before_paths)):\n",
    "    if before_path.stem != after_path.stem:\n",
    "        print(f\"Before and after don't match for index {i}, before: {before_path}, after: {after_path}\")\n",
    "        break\n",
    "        \n",
    "    results.loc[i,'results_1'] = full_pipeline(preprocess(before_path))\n",
    "    results.loc[i,'results_2'] = full_pipeline(preprocess(after_path))"
   ]
  },
  {
   "cell_type": "code",
   "execution_count": 15,
   "id": "pleasant-slovakia",
   "metadata": {},
   "outputs": [
    {
     "data": {
      "text/html": [
       "<div>\n",
       "<style scoped>\n",
       "    .dataframe tbody tr th:only-of-type {\n",
       "        vertical-align: middle;\n",
       "    }\n",
       "\n",
       "    .dataframe tbody tr th {\n",
       "        vertical-align: top;\n",
       "    }\n",
       "\n",
       "    .dataframe thead th {\n",
       "        text-align: right;\n",
       "    }\n",
       "</style>\n",
       "<table border=\"1\" class=\"dataframe\">\n",
       "  <thead>\n",
       "    <tr style=\"text-align: right;\">\n",
       "      <th></th>\n",
       "      <th>sample_paths</th>\n",
       "      <th>results_1</th>\n",
       "      <th>results_2</th>\n",
       "    </tr>\n",
       "  </thead>\n",
       "  <tbody>\n",
       "    <tr>\n",
       "      <th>0</th>\n",
       "      <td>data/new_crops/before/haircut face before after 3_89.jpg</td>\n",
       "      <td>1.0</td>\n",
       "      <td>1.0</td>\n",
       "    </tr>\n",
       "    <tr>\n",
       "      <th>1</th>\n",
       "      <td>data/new_crops/before/makeup before after 3_108.jpg</td>\n",
       "      <td>0.0</td>\n",
       "      <td>0.0</td>\n",
       "    </tr>\n",
       "    <tr>\n",
       "      <th>2</th>\n",
       "      <td>data/new_crops/before/makeup before after 3_55.jpg</td>\n",
       "      <td>1.0</td>\n",
       "      <td>0.0</td>\n",
       "    </tr>\n",
       "    <tr>\n",
       "      <th>3</th>\n",
       "      <td>data/new_crops/before/makeup before after arabic_51.jpg</td>\n",
       "      <td>1.0</td>\n",
       "      <td>1.0</td>\n",
       "    </tr>\n",
       "    <tr>\n",
       "      <th>4</th>\n",
       "      <td>data/new_crops/before/beard before after 2_30.jpg</td>\n",
       "      <td>0.0</td>\n",
       "      <td>0.0</td>\n",
       "    </tr>\n",
       "  </tbody>\n",
       "</table>\n",
       "</div>"
      ],
      "text/plain": [
       "                                               sample_paths  results_1  \\\n",
       "0  data/new_crops/before/haircut face before after 3_89.jpg        1.0   \n",
       "1       data/new_crops/before/makeup before after 3_108.jpg        0.0   \n",
       "2        data/new_crops/before/makeup before after 3_55.jpg        1.0   \n",
       "3   data/new_crops/before/makeup before after arabic_51.jpg        1.0   \n",
       "4         data/new_crops/before/beard before after 2_30.jpg        0.0   \n",
       "\n",
       "   results_2  \n",
       "0        1.0  \n",
       "1        0.0  \n",
       "2        0.0  \n",
       "3        1.0  \n",
       "4        0.0  "
      ]
     },
     "execution_count": 15,
     "metadata": {},
     "output_type": "execute_result"
    }
   ],
   "source": [
    "results.head()"
   ]
  },
  {
   "cell_type": "code",
   "execution_count": 18,
   "id": "significant-legislature",
   "metadata": {},
   "outputs": [],
   "source": [
    "def get_blank_df():\n",
    "    df = pd.DataFrame(index=cat_names)\n",
    "    df['total'] = np.nan\n",
    "    df['before liberal'] = np.nan\n",
    "    df['before conservative'] = np.nan\n",
    "    df['after liberal'] = np.nan\n",
    "    df['after conservative'] = np.nan\n",
    "    \n",
    "    return df"
   ]
  },
  {
   "cell_type": "code",
   "execution_count": 31,
   "id": "undefined-disease",
   "metadata": {},
   "outputs": [],
   "source": [
    "def get_analysis(df: pd.DataFrame = None, before_colname = \"results_1\", after_colname = \"results_2\"):\n",
    "    \n",
    "    if df == None:\n",
    "        df = get_blank_df()\n",
    "        \n",
    "    for cat in cat_names:\n",
    "        pred_slice = results[categories == cat]\n",
    "        total = len(pred_slice)\n",
    "        before_lib = len(pred_slice[pred_slice[before_colname] == 0])\n",
    "        before_con = len(pred_slice[pred_slice[before_colname] == 1])\n",
    "        after_lib = len(pred_slice[pred_slice[after_colname] == 0])\n",
    "        after_con = len(pred_slice[pred_slice[after_colname] == 1])\n",
    "\n",
    "        df.loc[[cat], ['total']] = total\n",
    "        df.loc[[cat], ['before liberal']] = before_lib\n",
    "        df.loc[[cat], ['before conservative']] = before_con\n",
    "        df.loc[[cat], ['after liberal']] = after_lib\n",
    "        df.loc[[cat], ['after conservative']] = after_con\n",
    "\n",
    "    total = df.sum()\n",
    "    total.name = 'total'\n",
    "    df = df.append(total.transpose())\n",
    "\n",
    "    return df"
   ]
  },
  {
   "cell_type": "code",
   "execution_count": 22,
   "id": "explicit-pharmacology",
   "metadata": {},
   "outputs": [],
   "source": [
    "fns = results['sample_paths']"
   ]
  },
  {
   "cell_type": "code",
   "execution_count": 23,
   "id": "prostate-emperor",
   "metadata": {},
   "outputs": [],
   "source": [
    "# extract filename without extension from path\n",
    "fns = fns.map(lambda fn: Path(fn).stem)"
   ]
  },
  {
   "cell_type": "code",
   "execution_count": 24,
   "id": "danish-plenty",
   "metadata": {},
   "outputs": [],
   "source": [
    "categories = fns.map(lambda fn: fn.split()[0])"
   ]
  },
  {
   "cell_type": "code",
   "execution_count": 25,
   "id": "excited-model",
   "metadata": {},
   "outputs": [],
   "source": [
    "def get_cat(stem):\n",
    "    cat_dict = {\n",
    "        'makeupe': 'makeup',\n",
    "        'hiardoo': 'hairdoo',\n",
    "        'hairdoocut': 'haircut'\n",
    "    }\n",
    "    \n",
    "    first_word = stem.split()[0]\n",
    "    \n",
    "    if first_word in cat_dict.keys():\n",
    "        return cat_dict[stem]\n",
    "    else:\n",
    "        return first_word"
   ]
  },
  {
   "cell_type": "code",
   "execution_count": 26,
   "id": "frequent-victory",
   "metadata": {},
   "outputs": [],
   "source": [
    "categories = categories.map(get_cat)"
   ]
  },
  {
   "cell_type": "code",
   "execution_count": 27,
   "id": "electrical-cassette",
   "metadata": {},
   "outputs": [],
   "source": [
    "idx = np.where(categories == 'images')[0]"
   ]
  },
  {
   "cell_type": "code",
   "execution_count": 28,
   "id": "lucky-donna",
   "metadata": {},
   "outputs": [],
   "source": [
    "categories[idx] = fns[idx].map(lambda s: s.split()[2])"
   ]
  },
  {
   "cell_type": "code",
   "execution_count": 29,
   "id": "handed-default",
   "metadata": {},
   "outputs": [
    {
     "data": {
      "text/plain": [
       "array(['haircut', 'makeup', 'beard', 'drag', 'hairdoo', 'glasses'],\n",
       "      dtype=object)"
      ]
     },
     "execution_count": 29,
     "metadata": {},
     "output_type": "execute_result"
    }
   ],
   "source": [
    "cat_names = categories.unique()\n",
    "cat_names"
   ]
  },
  {
   "cell_type": "code",
   "execution_count": 32,
   "id": "judicial-skating",
   "metadata": {},
   "outputs": [],
   "source": [
    "log_analysis_df = get_analysis()"
   ]
  },
  {
   "cell_type": "code",
   "execution_count": 33,
   "id": "horizontal-bikini",
   "metadata": {},
   "outputs": [
    {
     "data": {
      "text/html": [
       "<div>\n",
       "<style scoped>\n",
       "    .dataframe tbody tr th:only-of-type {\n",
       "        vertical-align: middle;\n",
       "    }\n",
       "\n",
       "    .dataframe tbody tr th {\n",
       "        vertical-align: top;\n",
       "    }\n",
       "\n",
       "    .dataframe thead th {\n",
       "        text-align: right;\n",
       "    }\n",
       "</style>\n",
       "<table border=\"1\" class=\"dataframe\">\n",
       "  <thead>\n",
       "    <tr style=\"text-align: right;\">\n",
       "      <th></th>\n",
       "      <th>total</th>\n",
       "      <th>before liberal</th>\n",
       "      <th>before conservative</th>\n",
       "      <th>after liberal</th>\n",
       "      <th>after conservative</th>\n",
       "    </tr>\n",
       "  </thead>\n",
       "  <tbody>\n",
       "    <tr>\n",
       "      <th>haircut</th>\n",
       "      <td>287.0</td>\n",
       "      <td>166.0</td>\n",
       "      <td>121.0</td>\n",
       "      <td>188.0</td>\n",
       "      <td>99.0</td>\n",
       "    </tr>\n",
       "    <tr>\n",
       "      <th>makeup</th>\n",
       "      <td>386.0</td>\n",
       "      <td>206.0</td>\n",
       "      <td>180.0</td>\n",
       "      <td>260.0</td>\n",
       "      <td>126.0</td>\n",
       "    </tr>\n",
       "    <tr>\n",
       "      <th>beard</th>\n",
       "      <td>357.0</td>\n",
       "      <td>207.0</td>\n",
       "      <td>150.0</td>\n",
       "      <td>229.0</td>\n",
       "      <td>128.0</td>\n",
       "    </tr>\n",
       "    <tr>\n",
       "      <th>drag</th>\n",
       "      <td>168.0</td>\n",
       "      <td>121.0</td>\n",
       "      <td>47.0</td>\n",
       "      <td>121.0</td>\n",
       "      <td>47.0</td>\n",
       "    </tr>\n",
       "    <tr>\n",
       "      <th>hairdoo</th>\n",
       "      <td>68.0</td>\n",
       "      <td>41.0</td>\n",
       "      <td>27.0</td>\n",
       "      <td>40.0</td>\n",
       "      <td>28.0</td>\n",
       "    </tr>\n",
       "    <tr>\n",
       "      <th>glasses</th>\n",
       "      <td>26.0</td>\n",
       "      <td>18.0</td>\n",
       "      <td>8.0</td>\n",
       "      <td>17.0</td>\n",
       "      <td>9.0</td>\n",
       "    </tr>\n",
       "    <tr>\n",
       "      <th>total</th>\n",
       "      <td>1292.0</td>\n",
       "      <td>759.0</td>\n",
       "      <td>533.0</td>\n",
       "      <td>855.0</td>\n",
       "      <td>437.0</td>\n",
       "    </tr>\n",
       "  </tbody>\n",
       "</table>\n",
       "</div>"
      ],
      "text/plain": [
       "          total  before liberal  before conservative  after liberal  \\\n",
       "haircut   287.0           166.0                121.0          188.0   \n",
       "makeup    386.0           206.0                180.0          260.0   \n",
       "beard     357.0           207.0                150.0          229.0   \n",
       "drag      168.0           121.0                 47.0          121.0   \n",
       "hairdoo    68.0            41.0                 27.0           40.0   \n",
       "glasses    26.0            18.0                  8.0           17.0   \n",
       "total    1292.0           759.0                533.0          855.0   \n",
       "\n",
       "         after conservative  \n",
       "haircut                99.0  \n",
       "makeup                126.0  \n",
       "beard                 128.0  \n",
       "drag                   47.0  \n",
       "hairdoo                28.0  \n",
       "glasses                 9.0  \n",
       "total                 437.0  "
      ]
     },
     "execution_count": 33,
     "metadata": {},
     "output_type": "execute_result"
    }
   ],
   "source": [
    "log_analysis_df"
   ]
  },
  {
   "cell_type": "code",
   "execution_count": 34,
   "id": "common-dimension",
   "metadata": {},
   "outputs": [
    {
     "data": {
      "text/plain": [
       "haircut     287.0\n",
       "makeup      386.0\n",
       "beard       357.0\n",
       "drag        168.0\n",
       "hairdoo      68.0\n",
       "glasses      26.0\n",
       "total      1292.0\n",
       "Name: total, dtype: float64"
      ]
     },
     "execution_count": 34,
     "metadata": {},
     "output_type": "execute_result"
    }
   ],
   "source": [
    "log_analysis_df['total']"
   ]
  },
  {
   "cell_type": "code",
   "execution_count": 35,
   "id": "obvious-genre",
   "metadata": {},
   "outputs": [],
   "source": [
    "log_analysis_df.to_csv(\"./results/before_after_log.csv\")"
   ]
  },
  {
   "cell_type": "code",
   "execution_count": 36,
   "id": "phantom-passport",
   "metadata": {},
   "outputs": [],
   "source": [
    "def get_contingency_table(df: pd.DataFrame = None, before_colname = \"results_1\", after_colname = \"results_2\"):\n",
    "    \n",
    "    if df == None:\n",
    "        df = pd.DataFrame(index=cat_names)\n",
    "        \n",
    "    for cat in cat_names:\n",
    "        pred_slice = results[categories == cat]\n",
    "        total = len(pred_slice)\n",
    "        blal = len(pred_slice[(pred_slice[before_colname] == 0) & (pred_slice[after_colname] == 0)])\n",
    "        blac = len(pred_slice[(pred_slice[before_colname] == 0) & (pred_slice[after_colname] == 1)])\n",
    "        bcac = len(pred_slice[(pred_slice[before_colname] == 1) & (pred_slice[after_colname] == 1)])\n",
    "        bcal = len(pred_slice[(pred_slice[before_colname] == 1) & (pred_slice[after_colname] == 0)])\n",
    "\n",
    "        df.loc[[cat], ['total']] = total\n",
    "        df.loc[[cat], ['blal']] = blal\n",
    "        df.loc[[cat], ['blac']] = blac\n",
    "        df.loc[[cat], ['bcac']] = bcac\n",
    "        df.loc[[cat], ['bcal']] = bcal\n",
    "\n",
    "    total = df.sum()\n",
    "    total.name = 'total'\n",
    "    df = df.append(total.transpose())\n",
    "\n",
    "    return df"
   ]
  },
  {
   "cell_type": "code",
   "execution_count": 37,
   "id": "alpha-example",
   "metadata": {},
   "outputs": [],
   "source": [
    "log_contingency_df = get_contingency_table()"
   ]
  },
  {
   "cell_type": "code",
   "execution_count": 38,
   "id": "whole-klein",
   "metadata": {},
   "outputs": [
    {
     "data": {
      "text/html": [
       "<div>\n",
       "<style scoped>\n",
       "    .dataframe tbody tr th:only-of-type {\n",
       "        vertical-align: middle;\n",
       "    }\n",
       "\n",
       "    .dataframe tbody tr th {\n",
       "        vertical-align: top;\n",
       "    }\n",
       "\n",
       "    .dataframe thead th {\n",
       "        text-align: right;\n",
       "    }\n",
       "</style>\n",
       "<table border=\"1\" class=\"dataframe\">\n",
       "  <thead>\n",
       "    <tr style=\"text-align: right;\">\n",
       "      <th></th>\n",
       "      <th>total</th>\n",
       "      <th>blal</th>\n",
       "      <th>blac</th>\n",
       "      <th>bcac</th>\n",
       "      <th>bcal</th>\n",
       "    </tr>\n",
       "  </thead>\n",
       "  <tbody>\n",
       "    <tr>\n",
       "      <th>haircut</th>\n",
       "      <td>287.0</td>\n",
       "      <td>132.0</td>\n",
       "      <td>34.0</td>\n",
       "      <td>65.0</td>\n",
       "      <td>56.0</td>\n",
       "    </tr>\n",
       "    <tr>\n",
       "      <th>makeup</th>\n",
       "      <td>386.0</td>\n",
       "      <td>160.0</td>\n",
       "      <td>46.0</td>\n",
       "      <td>80.0</td>\n",
       "      <td>100.0</td>\n",
       "    </tr>\n",
       "    <tr>\n",
       "      <th>beard</th>\n",
       "      <td>357.0</td>\n",
       "      <td>161.0</td>\n",
       "      <td>46.0</td>\n",
       "      <td>82.0</td>\n",
       "      <td>68.0</td>\n",
       "    </tr>\n",
       "    <tr>\n",
       "      <th>drag</th>\n",
       "      <td>168.0</td>\n",
       "      <td>90.0</td>\n",
       "      <td>31.0</td>\n",
       "      <td>16.0</td>\n",
       "      <td>31.0</td>\n",
       "    </tr>\n",
       "    <tr>\n",
       "      <th>hairdoo</th>\n",
       "      <td>68.0</td>\n",
       "      <td>30.0</td>\n",
       "      <td>11.0</td>\n",
       "      <td>17.0</td>\n",
       "      <td>10.0</td>\n",
       "    </tr>\n",
       "    <tr>\n",
       "      <th>glasses</th>\n",
       "      <td>26.0</td>\n",
       "      <td>16.0</td>\n",
       "      <td>2.0</td>\n",
       "      <td>7.0</td>\n",
       "      <td>1.0</td>\n",
       "    </tr>\n",
       "    <tr>\n",
       "      <th>total</th>\n",
       "      <td>1292.0</td>\n",
       "      <td>589.0</td>\n",
       "      <td>170.0</td>\n",
       "      <td>267.0</td>\n",
       "      <td>266.0</td>\n",
       "    </tr>\n",
       "  </tbody>\n",
       "</table>\n",
       "</div>"
      ],
      "text/plain": [
       "          total   blal   blac   bcac   bcal\n",
       "haircut   287.0  132.0   34.0   65.0   56.0\n",
       "makeup    386.0  160.0   46.0   80.0  100.0\n",
       "beard     357.0  161.0   46.0   82.0   68.0\n",
       "drag      168.0   90.0   31.0   16.0   31.0\n",
       "hairdoo    68.0   30.0   11.0   17.0   10.0\n",
       "glasses    26.0   16.0    2.0    7.0    1.0\n",
       "total    1292.0  589.0  170.0  267.0  266.0"
      ]
     },
     "execution_count": 38,
     "metadata": {},
     "output_type": "execute_result"
    }
   ],
   "source": [
    "log_contingency_df"
   ]
  },
  {
   "cell_type": "code",
   "execution_count": 39,
   "id": "french-logging",
   "metadata": {},
   "outputs": [],
   "source": [
    "log_contingency_df.to_csv(\"./results/log_Contingency.csv\")"
   ]
  },
  {
   "cell_type": "code",
   "execution_count": 41,
   "id": "bronze-completion",
   "metadata": {},
   "outputs": [
    {
     "data": {
      "text/plain": [
       "total    1292.0\n",
       "blal      589.0\n",
       "blac      170.0\n",
       "bcac      267.0\n",
       "bcal      266.0\n",
       "Name: total, dtype: float64"
      ]
     },
     "execution_count": 41,
     "metadata": {},
     "output_type": "execute_result"
    }
   ],
   "source": [
    "log_contingency_df.iloc[-1]"
   ]
  },
  {
   "cell_type": "code",
   "execution_count": null,
   "id": "chronic-asbestos",
   "metadata": {},
   "outputs": [],
   "source": []
  }
 ],
 "metadata": {
  "kernelspec": {
   "display_name": "Python 3 (ipykernel)",
   "language": "python",
   "name": "python3"
  },
  "language_info": {
   "codemirror_mode": {
    "name": "ipython",
    "version": 3
   },
   "file_extension": ".py",
   "mimetype": "text/x-python",
   "name": "python",
   "nbconvert_exporter": "python",
   "pygments_lexer": "ipython3",
   "version": "3.8.10"
  }
 },
 "nbformat": 4,
 "nbformat_minor": 5
}
