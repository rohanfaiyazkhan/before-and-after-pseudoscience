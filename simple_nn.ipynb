{
 "cells": [
  {
   "cell_type": "code",
   "execution_count": 123,
   "metadata": {
    "colab": {
     "base_uri": "https://localhost:8080/"
    },
    "executionInfo": {
     "elapsed": 5859,
     "status": "ok",
     "timestamp": 1634870670758,
     "user": {
      "displayName": "Rohan Khan",
      "photoUrl": "https://lh3.googleusercontent.com/a-/AOh14GjYtk9RJ4tvQkmTzl-z0jbeJ3r9CGjQZA8F6jwKOw=s64",
      "userId": "10846432523539896119"
     },
     "user_tz": 240
    },
    "id": "SErhkr2Ib8xw",
    "outputId": "a3ada8be-6b33-4fd2-9e0c-57c5f9e9ec98"
   },
   "outputs": [],
   "source": [
    "!pip install -Uqq fastai fastbook"
   ]
  },
  {
   "cell_type": "code",
   "execution_count": 124,
   "metadata": {
    "id": "p0Ljc86Nd5VB"
   },
   "outputs": [],
   "source": [
    "import pandas as pd\n",
    "import numpy as np"
   ]
  },
  {
   "cell_type": "code",
   "execution_count": 125,
   "metadata": {
    "colab": {
     "base_uri": "https://localhost:8080/"
    },
    "executionInfo": {
     "elapsed": 68,
     "status": "ok",
     "timestamp": 1634870799262,
     "user": {
      "displayName": "Rohan Khan",
      "photoUrl": "https://lh3.googleusercontent.com/a-/AOh14GjYtk9RJ4tvQkmTzl-z0jbeJ3r9CGjQZA8F6jwKOw=s64",
      "userId": "10846432523539896119"
     },
     "user_tz": 240
    },
    "id": "8elrw35hepty",
    "outputId": "4b6bbb92-9f7b-4e2c-933f-7f66f19cc257"
   },
   "outputs": [
    {
     "name": "stdout",
     "output_type": "stream",
     "text": [
      "True\n"
     ]
    }
   ],
   "source": [
    "import torch \n",
    "\n",
    "# Check if GPU is available\n",
    "print(torch.cuda.is_available())"
   ]
  },
  {
   "cell_type": "code",
   "execution_count": 126,
   "metadata": {
    "id": "W041psec26km"
   },
   "outputs": [],
   "source": [
    "from torchvision import models\n",
    "import torch.nn as nn\n",
    "import torch.nn.functional as F\n",
    "from torch.utils.data import DataLoader\n",
    "from fastai.data.core import DataLoaders, CrossEntropyLossFlat\n",
    "from fastai.data.block import CategoryBlock\n",
    "from fastai.basics import *"
   ]
  },
  {
   "cell_type": "code",
   "execution_count": 127,
   "metadata": {
    "id": "K9_u1YabfLRs"
   },
   "outputs": [],
   "source": [
    "# Load a small chunk of the full dataset for testing purposes\n",
    "faces = pd.read_csv('./faces_smaller_chunk.csv')\n",
    "features = pd.read_csv('./vgg_chunks/chunk_1.csv', usecols=range(1, 2049))"
   ]
  },
  {
   "cell_type": "code",
   "execution_count": 128,
   "metadata": {
    "colab": {
     "base_uri": "https://localhost:8080/"
    },
    "executionInfo": {
     "elapsed": 278,
     "status": "ok",
     "timestamp": 1634876140507,
     "user": {
      "displayName": "Rohan Khan",
      "photoUrl": "https://lh3.googleusercontent.com/a-/AOh14GjYtk9RJ4tvQkmTzl-z0jbeJ3r9CGjQZA8F6jwKOw=s64",
      "userId": "10846432523539896119"
     },
     "user_tz": 240
    },
    "id": "0Y_TyhY0fd4j",
    "outputId": "ff9a10a6-7c26-40d2-9b2c-779a091db7e6"
   },
   "outputs": [
    {
     "data": {
      "text/plain": [
       "(10859, 43)"
      ]
     },
     "execution_count": 128,
     "metadata": {},
     "output_type": "execute_result"
    }
   ],
   "source": [
    "faces.shape"
   ]
  },
  {
   "cell_type": "code",
   "execution_count": 129,
   "metadata": {
    "colab": {
     "base_uri": "https://localhost:8080/"
    },
    "executionInfo": {
     "elapsed": 22,
     "status": "ok",
     "timestamp": 1634876151666,
     "user": {
      "displayName": "Rohan Khan",
      "photoUrl": "https://lh3.googleusercontent.com/a-/AOh14GjYtk9RJ4tvQkmTzl-z0jbeJ3r9CGjQZA8F6jwKOw=s64",
      "userId": "10846432523539896119"
     },
     "user_tz": 240
    },
    "id": "38RuMTtifnmm",
    "outputId": "c128a4ea-462a-4a80-b025-21ecec9c85b9"
   },
   "outputs": [
    {
     "data": {
      "text/plain": [
       "(10859, 2048)"
      ]
     },
     "execution_count": 129,
     "metadata": {},
     "output_type": "execute_result"
    }
   ],
   "source": [
    "features.shape"
   ]
  },
  {
   "cell_type": "code",
   "execution_count": 130,
   "metadata": {
    "id": "mSDaR2uSkPCS"
   },
   "outputs": [],
   "source": [
    "features_tensor = torch.tensor(features.values).float()"
   ]
  },
  {
   "cell_type": "code",
   "execution_count": 131,
   "metadata": {
    "colab": {
     "base_uri": "https://localhost:8080/"
    },
    "executionInfo": {
     "elapsed": 14,
     "status": "ok",
     "timestamp": 1634876151668,
     "user": {
      "displayName": "Rohan Khan",
      "photoUrl": "https://lh3.googleusercontent.com/a-/AOh14GjYtk9RJ4tvQkmTzl-z0jbeJ3r9CGjQZA8F6jwKOw=s64",
      "userId": "10846432523539896119"
     },
     "user_tz": 240
    },
    "id": "xICurphSkgYE",
    "outputId": "4217bfac-d1b4-47e7-b2bf-83dfc2919f3b"
   },
   "outputs": [
    {
     "data": {
      "text/plain": [
       "torch.Size([10859, 2048])"
      ]
     },
     "execution_count": 131,
     "metadata": {},
     "output_type": "execute_result"
    }
   ],
   "source": [
    "features_tensor.shape"
   ]
  },
  {
   "cell_type": "code",
   "execution_count": 132,
   "metadata": {
    "id": "MgJFtWngnAHL"
   },
   "outputs": [],
   "source": [
    "ground_truth = ['pol_dat_us', 'pol_dat_ca', 'pol_dat_uk', 'pol_fb_us']"
   ]
  },
  {
   "cell_type": "code",
   "execution_count": 133,
   "metadata": {
    "id": "TNA_dHNszpfw"
   },
   "outputs": [
    {
     "data": {
      "text/plain": [
       "array([0., 1., 0., 0.])"
      ]
     },
     "execution_count": 133,
     "metadata": {},
     "output_type": "execute_result"
    }
   ],
   "source": [
    "def label_func(row):\n",
    "    '''\n",
    "    Checks each column of ground_truth and extracts whichever column is not null as the label\n",
    "    '''\n",
    "    for i in ground_truth:\n",
    "        if ~np.isnan(row[i]):\n",
    "            return row[i]\n",
    "    return np.nan\n",
    "\n",
    "def get_labels(data):\n",
    "    '''\n",
    "    Returns array of labels from entire dataset\n",
    "    '''\n",
    "    return data.apply(lambda row: label_func(row), axis=1).to_numpy()\n",
    "\n",
    "get_labels(faces.iloc[[1,2,4,5]])"
   ]
  },
  {
   "cell_type": "code",
   "execution_count": 134,
   "metadata": {
    "id": "HV7cgmwPrNvz"
   },
   "outputs": [],
   "source": [
    "# Randomly split training and testing datasets\n",
    "num_of_samples = features_tensor.shape[0]\n",
    "idx = np.random.permutation(range(num_of_samples))\n",
    "\n",
    "cut = int(0.8 * num_of_samples)\n",
    "train_idx = idx[:cut]\n",
    "train_x = features_tensor[train_idx]\n",
    "train_y = get_labels(faces.iloc[train_idx])\n",
    "\n",
    "valid_idx = idx[cut:]\n",
    "valid_x = features_tensor[valid_idx]\n",
    "valid_y = get_labels(faces.iloc[valid_idx])"
   ]
  },
  {
   "cell_type": "code",
   "execution_count": 135,
   "metadata": {
    "id": "0rkOL3DxsANC"
   },
   "outputs": [],
   "source": [
    "class CustomDataset(torch.utils.data.Dataset):\n",
    "    def __init__(self, data, labels):\n",
    "        self.data,self.labels = data,labels\n",
    "        \n",
    "    def __getitem__(self, i):\n",
    "        sample = self.data[i]\n",
    "        label = self.labels[i]\n",
    "        return sample,label\n",
    "    \n",
    "    def __len__(self): return len(self.data)\n",
    "\n",
    "train_ds = CustomDataset(train_x, train_y)\n",
    "valid_ds = CustomDataset(valid_x, valid_y)"
   ]
  },
  {
   "cell_type": "code",
   "execution_count": 136,
   "metadata": {
    "id": "6_HrPqMq3Bjb"
   },
   "outputs": [],
   "source": [
    "# Dataloader will be passing a batch of 64 samples at a time to our model\n",
    "train_dl = DataLoader(train_ds, batch_size=64)\n",
    "valid_dl = DataLoader(valid_ds, batch_size=64)"
   ]
  },
  {
   "cell_type": "code",
   "execution_count": 137,
   "metadata": {},
   "outputs": [],
   "source": [
    "# Define a simple binary classifier that takes a 2048 feature long tensor as input\n",
    "class BinaryClassifier(nn.Module):\n",
    "    def __init__(self):\n",
    "        super(BinaryClassifier, self).__init__()        \n",
    "        \n",
    "        # Number of input features is 2048\n",
    "        self.layer_1 = nn.Linear(2048, 1024) \n",
    "        self.layer_2 = nn.Linear(1024, 480)\n",
    "        self.layer_3 = nn.Linear(480, 240)\n",
    "        self.layer_4 = nn.Linear(240, 64)\n",
    "        self.layer_out = nn.Linear(64, 1) \n",
    "        \n",
    "        self.relu = nn.ReLU()\n",
    "        self.dropout = nn.Dropout(p=0.1)\n",
    "        self.batchnorm1 = nn.BatchNorm1d(1024)\n",
    "        self.batchnorm2 = nn.BatchNorm1d(480)\n",
    "        self.batchnorm3 = nn.BatchNorm1d(240)\n",
    "        self.batchnorm4 = nn.BatchNorm1d(64)\n",
    "        \n",
    "    def forward(self, inputs):\n",
    "        x = self.relu(self.layer_1(inputs))\n",
    "        x = self.batchnorm1(x)\n",
    "        x = self.relu(self.layer_2(x))\n",
    "        x = self.batchnorm2(x)\n",
    "        x = self.dropout(x)\n",
    "        x = self.relu(self.layer_3(x))\n",
    "        x = self.batchnorm3(x)\n",
    "        x = self.relu(self.layer_4(x))\n",
    "        x = self.batchnorm4(x)\n",
    "        x = self.layer_out(x)\n",
    "        \n",
    "        return x"
   ]
  },
  {
   "cell_type": "code",
   "execution_count": 138,
   "metadata": {},
   "outputs": [],
   "source": [
    "LEARNING_RATE = 0.003\n",
    "EPOCHS = 50"
   ]
  },
  {
   "cell_type": "code",
   "execution_count": 139,
   "metadata": {},
   "outputs": [],
   "source": [
    "import torch.optim as optim\n",
    "\n",
    "model = BinaryClassifier()\n",
    "loss_function = nn.BCEWithLogitsLoss()\n",
    "optimizer = optim.Adam(model.parameters(), lr=LEARNING_RATE)"
   ]
  },
  {
   "cell_type": "code",
   "execution_count": 140,
   "metadata": {},
   "outputs": [
    {
     "data": {
      "text/plain": [
       "tensor([[ 0.0044],\n",
       "        [ 0.0082],\n",
       "        [-0.0114],\n",
       "        ...,\n",
       "        [-0.8352],\n",
       "        [-0.3547],\n",
       "        [-0.1872]], grad_fn=<AddmmBackward>)"
      ]
     },
     "execution_count": 140,
     "metadata": {},
     "output_type": "execute_result"
    }
   ],
   "source": [
    "# Run a minibatch of data through the model to check we get any errors\n",
    "minibatch = train_x[:64]\n",
    "model\n",
    "model(train_x)"
   ]
  },
  {
   "cell_type": "code",
   "execution_count": 141,
   "metadata": {},
   "outputs": [],
   "source": [
    "def binary_acc(y_pred, y_test):\n",
    "    # Transform outputs to 0 and 1\n",
    "    y_pred_tag = torch.round(torch.sigmoid(y_pred))\n",
    "\n",
    "    # Calculate percentage of correct predictions\n",
    "    correct_results_sum = (y_pred_tag == y_test).sum().float()\n",
    "    acc = correct_results_sum/y_test.shape[0]\n",
    "    acc = torch.round(acc * 100)\n",
    "    \n",
    "    return acc"
   ]
  },
  {
   "cell_type": "code",
   "execution_count": 142,
   "metadata": {},
   "outputs": [
    {
     "data": {
      "text/plain": [
       "device(type='cuda', index=0)"
      ]
     },
     "execution_count": 142,
     "metadata": {},
     "output_type": "execute_result"
    }
   ],
   "source": [
    "# Specify that we want to use the GPU if available\n",
    "device = torch.device(\"cuda:0\" if torch.cuda.is_available() else \"cpu\")\n",
    "device"
   ]
  },
  {
   "cell_type": "code",
   "execution_count": 143,
   "metadata": {},
   "outputs": [
    {
     "name": "stdout",
     "output_type": "stream",
     "text": [
      "Epoch 0: | Training Loss: 0.59955 | Training accuracy: 65.55147058823529 | Validation Loss: 2.3981900243683154 | Validation Accuracy: 68.32352941176471\n",
      "Epoch 1: | Training Loss: 0.55346 | Training accuracy: 69.72058823529412 | Validation Loss: 2.213834304201936 | Validation Accuracy: 67.91176470588235\n",
      "Epoch 2: | Training Loss: 0.52091 | Training accuracy: 72.23529411764706 | Validation Loss: 2.0836425790890627 | Validation Accuracy: 66.47058823529412\n",
      "Epoch 3: | Training Loss: 0.48172 | Training accuracy: 75.375 | Validation Loss: 1.926896418934874 | Validation Accuracy: 67.5\n",
      "Epoch 4: | Training Loss: 0.43179 | Training accuracy: 79.19117647058823 | Validation Loss: 1.7271532145975936 | Validation Accuracy: 65.73529411764706\n",
      "Epoch 5: | Training Loss: 0.37222 | Training accuracy: 82.73529411764706 | Validation Loss: 1.4888631815595352 | Validation Accuracy: 62.94117647058823\n",
      "Epoch 6: | Training Loss: 0.34809 | Training accuracy: 83.97058823529412 | Validation Loss: 1.3923772384140656 | Validation Accuracy: 64.20588235294117\n",
      "Epoch 7: | Training Loss: 0.29470 | Training accuracy: 86.83088235294117 | Validation Loss: 1.1787840906993878 | Validation Accuracy: 64.32352941176471\n",
      "Epoch 8: | Training Loss: 0.25644 | Training accuracy: 88.72058823529412 | Validation Loss: 1.0257621396664673 | Validation Accuracy: 64.55882352941177\n",
      "Epoch 9: | Training Loss: 0.22348 | Training accuracy: 90.91911764705883 | Validation Loss: 0.8939391067068858 | Validation Accuracy: 63.73529411764706\n",
      "Epoch 10: | Training Loss: 0.20984 | Training accuracy: 91.02941176470588 | Validation Loss: 0.8393667903356004 | Validation Accuracy: 64.52941176470588\n",
      "Epoch 11: | Training Loss: 0.18811 | Training accuracy: 91.98529411764706 | Validation Loss: 0.7524338307524988 | Validation Accuracy: 62.64705882352941\n",
      "Epoch 12: | Training Loss: 0.15695 | Training accuracy: 93.5 | Validation Loss: 0.6277808596087998 | Validation Accuracy: 63.088235294117645\n",
      "Epoch 13: | Training Loss: 0.12600 | Training accuracy: 94.73529411764706 | Validation Loss: 0.5039857689506304 | Validation Accuracy: 62.5\n",
      "Epoch 14: | Training Loss: 0.09782 | Training accuracy: 96.25 | Validation Loss: 0.39127377702145777 | Validation Accuracy: 63.61764705882353\n",
      "Epoch 15: | Training Loss: 0.08114 | Training accuracy: 96.75735294117646 | Validation Loss: 0.3245636403471368 | Validation Accuracy: 63.8235294117647\n",
      "Epoch 16: | Training Loss: 0.07983 | Training accuracy: 96.94852941176471 | Validation Loss: 0.3193260658919108 | Validation Accuracy: 63.23529411764706\n",
      "Epoch 17: | Training Loss: 0.07227 | Training accuracy: 97.13235294117646 | Validation Loss: 0.2890970422295067 | Validation Accuracy: 62.8235294117647\n",
      "Epoch 18: | Training Loss: 0.05427 | Training accuracy: 97.91176470588235 | Validation Loss: 0.2170699036943266 | Validation Accuracy: 63.55882352941177\n",
      "Epoch 19: | Training Loss: 0.05040 | Training accuracy: 98.11764705882354 | Validation Loss: 0.20158073318331146 | Validation Accuracy: 64.3529411764706\n",
      "Epoch 20: | Training Loss: 0.03035 | Training accuracy: 98.86029411764706 | Validation Loss: 0.12141899874169866 | Validation Accuracy: 63.1764705882353\n",
      "Epoch 21: | Training Loss: 0.03870 | Training accuracy: 98.41176470588235 | Validation Loss: 0.15481911971333462 | Validation Accuracy: 64.05882352941177\n",
      "Epoch 22: | Training Loss: 0.03199 | Training accuracy: 98.75735294117646 | Validation Loss: 0.12795578277767203 | Validation Accuracy: 63.94117647058823\n",
      "Epoch 23: | Training Loss: 0.02574 | Training accuracy: 98.8529411764706 | Validation Loss: 0.10297308593734478 | Validation Accuracy: 63.23529411764706\n",
      "Epoch 24: | Training Loss: 0.03243 | Training accuracy: 98.77941176470588 | Validation Loss: 0.12972648713215706 | Validation Accuracy: 63.11764705882353\n",
      "Epoch 25: | Training Loss: 0.02942 | Training accuracy: 98.90441176470588 | Validation Loss: 0.11766375452415326 | Validation Accuracy: 63.23529411764706\n",
      "Epoch 26: | Training Loss: 0.03893 | Training accuracy: 98.46323529411765 | Validation Loss: 0.15571796786150804 | Validation Accuracy: 61.529411764705884\n",
      "Epoch 27: | Training Loss: 0.02697 | Training accuracy: 98.96323529411765 | Validation Loss: 0.10787002460901096 | Validation Accuracy: 64.32352941176471\n",
      "Epoch 28: | Training Loss: 0.02334 | Training accuracy: 99.09558823529412 | Validation Loss: 0.09337326083973746 | Validation Accuracy: 63.26470588235294\n",
      "Epoch 29: | Training Loss: 0.01673 | Training accuracy: 99.19117647058823 | Validation Loss: 0.06693263128105947 | Validation Accuracy: 63.294117647058826\n",
      "Epoch 30: | Training Loss: 0.02027 | Training accuracy: 99.05882352941177 | Validation Loss: 0.0810987208516909 | Validation Accuracy: 63.35294117647059\n",
      "Epoch 31: | Training Loss: 0.02333 | Training accuracy: 99.08088235294117 | Validation Loss: 0.0933399727605341 | Validation Accuracy: 62.88235294117647\n",
      "Epoch 32: | Training Loss: 0.02970 | Training accuracy: 98.73529411764706 | Validation Loss: 0.11880854003683694 | Validation Accuracy: 63.35294117647059\n",
      "Epoch 33: | Training Loss: 0.01662 | Training accuracy: 99.36029411764706 | Validation Loss: 0.0664895945084771 | Validation Accuracy: 63.8235294117647\n",
      "Epoch 34: | Training Loss: 0.01898 | Training accuracy: 99.33088235294117 | Validation Loss: 0.07592703921412391 | Validation Accuracy: 63.14705882352941\n",
      "Epoch 35: | Training Loss: 0.02500 | Training accuracy: 99.00735294117646 | Validation Loss: 0.10001190258715002 | Validation Accuracy: 62.470588235294116\n",
      "Epoch 36: | Training Loss: 0.02073 | Training accuracy: 99.19852941176471 | Validation Loss: 0.08291468911449802 | Validation Accuracy: 63.470588235294116\n",
      "Epoch 37: | Training Loss: 0.01014 | Training accuracy: 99.57352941176471 | Validation Loss: 0.04057673725912174 | Validation Accuracy: 62.588235294117645\n",
      "Epoch 38: | Training Loss: 0.00452 | Training accuracy: 99.82352941176471 | Validation Loss: 0.018062790488087906 | Validation Accuracy: 63.61764705882353\n",
      "Epoch 39: | Training Loss: 0.00103 | Training accuracy: 99.98529411764706 | Validation Loss: 0.004128689972113081 | Validation Accuracy: 62.970588235294116\n",
      "Epoch 40: | Training Loss: 0.00724 | Training accuracy: 99.70588235294117 | Validation Loss: 0.028972650051274754 | Validation Accuracy: 62.411764705882355\n",
      "Epoch 41: | Training Loss: 0.03548 | Training accuracy: 98.66911764705883 | Validation Loss: 0.1419184777849551 | Validation Accuracy: 63.3235294117647\n",
      "Epoch 42: | Training Loss: 0.02645 | Training accuracy: 99.06617647058823 | Validation Loss: 0.1058051262599037 | Validation Accuracy: 65.11764705882354\n",
      "Epoch 43: | Training Loss: 0.02642 | Training accuracy: 98.99264705882354 | Validation Loss: 0.10567710314863218 | Validation Accuracy: 62.61764705882353\n",
      "Epoch 44: | Training Loss: 0.02665 | Training accuracy: 98.91911764705883 | Validation Loss: 0.10659256798697425 | Validation Accuracy: 63.705882352941174\n",
      "Epoch 45: | Training Loss: 0.01631 | Training accuracy: 99.33088235294117 | Validation Loss: 0.06522523628146708 | Validation Accuracy: 62.61764705882353\n",
      "Epoch 46: | Training Loss: 0.01047 | Training accuracy: 99.58823529411765 | Validation Loss: 0.04186460295584125 | Validation Accuracy: 62.470588235294116\n",
      "Epoch 47: | Training Loss: 0.00900 | Training accuracy: 99.68382352941177 | Validation Loss: 0.03601253474253586 | Validation Accuracy: 62.205882352941174\n",
      "Epoch 48: | Training Loss: 0.01464 | Training accuracy: 99.44852941176471 | Validation Loss: 0.05856349252378702 | Validation Accuracy: 63.3235294117647\n",
      "Epoch 49: | Training Loss: 0.01115 | Training accuracy: 99.45588235294117 | Validation Loss: 0.044589200899403644 | Validation Accuracy: 62.970588235294116\n"
     ]
    }
   ],
   "source": [
    "# Move model to GPU if possible\n",
    "model = model.to(device)\n",
    "# Tells PyTorch we are in training mode\n",
    "model.train()\n",
    "\n",
    "for e in range(0, EPOCHS):\n",
    "    \n",
    "    # Set loss and accuracy to zero at start of each epoch\n",
    "    epoch_training_loss = 0\n",
    "    epoch_training_accuracy = 0\n",
    "    epoch_valid_loss = 0\n",
    "    epoch_valid_accuracy = 0\n",
    "    \n",
    "    for x_batch, y_batch in train_dl:\n",
    "        # Transfer the tensors to the GPU if possible\n",
    "        x_batch, y_batch = x_batch.to(device), y_batch.to(device)\n",
    "        \n",
    "        # Zero out gradients before backpropagation (PyTorch cumulates the gradient otherwise)\n",
    "        optimizer.zero_grad()\n",
    "        \n",
    "        # Predict a minibatch of outputs\n",
    "        y_pred = model(x_batch)\n",
    "        \n",
    "        # Calculate the loss (unsqueeze adds a dimension to y)\n",
    "        loss = loss_function(y_pred, y_batch.unsqueeze(1))\n",
    "        training_acc = binary_acc(y_pred, y_batch.unsqueeze(1))\n",
    "        \n",
    "        # Backpropagation. Gradients are calculated\n",
    "        loss.backward()\n",
    "        optimizer.step()\n",
    "        \n",
    "        epoch_training_loss += loss.item()\n",
    "        epoch_training_accuracy += training_acc.item()\n",
    "    \n",
    "    for x_batch, y_batch in valid_dl:\n",
    "        x_batch, y_batch = x_batch.to(device), y_batch.to(device)\n",
    "        \n",
    "        valid_y_pred = model(x_batch)\n",
    "        valid_loss = loss_function(valid_y_pred, y_batch.unsqueeze(1))\n",
    "        valid_acc = binary_acc(valid_y_pred, y_batch.unsqueeze(1))\n",
    "        \n",
    "        epoch_valid_loss += valid_loss.item()\n",
    "        epoch_valid_accuracy += valid_acc.item()\n",
    "        \n",
    "    avg_train_loss = epoch_training_loss/len(train_dl)\n",
    "    avg_valid_loss = epoch_training_loss/len(valid_dl)\n",
    "    \n",
    "    avg_train_accuracy = epoch_training_accuracy/len(train_dl)\n",
    "    avg_valid_accuracy = epoch_valid_accuracy/len(valid_dl)\n",
    "    \n",
    "    print(f'Epoch {e}: | Training Loss: {avg_train_loss:.5f} | Training accuracy: {avg_train_accuracy} | Validation Loss: {avg_valid_loss} | Validation Accuracy: {avg_valid_accuracy}')"
   ]
  },
  {
   "cell_type": "code",
   "execution_count": 144,
   "metadata": {
    "id": "XDIEghli_AdB"
   },
   "outputs": [
    {
     "data": {
      "text/plain": [
       "2172"
      ]
     },
     "execution_count": 144,
     "metadata": {},
     "output_type": "execute_result"
    }
   ],
   "source": [
    "y_pred_list = np.array([])\n",
    "\n",
    "model.eval()\n",
    "\n",
    "with torch.no_grad():\n",
    "    for X_batch, y_batch in valid_dl:\n",
    "        X_batch = X_batch.to(device)\n",
    "        y_test_pred = model(X_batch)\n",
    "        y_test_pred = torch.sigmoid(y_test_pred)\n",
    "        y_pred_tag = torch.round(y_test_pred)\n",
    "        y_pred_tag = y_pred_tag.squeeze(1).cpu().numpy()\n",
    "        y_pred_list = np.append(y_pred_list, y_pred_tag)\n",
    "                     \n",
    "len(y_pred_list)"
   ]
  },
  {
   "cell_type": "code",
   "execution_count": 145,
   "metadata": {},
   "outputs": [],
   "source": [
    "!pip install -Uqq sklearn"
   ]
  },
  {
   "cell_type": "code",
   "execution_count": 146,
   "metadata": {},
   "outputs": [],
   "source": [
    "from sklearn.metrics import confusion_matrix, classification_report "
   ]
  },
  {
   "cell_type": "code",
   "execution_count": 147,
   "metadata": {},
   "outputs": [
    {
     "data": {
      "text/plain": [
       "array([[1067,  371],\n",
       "       [ 410,  324]])"
      ]
     },
     "execution_count": 147,
     "metadata": {},
     "output_type": "execute_result"
    }
   ],
   "source": [
    "confusion_matrix(valid_y, y_pred_list)"
   ]
  },
  {
   "cell_type": "code",
   "execution_count": null,
   "metadata": {},
   "outputs": [],
   "source": []
  }
 ],
 "metadata": {
  "accelerator": "GPU",
  "colab": {
   "authorship_tag": "ABX9TyO0fLK1v0FHPC7K2mZ78993",
   "mount_file_id": "1Gv9P6j20Iz6psk8kmk82m4fBHJmy2O-r",
   "name": "tabular_nn.ipynb",
   "provenance": []
  },
  "kernelspec": {
   "display_name": "Python 3",
   "language": "python",
   "name": "python3"
  },
  "language_info": {
   "codemirror_mode": {
    "name": "ipython",
    "version": 3
   },
   "file_extension": ".py",
   "mimetype": "text/x-python",
   "name": "python",
   "nbconvert_exporter": "python",
   "pygments_lexer": "ipython3",
   "version": "3.8.10"
  }
 },
 "nbformat": 4,
 "nbformat_minor": 1
}
