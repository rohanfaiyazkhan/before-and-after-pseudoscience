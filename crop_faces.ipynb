{
 "cells": [
  {
   "cell_type": "code",
   "execution_count": 1,
   "id": "embedded-turkey",
   "metadata": {},
   "outputs": [],
   "source": [
    "import numpy as np\n",
    "from pathlib import Path\n",
    "from IPython.display import display\n",
    "from PIL import Image\n",
    "import matplotlib.pyplot as plt\n",
    "from tqdm import tqdm\n",
    "import os\n",
    "from crop_face import convert_face_tensor_to_numpy_array, prepare_single_face_model"
   ]
  },
  {
   "cell_type": "code",
   "execution_count": 2,
   "id": "duplicate-collins",
   "metadata": {},
   "outputs": [],
   "source": [
    "save_state_path = Path(\"./custom_image_labelling_save_state\")"
   ]
  },
  {
   "cell_type": "code",
   "execution_count": 3,
   "id": "monthly-caribbean",
   "metadata": {},
   "outputs": [],
   "source": [
    "labels = np.load(save_state_path / \"labels.npy\")\n",
    "marked_for_deletion = np.load(save_state_path / \"marked_for_deletion.npy\")\n",
    "marked_for_manual = np.load(save_state_path / \"marked_for_manual.npy\")"
   ]
  },
  {
   "cell_type": "code",
   "execution_count": 4,
   "id": "duplicate-department",
   "metadata": {},
   "outputs": [
    {
     "data": {
      "text/plain": [
       "12"
      ]
     },
     "execution_count": 4,
     "metadata": {},
     "output_type": "execute_result"
    }
   ],
   "source": [
    "(labels[:,0] == 1).sum()"
   ]
  },
  {
   "cell_type": "code",
   "execution_count": 5,
   "id": "three-dallas",
   "metadata": {},
   "outputs": [
    {
     "data": {
      "text/plain": [
       "202"
      ]
     },
     "execution_count": 5,
     "metadata": {},
     "output_type": "execute_result"
    }
   ],
   "source": [
    "(marked_for_deletion == 1).sum()"
   ]
  },
  {
   "cell_type": "code",
   "execution_count": 6,
   "id": "renewable-gambling",
   "metadata": {},
   "outputs": [
    {
     "data": {
      "text/plain": [
       "17"
      ]
     },
     "execution_count": 6,
     "metadata": {},
     "output_type": "execute_result"
    }
   ],
   "source": [
    "(marked_for_manual == 1).sum()"
   ]
  },
  {
   "cell_type": "code",
   "execution_count": 7,
   "id": "hispanic-nurse",
   "metadata": {},
   "outputs": [],
   "source": [
    "images_pth = Path(\"./data/images\")"
   ]
  },
  {
   "cell_type": "code",
   "execution_count": 8,
   "id": "integral-oregon",
   "metadata": {},
   "outputs": [],
   "source": [
    "from utils import load_images_recursively\n",
    "\n",
    "images, _ = load_images_recursively(images_pth)"
   ]
  },
  {
   "cell_type": "code",
   "execution_count": 9,
   "id": "smart-typing",
   "metadata": {},
   "outputs": [],
   "source": [
    "idx_not_marked_for_deletion = np.where(marked_for_deletion == 0)[0]\n",
    "idx_not_marked_for_manual = np.where(marked_for_manual == 0)[0]"
   ]
  },
  {
   "cell_type": "code",
   "execution_count": 10,
   "id": "single-suspension",
   "metadata": {},
   "outputs": [
    {
     "data": {
      "text/plain": [
       "1310"
      ]
     },
     "execution_count": 10,
     "metadata": {},
     "output_type": "execute_result"
    }
   ],
   "source": [
    "len(idx_not_marked_for_deletion)"
   ]
  },
  {
   "cell_type": "code",
   "execution_count": 11,
   "id": "divine-berlin",
   "metadata": {},
   "outputs": [],
   "source": [
    "to_keep = []\n",
    "\n",
    "for i in range(len(images)):\n",
    "    if i in idx_not_marked_for_deletion and i in idx_not_marked_for_manual:\n",
    "        to_keep.append(i)\n",
    "        \n",
    "to_keep = np.array(to_keep)"
   ]
  },
  {
   "cell_type": "code",
   "execution_count": 12,
   "id": "velvet-touch",
   "metadata": {},
   "outputs": [
    {
     "data": {
      "text/plain": [
       "array([   2,    3,    5, ..., 1509, 1510, 1511])"
      ]
     },
     "execution_count": 12,
     "metadata": {},
     "output_type": "execute_result"
    }
   ],
   "source": [
    "to_keep"
   ]
  },
  {
   "cell_type": "code",
   "execution_count": 13,
   "id": "broke-bonus",
   "metadata": {},
   "outputs": [],
   "source": [
    "filtered_images =[images[i] for i in to_keep]"
   ]
  },
  {
   "cell_type": "code",
   "execution_count": 14,
   "id": "practical-difference",
   "metadata": {},
   "outputs": [],
   "source": [
    "filtered_labels = [labels[i] for i in to_keep]"
   ]
  },
  {
   "cell_type": "code",
   "execution_count": 15,
   "id": "partial-concept",
   "metadata": {},
   "outputs": [
    {
     "data": {
      "text/plain": [
       "1512"
      ]
     },
     "execution_count": 15,
     "metadata": {},
     "output_type": "execute_result"
    }
   ],
   "source": [
    "len(images)"
   ]
  },
  {
   "cell_type": "code",
   "execution_count": 16,
   "id": "confident-diploma",
   "metadata": {},
   "outputs": [
    {
     "data": {
      "text/plain": [
       "1293"
      ]
     },
     "execution_count": 16,
     "metadata": {},
     "output_type": "execute_result"
    }
   ],
   "source": [
    "len(filtered_images)"
   ]
  },
  {
   "cell_type": "code",
   "execution_count": 17,
   "id": "normal-madrid",
   "metadata": {},
   "outputs": [],
   "source": [
    "def crop_and_transform(img):\n",
    "    return convert_face_tensor_to_numpy_array(cropping_model(right_half))"
   ]
  },
  {
   "cell_type": "code",
   "execution_count": 18,
   "id": "dying-adoption",
   "metadata": {},
   "outputs": [],
   "source": [
    "new_crops_path = Path('./data/new_crops')\n",
    "before_crops_path = new_crops_path / 'before'\n",
    "after_crops_path = new_crops_path / 'after'"
   ]
  },
  {
   "cell_type": "code",
   "execution_count": 19,
   "id": "serious-samoa",
   "metadata": {},
   "outputs": [],
   "source": [
    "images_and_labels = zip(filtered_images, filtered_labels)"
   ]
  },
  {
   "cell_type": "code",
   "execution_count": 20,
   "id": "laughing-blanket",
   "metadata": {},
   "outputs": [],
   "source": [
    "from crop_face import prepare_single_face_model"
   ]
  },
  {
   "cell_type": "code",
   "execution_count": 22,
   "id": "correct-throat",
   "metadata": {},
   "outputs": [
    {
     "name": "stderr",
     "output_type": "stream",
     "text": [
      "  1%|▌                                        | 19/1293 [00:02<02:07, 10.00it/s]"
     ]
    },
    {
     "name": "stdout",
     "output_type": "stream",
     "text": [
      "'NoneType' object has no attribute 'permute'\n",
      "After could not be extracted from data/images/beard before after 2/19.jpg\n"
     ]
    },
    {
     "name": "stderr",
     "output_type": "stream",
     "text": [
      "  3%|█                                        | 33/1293 [00:03<01:53, 11.09it/s]"
     ]
    },
    {
     "name": "stdout",
     "output_type": "stream",
     "text": [
      "Given groups=1, weight of size [10, 3, 3, 3], expected input[1, 4, 229, 172] to have 3 channels, but got 4 channels instead\n",
      "Before could not be extracted from data/images/beard before after 2/103.jpg\n",
      "Given groups=1, weight of size [10, 3, 3, 3], expected input[1, 4, 229, 172] to have 3 channels, but got 4 channels instead\n",
      "After could not be extracted from data/images/beard before after 2/103.jpg\n"
     ]
    },
    {
     "name": "stderr",
     "output_type": "stream",
     "text": [
      "  7%|██▊                                      | 89/1293 [00:09<01:57, 10.28it/s]"
     ]
    },
    {
     "name": "stdout",
     "output_type": "stream",
     "text": [
      "Given groups=1, weight of size [10, 3, 3, 3], expected input[1, 4, 418, 209] to have 3 channels, but got 4 channels instead\n",
      "Before could not be extracted from data/images/makeup before after 4/46.jpg\n",
      "Given groups=1, weight of size [10, 3, 3, 3], expected input[1, 4, 418, 209] to have 3 channels, but got 4 channels instead\n",
      "After could not be extracted from data/images/makeup before after 4/46.jpg\n",
      "'NoneType' object has no attribute 'permute'\n",
      "Before could not be extracted from data/images/makeup before after 4/63.jpg\n"
     ]
    },
    {
     "name": "stderr",
     "output_type": "stream",
     "text": [
      "  7%|██▉                                      | 93/1293 [00:09<01:36, 12.41it/s]"
     ]
    },
    {
     "name": "stdout",
     "output_type": "stream",
     "text": [
      "Given groups=1, weight of size [10, 3, 3, 3], expected input[1, 4, 385, 193] to have 3 channels, but got 4 channels instead\n",
      "Before could not be extracted from data/images/makeup before after 4/27.jpg\n",
      "Given groups=1, weight of size [10, 3, 3, 3], expected input[1, 4, 385, 193] to have 3 channels, but got 4 channels instead\n",
      "After could not be extracted from data/images/makeup before after 4/27.jpg\n"
     ]
    },
    {
     "name": "stderr",
     "output_type": "stream",
     "text": [
      "  8%|███▏                                    | 103/1293 [00:10<01:39, 11.96it/s]"
     ]
    },
    {
     "name": "stdout",
     "output_type": "stream",
     "text": [
      "'NoneType' object has no attribute 'permute'\n",
      "After could not be extracted from data/images/makeup before after 4/42.jpg\n"
     ]
    },
    {
     "name": "stderr",
     "output_type": "stream",
     "text": [
      "  9%|███▋                                    | 119/1293 [00:11<01:48, 10.84it/s]"
     ]
    },
    {
     "name": "stdout",
     "output_type": "stream",
     "text": [
      "'NoneType' object has no attribute 'permute'\n",
      "Before could not be extracted from data/images/makeup before after 4/127.jpg\n",
      "'NoneType' object has no attribute 'permute'\n",
      "After could not be extracted from data/images/makeup before after 4/127.jpg\n"
     ]
    },
    {
     "name": "stderr",
     "output_type": "stream",
     "text": [
      " 12%|████▊                                   | 157/1293 [00:15<01:49, 10.38it/s]"
     ]
    },
    {
     "name": "stdout",
     "output_type": "stream",
     "text": [
      "Given groups=1, weight of size [10, 3, 3, 3], expected input[1, 4, 190, 121] to have 3 channels, but got 4 channels instead\n",
      "Before could not be extracted from data/images/drag queen face before after 1/104.jpg\n",
      "Given groups=1, weight of size [10, 3, 3, 3], expected input[1, 4, 190, 121] to have 3 channels, but got 4 channels instead\n",
      "After could not be extracted from data/images/drag queen face before after 1/104.jpg\n"
     ]
    },
    {
     "name": "stderr",
     "output_type": "stream",
     "text": [
      " 16%|██████▍                                 | 209/1293 [00:20<01:46, 10.13it/s]"
     ]
    },
    {
     "name": "stdout",
     "output_type": "stream",
     "text": [
      "Given groups=1, weight of size [10, 3, 3, 3], expected input[1, 4, 229, 181] to have 3 channels, but got 4 channels instead\n",
      "Before could not be extracted from data/images/drag queen face before after 1/87.jpg\n",
      "Given groups=1, weight of size [10, 3, 3, 3], expected input[1, 4, 229, 181] to have 3 channels, but got 4 channels instead\n",
      "After could not be extracted from data/images/drag queen face before after 1/87.jpg\n"
     ]
    },
    {
     "name": "stderr",
     "output_type": "stream",
     "text": [
      " 18%|███████▎                                | 235/1293 [00:23<01:38, 10.73it/s]"
     ]
    },
    {
     "name": "stdout",
     "output_type": "stream",
     "text": [
      "'NoneType' object has no attribute 'permute'\n",
      "Before could not be extracted from data/images/haircut face before after 3/80.jpg\n",
      "'NoneType' object has no attribute 'permute'\n",
      "After could not be extracted from data/images/haircut face before after 3/80.jpg\n"
     ]
    },
    {
     "name": "stderr",
     "output_type": "stream",
     "text": [
      " 19%|███████▍                                | 241/1293 [00:24<01:32, 11.38it/s]"
     ]
    },
    {
     "name": "stdout",
     "output_type": "stream",
     "text": [
      "'NoneType' object has no attribute 'permute'\n",
      "After could not be extracted from data/images/haircut face before after 3/138.jpg\n"
     ]
    },
    {
     "name": "stderr",
     "output_type": "stream",
     "text": [
      " 22%|████████▉                               | 287/1293 [00:29<01:20, 12.56it/s]"
     ]
    },
    {
     "name": "stdout",
     "output_type": "stream",
     "text": [
      "Given groups=1, weight of size [10, 3, 3, 3], expected input[1, 4, 200, 176] to have 3 channels, but got 4 channels instead\n",
      "Before could not be extracted from data/images/haircut face before after 3/92.jpg\n",
      "Given groups=1, weight of size [10, 3, 3, 3], expected input[1, 4, 200, 176] to have 3 channels, but got 4 channels instead\n",
      "After could not be extracted from data/images/haircut face before after 3/92.jpg\n"
     ]
    },
    {
     "name": "stderr",
     "output_type": "stream",
     "text": [
      " 28%|███████████▎                            | 365/1293 [00:36<01:19, 11.73it/s]"
     ]
    },
    {
     "name": "stdout",
     "output_type": "stream",
     "text": [
      "Given groups=1, weight of size [10, 3, 3, 3], expected input[1, 4, 331, 329] to have 3 channels, but got 4 channels instead\n",
      "Before could not be extracted from data/images/images 1 makeup before and after/79.jpg\n",
      "Given groups=1, weight of size [10, 3, 3, 3], expected input[1, 4, 331, 329] to have 3 channels, but got 4 channels instead\n",
      "After could not be extracted from data/images/images 1 makeup before and after/79.jpg\n"
     ]
    },
    {
     "name": "stderr",
     "output_type": "stream",
     "text": [
      " 30%|███████████▉                            | 387/1293 [00:38<01:18, 11.59it/s]"
     ]
    },
    {
     "name": "stdout",
     "output_type": "stream",
     "text": [
      "'NoneType' object has no attribute 'permute'\n",
      "Before could not be extracted from data/images/makeup before after 5/63.jpg\n"
     ]
    },
    {
     "name": "stderr",
     "output_type": "stream",
     "text": [
      " 34%|█████████████▌                          | 440/1293 [00:43<01:09, 12.36it/s]"
     ]
    },
    {
     "name": "stdout",
     "output_type": "stream",
     "text": [
      "'NoneType' object has no attribute 'permute'\n",
      "Before could not be extracted from data/images/makeup before after chinese/86.jpg\n",
      "'NoneType' object has no attribute 'permute'\n",
      "After could not be extracted from data/images/makeup before after chinese/86.jpg\n"
     ]
    },
    {
     "name": "stderr",
     "output_type": "stream",
     "text": [
      " 35%|██████████████                          | 456/1293 [00:44<00:55, 14.99it/s]"
     ]
    },
    {
     "name": "stdout",
     "output_type": "stream",
     "text": [
      "'NoneType' object has no attribute 'permute'\n",
      "Before could not be extracted from data/images/makeup before after chinese/96.jpg\n",
      "'NoneType' object has no attribute 'permute'\n",
      "After could not be extracted from data/images/makeup before after chinese/96.jpg\n",
      "'NoneType' object has no attribute 'permute'\n",
      "Before could not be extracted from data/images/makeup before after chinese/85.jpg\n",
      "'NoneType' object has no attribute 'permute'\n",
      "After could not be extracted from data/images/makeup before after chinese/85.jpg\n"
     ]
    },
    {
     "name": "stderr",
     "output_type": "stream",
     "text": [
      " 36%|██████████████▍                         | 468/1293 [00:45<00:55, 14.81it/s]"
     ]
    },
    {
     "name": "stdout",
     "output_type": "stream",
     "text": [
      "'NoneType' object has no attribute 'permute'\n",
      "Before could not be extracted from data/images/makeup before after chinese/59.jpg\n",
      "'NoneType' object has no attribute 'permute'\n",
      "After could not be extracted from data/images/makeup before after chinese/59.jpg\n"
     ]
    },
    {
     "name": "stderr",
     "output_type": "stream",
     "text": [
      " 37%|██████████████▊                         | 480/1293 [00:46<01:18, 10.35it/s]"
     ]
    },
    {
     "name": "stdout",
     "output_type": "stream",
     "text": [
      "'NoneType' object has no attribute 'permute'\n",
      "Before could not be extracted from data/images/makeup before after chinese/79.jpg\n",
      "'NoneType' object has no attribute 'permute'\n",
      "After could not be extracted from data/images/makeup before after chinese/79.jpg\n"
     ]
    },
    {
     "name": "stderr",
     "output_type": "stream",
     "text": [
      " 37%|██████████████▉                         | 484/1293 [00:46<01:06, 12.13it/s]"
     ]
    },
    {
     "name": "stdout",
     "output_type": "stream",
     "text": [
      "'NoneType' object has no attribute 'permute'\n",
      "Before could not be extracted from data/images/makeup before after chinese/116.jpg\n",
      "'NoneType' object has no attribute 'permute'\n",
      "Before could not be extracted from data/images/makeup before after chinese/83.jpg\n",
      "'NoneType' object has no attribute 'permute'\n",
      "After could not be extracted from data/images/makeup before after chinese/83.jpg\n"
     ]
    },
    {
     "name": "stderr",
     "output_type": "stream",
     "text": [
      " 38%|███████████████▎                        | 496/1293 [00:47<00:58, 13.52it/s]"
     ]
    },
    {
     "name": "stdout",
     "output_type": "stream",
     "text": [
      "'NoneType' object has no attribute 'permute'\n",
      "After could not be extracted from data/images/makeup before after chinese/94.jpg\n"
     ]
    },
    {
     "name": "stderr",
     "output_type": "stream",
     "text": [
      " 42%|████████████████▋                       | 538/1293 [00:51<01:18,  9.67it/s]"
     ]
    },
    {
     "name": "stdout",
     "output_type": "stream",
     "text": [
      "Given groups=1, weight of size [10, 3, 3, 3], expected input[1, 4, 181, 181] to have 3 channels, but got 4 channels instead\n",
      "Before could not be extracted from data/images/drag queen face before after 2/116.jpg\n",
      "Given groups=1, weight of size [10, 3, 3, 3], expected input[1, 4, 181, 181] to have 3 channels, but got 4 channels instead\n",
      "After could not be extracted from data/images/drag queen face before after 2/116.jpg\n"
     ]
    },
    {
     "name": "stderr",
     "output_type": "stream",
     "text": [
      " 43%|█████████████████                       | 551/1293 [00:53<01:18,  9.51it/s]"
     ]
    },
    {
     "name": "stdout",
     "output_type": "stream",
     "text": [
      "'NoneType' object has no attribute 'permute'\n",
      "Before could not be extracted from data/images/beard before after 3/20.jpg\n"
     ]
    },
    {
     "name": "stderr",
     "output_type": "stream",
     "text": [
      " 44%|█████████████████▊                      | 575/1293 [00:56<01:15,  9.47it/s]"
     ]
    },
    {
     "name": "stdout",
     "output_type": "stream",
     "text": [
      "Given groups=1, weight of size [10, 3, 3, 3], expected input[1, 4, 271, 245] to have 3 channels, but got 4 channels instead\n",
      "Before could not be extracted from data/images/beard before after 3/107.jpg\n",
      "Given groups=1, weight of size [10, 3, 3, 3], expected input[1, 4, 271, 245] to have 3 channels, but got 4 channels instead\n",
      "After could not be extracted from data/images/beard before after 3/107.jpg\n"
     ]
    },
    {
     "name": "stderr",
     "output_type": "stream",
     "text": [
      " 45%|██████████████████                      | 583/1293 [00:57<01:26,  8.19it/s]"
     ]
    },
    {
     "name": "stdout",
     "output_type": "stream",
     "text": [
      "'NoneType' object has no attribute 'permute'\n",
      "After could not be extracted from data/images/hiardoo before after men 6/3.jpg\n"
     ]
    },
    {
     "name": "stderr",
     "output_type": "stream",
     "text": [
      " 47%|██████████████████▋                     | 603/1293 [00:58<01:07, 10.25it/s]\n"
     ]
    }
   ],
   "source": [
    "more_manual = np.zeros([len(filtered_images)])\n",
    "\n",
    "for i, (img_path, labels) in tqdm(enumerate(images_and_labels), total=len(filtered_images)):\n",
    "    try:\n",
    "        im = np.array(Image.open(img_path))\n",
    "        height = im.shape[0]\n",
    "        width = im.shape[1]\n",
    "        width_cutoff = width // 2\n",
    "        left_half = im[:,0:width_cutoff,:]\n",
    "        right_half = im[:,width_cutoff:width,:]\n",
    "\n",
    "        path_parts = img_path.parts\n",
    "        img_name = path_parts[-2] + '_' + path_parts[-1]\n",
    "        before_img_path = before_crops_path / img_name\n",
    "        after_img_path = after_crops_path / img_name\n",
    "\n",
    "\n",
    "        before = left_half if labels[0] == 0 else right_half\n",
    "        after = left_half if labels[0] == 1 else right_half\n",
    "\n",
    "        cropping_model = prepare_single_face_model(margin=30)\n",
    "        crop_and_transform = lambda i: convert_face_tensor_to_numpy_array(cropping_model(i))\n",
    "\n",
    "        try:\n",
    "            cropped_before = crop_and_transform(before)\n",
    "            Image.fromarray(cropped_before).convert('RGB').save(before_img_path)\n",
    "        except Exception as e:\n",
    "            print(e)\n",
    "            print(f'Before could not be extracted from {img_path}')\n",
    "            more_manual[i] = 1\n",
    "            Image.fromarray(left_half).convert('RGB').save(before_img_path)\n",
    "\n",
    "        try:\n",
    "            cropped_after = crop_and_transform(after)\n",
    "            Image.fromarray(cropped_after).convert('RGB').save(after_img_path)\n",
    "        except Exception as e:\n",
    "            print(e)\n",
    "            print(f'After could not be extracted from {img_path}')\n",
    "            more_manual[i] = 1\n",
    "            Image.fromarray(right_half).convert('RGB').save(after_img_path)\n",
    "    except Exception as e:\n",
    "        print(e)\n",
    "        continue\n",
    "    "
   ]
  },
  {
   "cell_type": "code",
   "execution_count": null,
   "id": "parallel-dressing",
   "metadata": {},
   "outputs": [],
   "source": []
  }
 ],
 "metadata": {
  "kernelspec": {
   "display_name": "Python 3 (ipykernel)",
   "language": "python",
   "name": "python3"
  },
  "language_info": {
   "codemirror_mode": {
    "name": "ipython",
    "version": 3
   },
   "file_extension": ".py",
   "mimetype": "text/x-python",
   "name": "python",
   "nbconvert_exporter": "python",
   "pygments_lexer": "ipython3",
   "version": "3.8.10"
  }
 },
 "nbformat": 4,
 "nbformat_minor": 5
}
