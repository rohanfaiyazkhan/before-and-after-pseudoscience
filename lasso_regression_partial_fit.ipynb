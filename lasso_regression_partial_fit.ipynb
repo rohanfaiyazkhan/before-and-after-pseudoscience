{
 "cells": [
  {
   "cell_type": "code",
   "execution_count": 1,
   "id": "timely-performer",
   "metadata": {
    "id": "p0Ljc86Nd5VB"
   },
   "outputs": [],
   "source": [
    "import pandas as pd\n",
    "import numpy as np"
   ]
  },
  {
   "cell_type": "code",
   "execution_count": 2,
   "id": "quick-liabilities",
   "metadata": {
    "tags": []
   },
   "outputs": [],
   "source": [
    "from data.load_data import load_faces, load_features\n",
    "\n",
    "features = load_features()\n",
    "faces = load_faces()"
   ]
  },
  {
   "cell_type": "code",
   "execution_count": 4,
   "id": "aging-toolbox",
   "metadata": {},
   "outputs": [],
   "source": [
    "# Randomly split training and testing datasets\n",
    "np.random.seed(67)\n",
    "\n",
    "num_of_samples = features.shape[0]\n",
    "idx = np.random.permutation(range(num_of_samples))\n",
    "cut = int(0.8 * num_of_samples)\n",
    "train_idx = idx[:cut]\n",
    "valid_idx = idx[cut:]"
   ]
  },
  {
   "cell_type": "code",
   "execution_count": 6,
   "id": "cognitive-immunology",
   "metadata": {},
   "outputs": [],
   "source": [
    "num_of_training_samples = len(train_idx)"
   ]
  },
  {
   "cell_type": "code",
   "execution_count": 14,
   "id": "august-instrument",
   "metadata": {},
   "outputs": [
    {
     "data": {
      "text/plain": [
       "217159"
      ]
     },
     "execution_count": 14,
     "metadata": {},
     "output_type": "execute_result"
    }
   ],
   "source": [
    "number_of_minibatches = 4\n",
    "minibatch_chunk_size = num_of_training_samples // number_of_minibatches\n",
    "minibatch_chunk_size"
   ]
  },
  {
   "cell_type": "code",
   "execution_count": 10,
   "id": "spread-least",
   "metadata": {},
   "outputs": [
    {
     "data": {
      "text/plain": [
       "array([0., 1., 0., 0.])"
      ]
     },
     "execution_count": 10,
     "metadata": {},
     "output_type": "execute_result"
    }
   ],
   "source": [
    "ground_truth = ['pol_dat_us', 'pol_dat_ca', 'pol_dat_uk', 'pol_fb_us']\n",
    "\n",
    "from utils import label_func, get_labels\n",
    "\n",
    "get_labels(faces.iloc[[1,2,4,5]])"
   ]
  },
  {
   "cell_type": "code",
   "execution_count": 65,
   "id": "convertible-hospital",
   "metadata": {},
   "outputs": [],
   "source": [
    "from sklearn.linear_model import SGDClassifier, Lasso\n",
    "\n",
    "model = SGDClassifier(alpha=0.01, penalty='elasticnet')\n",
    "# model = Lasso(alpha=0.1)"
   ]
  },
  {
   "cell_type": "code",
   "execution_count": 66,
   "id": "permanent-wildlife",
   "metadata": {},
   "outputs": [],
   "source": [
    "def get_binary_accuracy(preds, actual):\n",
    "    num_of_correct_predictions = (preds == actual).sum()\n",
    "    accuracy = num_of_correct_predictions / len(actual)\n",
    "    return accuracy"
   ]
  },
  {
   "cell_type": "code",
   "execution_count": 67,
   "id": "historic-sterling",
   "metadata": {},
   "outputs": [
    {
     "name": "stderr",
     "output_type": "stream",
     "text": [
      "Minibatch 3: 100%|█████████████████████████████████████████████████████████████████████████████████████████████████████████████████████████████████████████████████████████████████████████████████████████████| 4/4 [01:40<00:00, 25.17s/it]\n"
     ]
    }
   ],
   "source": [
    "from tqdm import tqdm, trange\n",
    "\n",
    "with trange(number_of_minibatches) as t:\n",
    "    for i in t:\n",
    "        t.set_description(f'Minibatch {i}')\n",
    "        indexes = train_idx[minibatch_chunk_size * i : minibatch_chunk_size * (i + 1)]\n",
    "        X = features[indexes]\n",
    "        y = get_labels(faces.iloc[indexes])\n",
    "        model.partial_fit(X, y, classes=[0,1])"
   ]
  },
  {
   "cell_type": "code",
   "execution_count": 68,
   "id": "eleven-danish",
   "metadata": {},
   "outputs": [],
   "source": [
    "y_preds = model.predict(features[valid_idx]).astype(float)"
   ]
  },
  {
   "cell_type": "code",
   "execution_count": 69,
   "id": "coupled-slovak",
   "metadata": {},
   "outputs": [],
   "source": [
    "y_valid = get_labels(faces.iloc[valid_idx])"
   ]
  },
  {
   "cell_type": "code",
   "execution_count": 70,
   "id": "mexican-short",
   "metadata": {},
   "outputs": [
    {
     "data": {
      "text/plain": [
       "0.6499477341487113"
      ]
     },
     "execution_count": 70,
     "metadata": {},
     "output_type": "execute_result"
    }
   ],
   "source": [
    "get_binary_accuracy(y_preds, y_valid)"
   ]
  },
  {
   "cell_type": "code",
   "execution_count": 71,
   "id": "decreased-turning",
   "metadata": {},
   "outputs": [],
   "source": [
    "from joblib import dump"
   ]
  },
  {
   "cell_type": "code",
   "execution_count": 72,
   "id": "shared-hawaii",
   "metadata": {},
   "outputs": [
    {
     "data": {
      "text/plain": [
       "['saved_model/lasso.joblib']"
      ]
     },
     "execution_count": 72,
     "metadata": {},
     "output_type": "execute_result"
    }
   ],
   "source": [
    "dump(model, 'saved_model/lasso.joblib')"
   ]
  },
  {
   "cell_type": "code",
   "execution_count": null,
   "id": "wound-jungle",
   "metadata": {},
   "outputs": [],
   "source": []
  }
 ],
 "metadata": {
  "kernelspec": {
   "display_name": "Python 3 (ipykernel)",
   "language": "python",
   "name": "python3"
  },
  "language_info": {
   "codemirror_mode": {
    "name": "ipython",
    "version": 3
   },
   "file_extension": ".py",
   "mimetype": "text/x-python",
   "name": "python",
   "nbconvert_exporter": "python",
   "pygments_lexer": "ipython3",
   "version": "3.8.10"
  }
 },
 "nbformat": 4,
 "nbformat_minor": 5
}
